{
  "nbformat": 4,
  "nbformat_minor": 0,
  "metadata": {
    "colab": {
      "provenance": [],
      "gpuType": "T4"
    },
    "kernelspec": {
      "name": "python3",
      "display_name": "Python 3"
    },
    "language_info": {
      "name": "python"
    },
    "accelerator": "GPU"
  },
  "cells": [
    {
      "cell_type": "code",
      "source": [
        "from google.colab import drive\n",
        "\n",
        "drive.mount('/content/drive/', force_remount=True)"
      ],
      "metadata": {
        "colab": {
          "base_uri": "https://localhost:8080/",
          "height": 336
        },
        "id": "oQCXYegJuf8n",
        "outputId": "27808645-b89e-4a45-a2a5-78a856868e26"
      },
      "execution_count": null,
      "outputs": [
        {
          "output_type": "error",
          "ename": "MessageError",
          "evalue": "Error: credential propagation was unsuccessful",
          "traceback": [
            "\u001b[0;31m---------------------------------------------------------------------------\u001b[0m",
            "\u001b[0;31mMessageError\u001b[0m                              Traceback (most recent call last)",
            "\u001b[0;32m<ipython-input-3-a03de94c3c92>\u001b[0m in \u001b[0;36m<cell line: 3>\u001b[0;34m()\u001b[0m\n\u001b[1;32m      1\u001b[0m \u001b[0;32mfrom\u001b[0m \u001b[0mgoogle\u001b[0m\u001b[0;34m.\u001b[0m\u001b[0mcolab\u001b[0m \u001b[0;32mimport\u001b[0m \u001b[0mdrive\u001b[0m\u001b[0;34m\u001b[0m\u001b[0;34m\u001b[0m\u001b[0m\n\u001b[1;32m      2\u001b[0m \u001b[0;34m\u001b[0m\u001b[0m\n\u001b[0;32m----> 3\u001b[0;31m \u001b[0mdrive\u001b[0m\u001b[0;34m.\u001b[0m\u001b[0mmount\u001b[0m\u001b[0;34m(\u001b[0m\u001b[0;34m'/content/drive/'\u001b[0m\u001b[0;34m,\u001b[0m \u001b[0mforce_remount\u001b[0m\u001b[0;34m=\u001b[0m\u001b[0;32mTrue\u001b[0m\u001b[0;34m)\u001b[0m\u001b[0;34m\u001b[0m\u001b[0;34m\u001b[0m\u001b[0m\n\u001b[0m",
            "\u001b[0;32m/usr/local/lib/python3.10/dist-packages/google/colab/drive.py\u001b[0m in \u001b[0;36mmount\u001b[0;34m(mountpoint, force_remount, timeout_ms, readonly)\u001b[0m\n\u001b[1;32m     98\u001b[0m \u001b[0;32mdef\u001b[0m \u001b[0mmount\u001b[0m\u001b[0;34m(\u001b[0m\u001b[0mmountpoint\u001b[0m\u001b[0;34m,\u001b[0m \u001b[0mforce_remount\u001b[0m\u001b[0;34m=\u001b[0m\u001b[0;32mFalse\u001b[0m\u001b[0;34m,\u001b[0m \u001b[0mtimeout_ms\u001b[0m\u001b[0;34m=\u001b[0m\u001b[0;36m120000\u001b[0m\u001b[0;34m,\u001b[0m \u001b[0mreadonly\u001b[0m\u001b[0;34m=\u001b[0m\u001b[0;32mFalse\u001b[0m\u001b[0;34m)\u001b[0m\u001b[0;34m:\u001b[0m\u001b[0;34m\u001b[0m\u001b[0;34m\u001b[0m\u001b[0m\n\u001b[1;32m     99\u001b[0m   \u001b[0;34m\"\"\"Mount your Google Drive at the specified mountpoint path.\"\"\"\u001b[0m\u001b[0;34m\u001b[0m\u001b[0;34m\u001b[0m\u001b[0m\n\u001b[0;32m--> 100\u001b[0;31m   return _mount(\n\u001b[0m\u001b[1;32m    101\u001b[0m       \u001b[0mmountpoint\u001b[0m\u001b[0;34m,\u001b[0m\u001b[0;34m\u001b[0m\u001b[0;34m\u001b[0m\u001b[0m\n\u001b[1;32m    102\u001b[0m       \u001b[0mforce_remount\u001b[0m\u001b[0;34m=\u001b[0m\u001b[0mforce_remount\u001b[0m\u001b[0;34m,\u001b[0m\u001b[0;34m\u001b[0m\u001b[0;34m\u001b[0m\u001b[0m\n",
            "\u001b[0;32m/usr/local/lib/python3.10/dist-packages/google/colab/drive.py\u001b[0m in \u001b[0;36m_mount\u001b[0;34m(mountpoint, force_remount, timeout_ms, ephemeral, readonly)\u001b[0m\n\u001b[1;32m    127\u001b[0m   )\n\u001b[1;32m    128\u001b[0m   \u001b[0;32mif\u001b[0m \u001b[0mephemeral\u001b[0m\u001b[0;34m:\u001b[0m\u001b[0;34m\u001b[0m\u001b[0;34m\u001b[0m\u001b[0m\n\u001b[0;32m--> 129\u001b[0;31m     _message.blocking_request(\n\u001b[0m\u001b[1;32m    130\u001b[0m         \u001b[0;34m'request_auth'\u001b[0m\u001b[0;34m,\u001b[0m \u001b[0mrequest\u001b[0m\u001b[0;34m=\u001b[0m\u001b[0;34m{\u001b[0m\u001b[0;34m'authType'\u001b[0m\u001b[0;34m:\u001b[0m \u001b[0;34m'dfs_ephemeral'\u001b[0m\u001b[0;34m}\u001b[0m\u001b[0;34m,\u001b[0m \u001b[0mtimeout_sec\u001b[0m\u001b[0;34m=\u001b[0m\u001b[0;32mNone\u001b[0m\u001b[0;34m\u001b[0m\u001b[0;34m\u001b[0m\u001b[0m\n\u001b[1;32m    131\u001b[0m     )\n",
            "\u001b[0;32m/usr/local/lib/python3.10/dist-packages/google/colab/_message.py\u001b[0m in \u001b[0;36mblocking_request\u001b[0;34m(request_type, request, timeout_sec, parent)\u001b[0m\n\u001b[1;32m    174\u001b[0m       \u001b[0mrequest_type\u001b[0m\u001b[0;34m,\u001b[0m \u001b[0mrequest\u001b[0m\u001b[0;34m,\u001b[0m \u001b[0mparent\u001b[0m\u001b[0;34m=\u001b[0m\u001b[0mparent\u001b[0m\u001b[0;34m,\u001b[0m \u001b[0mexpect_reply\u001b[0m\u001b[0;34m=\u001b[0m\u001b[0;32mTrue\u001b[0m\u001b[0;34m\u001b[0m\u001b[0;34m\u001b[0m\u001b[0m\n\u001b[1;32m    175\u001b[0m   )\n\u001b[0;32m--> 176\u001b[0;31m   \u001b[0;32mreturn\u001b[0m \u001b[0mread_reply_from_input\u001b[0m\u001b[0;34m(\u001b[0m\u001b[0mrequest_id\u001b[0m\u001b[0;34m,\u001b[0m \u001b[0mtimeout_sec\u001b[0m\u001b[0;34m)\u001b[0m\u001b[0;34m\u001b[0m\u001b[0;34m\u001b[0m\u001b[0m\n\u001b[0m",
            "\u001b[0;32m/usr/local/lib/python3.10/dist-packages/google/colab/_message.py\u001b[0m in \u001b[0;36mread_reply_from_input\u001b[0;34m(message_id, timeout_sec)\u001b[0m\n\u001b[1;32m    101\u001b[0m     ):\n\u001b[1;32m    102\u001b[0m       \u001b[0;32mif\u001b[0m \u001b[0;34m'error'\u001b[0m \u001b[0;32min\u001b[0m \u001b[0mreply\u001b[0m\u001b[0;34m:\u001b[0m\u001b[0;34m\u001b[0m\u001b[0;34m\u001b[0m\u001b[0m\n\u001b[0;32m--> 103\u001b[0;31m         \u001b[0;32mraise\u001b[0m \u001b[0mMessageError\u001b[0m\u001b[0;34m(\u001b[0m\u001b[0mreply\u001b[0m\u001b[0;34m[\u001b[0m\u001b[0;34m'error'\u001b[0m\u001b[0;34m]\u001b[0m\u001b[0;34m)\u001b[0m\u001b[0;34m\u001b[0m\u001b[0;34m\u001b[0m\u001b[0m\n\u001b[0m\u001b[1;32m    104\u001b[0m       \u001b[0;32mreturn\u001b[0m \u001b[0mreply\u001b[0m\u001b[0;34m.\u001b[0m\u001b[0mget\u001b[0m\u001b[0;34m(\u001b[0m\u001b[0;34m'data'\u001b[0m\u001b[0;34m,\u001b[0m \u001b[0;32mNone\u001b[0m\u001b[0;34m)\u001b[0m\u001b[0;34m\u001b[0m\u001b[0;34m\u001b[0m\u001b[0m\n\u001b[1;32m    105\u001b[0m \u001b[0;34m\u001b[0m\u001b[0m\n",
            "\u001b[0;31mMessageError\u001b[0m: Error: credential propagation was unsuccessful"
          ]
        }
      ]
    },
    {
      "cell_type": "code",
      "source": [
        "import zipfile\n",
        "import subprocess\n",
        "import os\n",
        "import matplotlib.pyplot as plt\n",
        "import torch\n",
        "import torch.nn as nn\n",
        "import torch.nn.functional as F\n",
        "from torchvision import datasets, transforms\n",
        "import torchsummary\n",
        "import numpy as np\n",
        "from PIL import Image\n",
        "from PIL import ImageFile\n",
        "import json\n",
        "import cv2\n",
        "import time\n",
        "from concurrent.futures import ThreadPoolExecutor, as_completed\n",
        "import random\n",
        "\n",
        "ImageFile.LOAD_TRUNCATED_IMAGES = True"
      ],
      "metadata": {
        "id": "m4JeK62MzmhT"
      },
      "execution_count": null,
      "outputs": []
    },
    {
      "cell_type": "code",
      "source": [
        "def seed_everything(seed=42):\n",
        "    \"\"\"\n",
        "    모든 랜덤 시드를 주어진 값으로 고정합니다.\n",
        "    \"\"\"\n",
        "    random.seed(seed)  # Python random 모듈\n",
        "    np.random.seed(seed)  # Numpy 랜덤 시드\n",
        "    torch.manual_seed(seed)  # PyTorch 랜덤 시드\n",
        "    torch.cuda.manual_seed(seed)  # GPU를 위한 PyTorch 랜덤 시드\n",
        "    torch.cuda.manual_seed_all(seed)  # 멀티 GPU를 위한 PyTorch 랜덤 시드\n",
        "\n",
        "seed_everything()"
      ],
      "metadata": {
        "id": "q3Aej2u0R-aR"
      },
      "execution_count": null,
      "outputs": []
    },
    {
      "cell_type": "code",
      "source": [
        "class CustomDataset(torch.utils.data.Dataset):\n",
        "    def __init__(self, image_zip_paths, label_zip_paths, cache_dir, transform=None, workers=4):\n",
        "        super().__init__()\n",
        "        self.image_zip_paths = image_zip_paths\n",
        "        self.label_zip_paths = label_zip_paths\n",
        "        self.cache_dir = cache_dir\n",
        "        self.transform = transform\n",
        "        self.workers = workers\n",
        "\n",
        "        if not os.path.exists(self.cache_dir):\n",
        "            os.makedirs(self.cache_dir, exist_ok=True)\n",
        "\n",
        "        self.image_names = {}\n",
        "        self.label_names = {}\n",
        "        self.image_list = []\n",
        "\n",
        "        self._prepare()\n",
        "\n",
        "    def _extract_and_cache(self, zip_path, file_name, cache_file_path, attempts=3):\n",
        "        if os.path.exists(cache_file_path):\n",
        "            return True\n",
        "\n",
        "        command = [\"unzip\", \"-o\", zip_path, file_name, \"-d\", os.path.dirname(cache_file_path)]\n",
        "\n",
        "        for attempt in range(attempts):\n",
        "            result = subprocess.run(command, check=False, stdout=subprocess.PIPE, stderr=subprocess.PIPE)\n",
        "            # 성공적으로 압축 해제되었거나, 경고만 있는 경우\n",
        "            if result.returncode == 0 or \"warning\" in result.stderr.decode().lower():\n",
        "                return True\n",
        "            else:\n",
        "                # 오류 메시지가 있고, 재시도 횟수가 남아있는 경우\n",
        "                print(f\"Attempt {attempt + 1}: Error unzipping file => {zip_path}\")\n",
        "                time.sleep(2 ** attempt)\n",
        "\n",
        "        # 모든 시도가 실패한 경우\n",
        "        print(f\"Failed to extract {file_name}\")\n",
        "        return False\n",
        "\n",
        "    def _prepare(self):\n",
        "        max_tries = 3\n",
        "        wait_seconds = 10\n",
        "\n",
        "        # 각 zip 파일에 대한 재시도 횟수를 추적\n",
        "        retries = {zip_path: 0 for zip_path in self.image_zip_paths + self.label_zip_paths}\n",
        "\n",
        "        # 전체 압축 파일 리스트\n",
        "        to_process = [(zip_path, '.png') for zip_path in self.image_zip_paths] + [(zip_path, '.json') for zip_path in self.label_zip_paths]\n",
        "\n",
        "        while to_process:\n",
        "            # 병렬처리\n",
        "            with ThreadPoolExecutor(max_workers=self.workers) as executor:\n",
        "                future_to_zip_path = {\n",
        "                    executor.submit(self._process_zip, zip_path, file_extension): (zip_path, file_extension)\n",
        "                    for zip_path, file_extension in to_process\n",
        "                }\n",
        "\n",
        "                # 처리 중 예외 발생 시 재시도할 작업 목록\n",
        "                to_retry = []\n",
        "\n",
        "                # future 객체의 작업완료 상황을 모니터링\n",
        "                for future in as_completed(future_to_zip_path):\n",
        "                    zip_path, file_extension = future_to_zip_path[future]\n",
        "\n",
        "                    try:\n",
        "                        success = future.result()\n",
        "                        if not success:\n",
        "                            raise Exception(f\"Failed to process {zip_path}\")\n",
        "\n",
        "                    except OSError as e: # 구글드라이브와의 연결로 인한 예외처리\n",
        "                        if e.errno == 107 and retries[zip_path] < max_tries:\n",
        "                            print(f\"OSError [Errno 107] => {zip_path}\")\n",
        "                            to_retry.append((zip_path, file_extension))\n",
        "                            retries[zip_path] += 1\n",
        "                            time.sleep(wait_seconds)  # 각 재시도 사이에 대기\n",
        "                            wait_seconds *= 2  # 대기 시간 증가\n",
        "                        else:\n",
        "                            print(f\"Unexpected Error : {zip_path}: {e}\")\n",
        "\n",
        "                    except Exception as e:\n",
        "                        print(f\"Exception processing {zip_path}: {e}\")\n",
        "\n",
        "                # 재시도할 작업이 있으면 to_process 업데이트\n",
        "                to_process = to_retry if to_retry else []\n",
        "\n",
        "        self.image_list = sorted(self.image_names.keys())\n",
        "\n",
        "    def _process_zip(self, zip_path, file_extension):\n",
        "        success = True\n",
        "        with zipfile.ZipFile(zip_path, 'r') as zip_ref:\n",
        "\n",
        "            for file_name in sorted(zip_ref.namelist()):\n",
        "\n",
        "                if file_name.endswith(file_extension):\n",
        "                    base_name = os.path.splitext(os.path.basename(file_name))[0].lstrip('_')  # 확장자 제외 파일 기본 이름\n",
        "\n",
        "                    # 데이터 접근시 사용할 경로\n",
        "                    cache_file_path = os.path.join(self.cache_dir, os.path.basename(zip_path).replace('.zip', ''), file_name.replace('/', '_').lstrip('_'))\n",
        "\n",
        "                    if file_extension == '.png':\n",
        "                        self.image_names[base_name.lower()] = cache_file_path\n",
        "                    else:\n",
        "                        self.label_names[base_name.lower()] = cache_file_path\n",
        "\n",
        "                    extract_success = self._extract_and_cache(zip_path, file_name, cache_file_path)\n",
        "                    success = success and extract_success\n",
        "\n",
        "        return success\n",
        "\n",
        "    def __len__(self):\n",
        "        return len(self.image_names)\n",
        "\n",
        "    def __getitem__(self, idx):\n",
        "        # 파일 이름을 키 리스트에서 추출\n",
        "        base_name = self.image_list[idx]\n",
        "\n",
        "        image_path = self.image_names.get(base_name)\n",
        "\n",
        "        try:\n",
        "            image = Image.open(image_path)\n",
        "        except Exception as e:\n",
        "            return None\n",
        "\n",
        "        label_path = self.label_names.get(base_name)\n",
        "        with open(label_path, 'r') as f:\n",
        "            label_data = json.load(f)\n",
        "\n",
        "        age_past = label_data['age_past']\n",
        "        gender = label_data['gender']\n",
        "        box = label_data['annotation'][0]['box']\n",
        "\n",
        "        image = image.crop((box['x'], box['y'], box['x'] + box['w'], box['y'] + box['h']))\n",
        "\n",
        "        if self.transform:\n",
        "            image = self.transform(image)\n",
        "\n",
        "        gender_label = 0 if gender == 'male' else 1\n",
        "\n",
        "        label = {'age_past': age_past, 'gender': gender_label}\n",
        "\n",
        "        return image, label\n"
      ],
      "metadata": {
        "id": "LqLZA6YqaVI1"
      },
      "execution_count": null,
      "outputs": []
    },
    {
      "cell_type": "code",
      "source": [
        "transform_train = transforms.Compose([\n",
        "    transforms.RandomRotation(5),\n",
        "    transforms.RandomHorizontalFlip(),\n",
        "    transforms.Resize((224, 224)),\n",
        "    transforms.ToTensor(),\n",
        "    transforms.Normalize((0.6284, 0.4901, 0.4325), (0.1869, 0.1712, 0.1561))\n",
        "])\n",
        "\n",
        "transform_val = transforms.Compose([\n",
        "    transforms.Resize((224, 224)),\n",
        "    transforms.ToTensor(),\n",
        "    transforms.Normalize((0.6284, 0.4901, 0.4325), (0.1869, 0.1712, 0.1561))\n",
        "])"
      ],
      "metadata": {
        "id": "dvBmQ0JM9Hmd"
      },
      "execution_count": null,
      "outputs": []
    },
    {
      "cell_type": "code",
      "source": [
        "def get_zip_files(directory):\n",
        "    return [os.path.join(directory, zip) for zip in os.listdir(directory) if zip.endswith('.zip')] # 리스트를 정렬하면 속도 하락\n",
        "\n",
        "train_images = '/content/drive/MyDrive/DL_Project/data/Training/image'\n",
        "train_labels = '/content/drive/MyDrive/DL_Project/data/Training/label'\n",
        "train_cache = '/content/cache/train'\n",
        "\n",
        "val_images = '/content/drive/MyDrive/DL_Project/data/Validation/image'\n",
        "val_labels = '/content/drive/MyDrive/DL_Project/data/Validation/label'\n",
        "val_cache = '/content/cache/val'\n",
        "\n",
        "train_image_zips = get_zip_files(train_images)\n",
        "train_label_zips = get_zip_files(train_labels)\n",
        "val_image_zips = get_zip_files(val_images)\n",
        "val_label_zips = get_zip_files(val_labels)"
      ],
      "metadata": {
        "id": "TSmpmi_f2sVh"
      },
      "execution_count": null,
      "outputs": []
    },
    {
      "cell_type": "code",
      "source": [
        "train_image_zips[:3]"
      ],
      "metadata": {
        "colab": {
          "base_uri": "https://localhost:8080/"
        },
        "id": "IQipgDemV4oh",
        "outputId": "2e70592a-1346-4e1a-8e09-39b19fe9f812"
      },
      "execution_count": null,
      "outputs": [
        {
          "output_type": "execute_result",
          "data": {
            "text/plain": [
              "['/content/drive/MyDrive/DL_Project/data/Training/image/TS_0805.zip',\n",
              " '/content/drive/MyDrive/DL_Project/data/Training/image/TS_0631.zip',\n",
              " '/content/drive/MyDrive/DL_Project/data/Training/image/TS_0576.zip']"
            ]
          },
          "metadata": {},
          "execution_count": 7
        }
      ]
    },
    {
      "cell_type": "code",
      "source": [
        "%time train_dataset = CustomDataset(train_image_zips, train_label_zips, train_cache, transform_train)"
      ],
      "metadata": {
        "colab": {
          "base_uri": "https://localhost:8080/"
        },
        "id": "Z5sh35etoByU",
        "outputId": "687b0eb4-651b-480a-8f58-63b89dcdae33"
      },
      "execution_count": null,
      "outputs": [
        {
          "output_type": "stream",
          "name": "stdout",
          "text": [
            "CPU times: user 35.3 s, sys: 17.4 s, total: 52.8 s\n",
            "Wall time: 38min 10s\n"
          ]
        }
      ]
    },
    {
      "cell_type": "code",
      "source": [
        "%time val_dataset = CustomDataset(val_image_zips, val_label_zips, val_cache, transform_val)"
      ],
      "metadata": {
        "id": "bBrea_zXmnqD",
        "colab": {
          "base_uri": "https://localhost:8080/"
        },
        "outputId": "0d48b516-8602-4fda-f181-f3ca87a575b6"
      },
      "execution_count": null,
      "outputs": [
        {
          "output_type": "stream",
          "name": "stdout",
          "text": [
            "CPU times: user 4.37 s, sys: 2.18 s, total: 6.55 s\n",
            "Wall time: 4min 31s\n"
          ]
        }
      ]
    },
    {
      "cell_type": "code",
      "source": [
        "def custom_collate_fn(batch):\n",
        "    batch = [item for item in batch if item is not None]\n",
        "    return torch.utils.data.dataloader.default_collate(batch)"
      ],
      "metadata": {
        "id": "wjSTv5TojZtu"
      },
      "execution_count": null,
      "outputs": []
    },
    {
      "cell_type": "code",
      "source": [
        "batch_size = 64\n",
        "\n",
        "train_loader = torch.utils.data.DataLoader(\n",
        "    dataset=train_dataset,\n",
        "    collate_fn=custom_collate_fn,\n",
        "    batch_size=batch_size,\n",
        "    shuffle=True,\n",
        "    num_workers=2,\n",
        "    prefetch_factor=4\n",
        ")\n",
        "\n",
        "val_loader = torch.utils.data.DataLoader(\n",
        "    dataset=val_dataset,\n",
        "    collate_fn=custom_collate_fn,\n",
        "    batch_size=batch_size,\n",
        "    num_workers=2,\n",
        "    prefetch_factor=4\n",
        ")"
      ],
      "metadata": {
        "id": "BXNcznsi9-yA"
      },
      "execution_count": null,
      "outputs": []
    },
    {
      "cell_type": "code",
      "source": [
        "x, y = next(iter(train_loader))\n",
        "x.shape"
      ],
      "metadata": {
        "id": "HC0xKBBb-Rbj",
        "colab": {
          "base_uri": "https://localhost:8080/"
        },
        "outputId": "db7462b2-6b53-414b-b56f-39f712f9d62c"
      },
      "execution_count": null,
      "outputs": [
        {
          "output_type": "execute_result",
          "data": {
            "text/plain": [
              "torch.Size([64, 3, 224, 224])"
            ]
          },
          "metadata": {},
          "execution_count": 12
        }
      ]
    },
    {
      "cell_type": "code",
      "source": [
        "y['age_past'][0]"
      ],
      "metadata": {
        "colab": {
          "base_uri": "https://localhost:8080/"
        },
        "id": "jfUJ7QKKZCZW",
        "outputId": "08375897-0062-4d00-ebfb-26a1242eafd4"
      },
      "execution_count": null,
      "outputs": [
        {
          "output_type": "execute_result",
          "data": {
            "text/plain": [
              "tensor(20)"
            ]
          },
          "metadata": {},
          "execution_count": 23
        }
      ]
    },
    {
      "cell_type": "code",
      "source": [
        "y['age_past'].shape, y['gender'].shape"
      ],
      "metadata": {
        "id": "dJSln4Ba-rKT",
        "colab": {
          "base_uri": "https://localhost:8080/"
        },
        "outputId": "223e6acc-fdf3-4b3c-d6b2-5fe60be7306b"
      },
      "execution_count": null,
      "outputs": [
        {
          "output_type": "execute_result",
          "data": {
            "text/plain": [
              "(torch.Size([64]), torch.Size([64]))"
            ]
          },
          "metadata": {},
          "execution_count": 24
        }
      ]
    },
    {
      "cell_type": "code",
      "source": [
        "device = torch.device('cuda' if torch.cuda.is_available() else 'cpu')\n",
        "print(device)"
      ],
      "metadata": {
        "id": "a3wCDUbTQ9OF",
        "colab": {
          "base_uri": "https://localhost:8080/"
        },
        "outputId": "885af50e-fa4c-4595-9f49-01137abbab70"
      },
      "execution_count": null,
      "outputs": [
        {
          "output_type": "stream",
          "name": "stdout",
          "text": [
            "cuda\n"
          ]
        }
      ]
    },
    {
      "cell_type": "code",
      "source": [
        "class Gender_Net(nn.Module):\n",
        "    def __init__(self):\n",
        "        super().__init__()\n",
        "        self.conv1 = nn.Conv2d(3, 32, kernel_size=3)\n",
        "        self.conv2 = nn.Conv2d(32, 64, kernel_size=3)\n",
        "        self.conv3 = nn.Conv2d(64, 128, kernel_size=3)\n",
        "        self.conv4 = nn.Conv2d(128, 256, kernel_size=3)\n",
        "        self.conv5 = nn.Conv2d(256, 512, kernel_size=3)\n",
        "\n",
        "        self.pool = nn.MaxPool2d(kernel_size=3, stride=2)\n",
        "\n",
        "        self.fc1 = nn.Linear(512 * 4 * 4, 512)\n",
        "        # fc1 제외 후 average pooling\n",
        "        self.dropout = nn.Dropout(0.25)\n",
        "        self.fc2 = nn.Linear(512, 1)\n",
        "\n",
        "    def forward(self, x):\n",
        "        x = self.pool(F.relu(self.conv1(x)))\n",
        "        x = self.pool(F.relu(self.conv2(x)))\n",
        "        x = self.pool(F.relu(self.conv3(x)))\n",
        "        x = self.pool(F.relu(self.conv4(x)))\n",
        "        x = self.pool(F.relu(self.conv5(x)))\n",
        "\n",
        "        x = x.view(-1, 512 * 4 * 4)\n",
        "        x = F.relu(self.fc1(self.dropout(x)))\n",
        "        x = self.fc2(x)\n",
        "        # x = torch.sigmoid(self.fc2(x))\n",
        "        x = x.squeeze()\n",
        "        return x"
      ],
      "metadata": {
        "id": "t0rJc-tqHzfS"
      },
      "execution_count": null,
      "outputs": []
    },
    {
      "cell_type": "code",
      "source": [
        "gender_model = Gender_Net().to(device)\n",
        "torchsummary.summary(gender_model, (3, 224, 224))"
      ],
      "metadata": {
        "id": "t6bsFnItMeAs",
        "colab": {
          "base_uri": "https://localhost:8080/"
        },
        "outputId": "513371d0-d43c-4420-dd52-702d1a411e57"
      },
      "execution_count": null,
      "outputs": [
        {
          "output_type": "stream",
          "name": "stdout",
          "text": [
            "----------------------------------------------------------------\n",
            "        Layer (type)               Output Shape         Param #\n",
            "================================================================\n",
            "            Conv2d-1         [-1, 32, 222, 222]             896\n",
            "         MaxPool2d-2         [-1, 32, 110, 110]               0\n",
            "            Conv2d-3         [-1, 64, 108, 108]          18,496\n",
            "         MaxPool2d-4           [-1, 64, 53, 53]               0\n",
            "            Conv2d-5          [-1, 128, 51, 51]          73,856\n",
            "         MaxPool2d-6          [-1, 128, 25, 25]               0\n",
            "            Conv2d-7          [-1, 256, 23, 23]         295,168\n",
            "         MaxPool2d-8          [-1, 256, 11, 11]               0\n",
            "            Conv2d-9            [-1, 512, 9, 9]       1,180,160\n",
            "        MaxPool2d-10            [-1, 512, 4, 4]               0\n",
            "          Dropout-11                 [-1, 8192]               0\n",
            "           Linear-12                  [-1, 512]       4,194,816\n",
            "           Linear-13                    [-1, 1]             513\n",
            "================================================================\n",
            "Total params: 5,763,905\n",
            "Trainable params: 5,763,905\n",
            "Non-trainable params: 0\n",
            "----------------------------------------------------------------\n",
            "Input size (MB): 0.57\n",
            "Forward/backward pass size (MB): 26.92\n",
            "Params size (MB): 21.99\n",
            "Estimated Total Size (MB): 49.48\n",
            "----------------------------------------------------------------\n"
          ]
        }
      ]
    },
    {
      "cell_type": "code",
      "source": [
        "from torch.optim.lr_scheduler import ReduceLROnPlateau\n",
        "import torch.optim as optim\n",
        "\n",
        "opt_gender = optim.Adam(gender_model.parameters(), lr=0.0003)\n",
        "gender_lr_scheduler = ReduceLROnPlateau(opt_gender, mode='min', verbose=True)"
      ],
      "metadata": {
        "id": "ujNm-g_RO3r0"
      },
      "execution_count": null,
      "outputs": []
    },
    {
      "cell_type": "code",
      "source": [
        "class EarlyStopping:\n",
        "    def __init__(self, patience=5, verbose=False, delta=0):\n",
        "        self.patience = patience\n",
        "        self.verbose = verbose\n",
        "        self.delta = delta\n",
        "        self.best_loss = np.inf\n",
        "        self.early_stop = False\n",
        "        self.counter = 0\n",
        "\n",
        "    def __call__(self, val_loss):\n",
        "        if self.best_loss - val_loss > self.delta:\n",
        "            self.best_loss = val_loss\n",
        "            self.counter = 0\n",
        "        else:\n",
        "            self.counter += 1\n",
        "            if self.counter >= self.patience:\n",
        "                self.early_stop = True\n",
        "                if self.verbose:\n",
        "                    print(\"Early stopping\")"
      ],
      "metadata": {
        "id": "Hx8_usRMTCus"
      },
      "execution_count": null,
      "outputs": []
    },
    {
      "cell_type": "code",
      "source": [
        "early_stopping = EarlyStopping(patience=5, verbose=True)"
      ],
      "metadata": {
        "id": "ndXBKj_zTTVB"
      },
      "execution_count": null,
      "outputs": []
    },
    {
      "cell_type": "code",
      "source": [
        "def save_model(epoch, model, optimizer, path):\n",
        "    torch.save({\n",
        "        'epoch': epoch,\n",
        "        'model_state_dict': model.state_dict(),\n",
        "        'optimizer_state_dict': optimizer.state_dict(),\n",
        "    }, path)"
      ],
      "metadata": {
        "id": "7DU8WjVus4Iw"
      },
      "execution_count": null,
      "outputs": []
    },
    {
      "cell_type": "code",
      "source": [
        "def load_model(model, optimizer, path):\n",
        "    checkpoint = torch.load(path)\n",
        "    model.load_state_dict(checkpoint['model_state_dict'])\n",
        "    optimizer.load_state_dict(checkpoint['optimizer_state_dict'])\n",
        "    epoch = checkpoint['epoch']\n",
        "    return model, optimizer, epoch"
      ],
      "metadata": {
        "id": "kHEuSHa4nG19"
      },
      "execution_count": null,
      "outputs": []
    },
    {
      "cell_type": "code",
      "source": [
        "def train_loop_gender(dataloader, model, loss_fn, optimizer, epoch):\n",
        "    model.train()\n",
        "    size = len(dataloader.dataset)\n",
        "    total_loss = 0.0\n",
        "    start_time = time.time()  # 에포크 시작 시간\n",
        "\n",
        "    for batch, (x, y) in enumerate(dataloader):\n",
        "        batch_start_time = time.time()  # 배치 처리 시작 시간\n",
        "        x, y = x.to(device), y['gender'].float().to(device)\n",
        "        pred = model(x)\n",
        "        loss = loss_fn(pred.squeeze(), y)\n",
        "\n",
        "        optimizer.zero_grad()\n",
        "        loss.backward()\n",
        "        optimizer.step()\n",
        "        total_loss += loss.item()\n",
        "\n",
        "        batch_process_time = time.time() - batch_start_time\n",
        "\n",
        "        if batch % 10 == 0:\n",
        "            processed = (batch + 1) * len(x)\n",
        "            print(f'Epoch {epoch+1} : [{processed} / {size}] loss : {loss.item()}, Batch time: {batch_process_time:.4f} sec')\n",
        "\n",
        "    average_loss = total_loss / len(dataloader)\n",
        "    epoch_time = time.time() - start_time\n",
        "\n",
        "    print(f\"Epoch {epoch+1} finished, Total Epoch time: {epoch_time:.4f} sec\")\n",
        "    return average_loss\n"
      ],
      "metadata": {
        "id": "q_9ev89ytknF"
      },
      "execution_count": null,
      "outputs": []
    },
    {
      "cell_type": "code",
      "source": [
        "def validation_loop_gender(dataloader, model, loss_fn, device):\n",
        "    model.eval()\n",
        "    val_loss = 0.0\n",
        "    with torch.no_grad():\n",
        "        for x, y in dataloader:\n",
        "            x, y = x.to(device), y['gender'].float().to(device)\n",
        "            pred = model(x)\n",
        "            loss = loss_fn(pred, y)\n",
        "            val_loss += loss.item()\n",
        "    val_loss /= len(dataloader)\n",
        "    return val_loss"
      ],
      "metadata": {
        "id": "poLyFmi-kYey"
      },
      "execution_count": null,
      "outputs": []
    },
    {
      "cell_type": "code",
      "source": [
        "start = time.time()\n",
        "for epoch in range(30):\n",
        "    gender_loss = train_loop_gender(train_loader, gender_model, nn.BCEWithLogitsLoss(), opt_gender, epoch)\n",
        "    val_loss = validation_loop_gender(val_loader, gender_model, nn.BCEWithLogitsLoss(), device)\n",
        "    gender_lr_scheduler.step(val_loss)\n",
        "    early_stopping(val_loss)\n",
        "\n",
        "    if early_stopping.early_stop:\n",
        "        print(\"Early stopping triggered\")\n",
        "        save_model(epoch, gender_model, opt_gender, '/content/drive/MyDrive/models/gender_model_checkpoint.pth')\n",
        "        break\n",
        "\n",
        "    save_model(epoch, gender_model, opt_gender, f'/content/drive/MyDrive/models/gender_model_checkpoint_epoch_{epoch+1}.pth')\n",
        "    print(f'Epoch : {epoch+1}, Loss : {gender_loss}, Val_loss : {val_loss}')\n",
        "\n",
        "total_time = time.time() - start\n",
        "hours, rem = divmod(total_time, 3600)\n",
        "minutes, seconds = divmod(rem, 60)\n",
        "print(\"Total training time: {:0>2}:{:0>2}:{:05.2f}\".format(int(hours),int(minutes),seconds))"
      ],
      "metadata": {
        "id": "HOfo7N6gkeyj",
        "colab": {
          "base_uri": "https://localhost:8080/",
          "height": 1000
        },
        "outputId": "b997c236-e57e-4dd5-8e66-035559720b2a"
      },
      "execution_count": null,
      "outputs": [
        {
          "metadata": {
            "tags": null
          },
          "name": "stdout",
          "output_type": "stream",
          "text": [
            "Epoch 1 : [64 / 40150] loss : 0.6937076449394226, Batch time: 0.8748 sec\n"
          ]
        },
        {
          "metadata": {
            "tags": null
          },
          "name": "stderr",
          "output_type": "stream",
          "text": [
            "/usr/local/lib/python3.10/dist-packages/PIL/Image.py:3167: DecompressionBombWarning: Image size (133505320 pixels) exceeds limit of 89478485 pixels, could be decompression bomb DOS attack.\n",
            "  warnings.warn(\n"
          ]
        },
        {
          "output_type": "stream",
          "name": "stdout",
          "text": [
            "Epoch 1 : [704 / 40150] loss : 0.6601604223251343, Batch time: 0.1530 sec\n",
            "Epoch 1 : [1344 / 40150] loss : 0.7328909635543823, Batch time: 0.1590 sec\n",
            "Epoch 1 : [1984 / 40150] loss : 0.60474693775177, Batch time: 0.1567 sec\n",
            "Epoch 1 : [2624 / 40150] loss : 0.5474061965942383, Batch time: 0.1603 sec\n",
            "Epoch 1 : [3264 / 40150] loss : 0.5055229067802429, Batch time: 0.1588 sec\n",
            "Epoch 1 : [3904 / 40150] loss : 0.6222735643386841, Batch time: 0.1592 sec\n",
            "Epoch 1 : [4544 / 40150] loss : 0.6536922454833984, Batch time: 0.1588 sec\n",
            "Epoch 1 : [5184 / 40150] loss : 0.5557518005371094, Batch time: 0.1604 sec\n",
            "Epoch 1 : [5824 / 40150] loss : 0.5735986232757568, Batch time: 0.1610 sec\n",
            "Epoch 1 : [6464 / 40150] loss : 0.5922532677650452, Batch time: 0.1548 sec\n",
            "Epoch 1 : [7104 / 40150] loss : 0.5353109836578369, Batch time: 0.1201 sec\n",
            "Epoch 1 : [7744 / 40150] loss : 0.6049013137817383, Batch time: 0.1601 sec\n",
            "Epoch 1 : [8384 / 40150] loss : 0.5580683350563049, Batch time: 0.1519 sec\n",
            "Epoch 1 : [9024 / 40150] loss : 0.5152577757835388, Batch time: 0.1589 sec\n",
            "Epoch 1 : [9664 / 40150] loss : 0.6383585929870605, Batch time: 0.1522 sec\n",
            "Epoch 1 : [10304 / 40150] loss : 0.4277305006980896, Batch time: 0.1605 sec\n",
            "Epoch 1 : [10944 / 40150] loss : 0.6471200585365295, Batch time: 0.1528 sec\n",
            "Epoch 1 : [11584 / 40150] loss : 0.5732489824295044, Batch time: 0.1596 sec\n",
            "Epoch 1 : [12224 / 40150] loss : 0.5441797375679016, Batch time: 0.1590 sec\n",
            "Epoch 1 : [12864 / 40150] loss : 0.5526031255722046, Batch time: 0.1605 sec\n",
            "Epoch 1 : [13504 / 40150] loss : 0.48841023445129395, Batch time: 0.1540 sec\n",
            "Epoch 1 : [14144 / 40150] loss : 0.6344205737113953, Batch time: 0.1593 sec\n",
            "Epoch 1 : [14784 / 40150] loss : 0.6517811417579651, Batch time: 0.1545 sec\n",
            "Epoch 1 : [15424 / 40150] loss : 0.49364912509918213, Batch time: 0.1602 sec\n",
            "Epoch 1 : [16064 / 40150] loss : 0.4896888732910156, Batch time: 0.1523 sec\n",
            "Epoch 1 : [16704 / 40150] loss : 0.5214810371398926, Batch time: 0.1551 sec\n",
            "Epoch 1 : [17344 / 40150] loss : 0.49890661239624023, Batch time: 0.1605 sec\n",
            "Epoch 1 : [17984 / 40150] loss : 0.5577139854431152, Batch time: 0.1586 sec\n",
            "Epoch 1 : [18624 / 40150] loss : 0.5462057590484619, Batch time: 0.1536 sec\n",
            "Epoch 1 : [19264 / 40150] loss : 0.6050243377685547, Batch time: 0.1592 sec\n",
            "Epoch 1 : [19904 / 40150] loss : 0.5362669229507446, Batch time: 0.1588 sec\n",
            "Epoch 1 : [20544 / 40150] loss : 0.586550772190094, Batch time: 0.1604 sec\n",
            "Epoch 1 : [21184 / 40150] loss : 0.5397455096244812, Batch time: 0.1202 sec\n",
            "Epoch 1 : [21824 / 40150] loss : 0.5873342752456665, Batch time: 0.1463 sec\n",
            "Epoch 1 : [22464 / 40150] loss : 0.5605066418647766, Batch time: 0.1227 sec\n",
            "Epoch 1 : [23104 / 40150] loss : 0.515570878982544, Batch time: 0.1556 sec\n",
            "Epoch 1 : [23744 / 40150] loss : 0.4985821843147278, Batch time: 0.1593 sec\n",
            "Epoch 1 : [24384 / 40150] loss : 0.46714019775390625, Batch time: 0.1580 sec\n",
            "Epoch 1 : [25024 / 40150] loss : 0.46666181087493896, Batch time: 0.1517 sec\n",
            "Epoch 1 : [25664 / 40150] loss : 0.4117322564125061, Batch time: 0.1525 sec\n",
            "Epoch 1 : [26304 / 40150] loss : 0.474420964717865, Batch time: 0.1588 sec\n",
            "Epoch 1 : [26944 / 40150] loss : 0.4510374665260315, Batch time: 0.1590 sec\n",
            "Epoch 1 : [27584 / 40150] loss : 0.3883097767829895, Batch time: 0.1537 sec\n",
            "Epoch 1 : [28224 / 40150] loss : 0.42064985632896423, Batch time: 0.1526 sec\n",
            "Epoch 1 : [28864 / 40150] loss : 0.6029629707336426, Batch time: 0.1540 sec\n",
            "Epoch 1 : [29504 / 40150] loss : 0.5880414247512817, Batch time: 0.1527 sec\n",
            "Epoch 1 : [30144 / 40150] loss : 0.4692763686180115, Batch time: 0.1521 sec\n",
            "Epoch 1 : [30784 / 40150] loss : 0.46521520614624023, Batch time: 0.1520 sec\n",
            "Epoch 1 : [31424 / 40150] loss : 0.42460665106773376, Batch time: 0.1588 sec\n",
            "Epoch 1 : [32064 / 40150] loss : 0.3659464418888092, Batch time: 0.1591 sec\n",
            "Epoch 1 : [32704 / 40150] loss : 0.39568066596984863, Batch time: 0.1589 sec\n"
          ]
        },
        {
          "output_type": "stream",
          "name": "stderr",
          "text": [
            "/usr/local/lib/python3.10/dist-packages/PIL/Image.py:3167: DecompressionBombWarning: Image size (108000000 pixels) exceeds limit of 89478485 pixels, could be decompression bomb DOS attack.\n",
            "  warnings.warn(\n"
          ]
        },
        {
          "output_type": "stream",
          "name": "stdout",
          "text": [
            "Epoch 1 : [33344 / 40150] loss : 0.5015974640846252, Batch time: 0.1559 sec\n",
            "Epoch 1 : [33984 / 40150] loss : 0.3023203909397125, Batch time: 0.1594 sec\n",
            "Epoch 1 : [34624 / 40150] loss : 0.5460443496704102, Batch time: 0.1607 sec\n",
            "Epoch 1 : [35264 / 40150] loss : 0.36545830965042114, Batch time: 0.1532 sec\n",
            "Epoch 1 : [35904 / 40150] loss : 0.506299614906311, Batch time: 0.1606 sec\n",
            "Epoch 1 : [36544 / 40150] loss : 0.39704322814941406, Batch time: 0.1593 sec\n",
            "Epoch 1 : [37184 / 40150] loss : 0.39568066596984863, Batch time: 0.1591 sec\n",
            "Epoch 1 : [37824 / 40150] loss : 0.4457339942455292, Batch time: 0.1596 sec\n",
            "Epoch 1 : [38464 / 40150] loss : 0.48012152314186096, Batch time: 0.1590 sec\n",
            "Epoch 1 : [39104 / 40150] loss : 0.3521636724472046, Batch time: 0.1526 sec\n",
            "Epoch 1 : [39744 / 40150] loss : 0.44189274311065674, Batch time: 0.1591 sec\n",
            "Epoch 1 finished, Total Epoch time: 1494.0841 sec\n",
            "Epoch : 1, Loss : 0.5123151285917895, Val_loss : 0.4354306417929975\n",
            "Epoch 2 : [64 / 40150] loss : 0.4467671513557434, Batch time: 0.1569 sec\n",
            "Epoch 2 : [704 / 40150] loss : 0.41334688663482666, Batch time: 0.1555 sec\n",
            "Epoch 2 : [1344 / 40150] loss : 0.38099515438079834, Batch time: 0.1555 sec\n",
            "Epoch 2 : [1984 / 40150] loss : 0.37359732389450073, Batch time: 0.1587 sec\n",
            "Epoch 2 : [2624 / 40150] loss : 0.37757131457328796, Batch time: 0.1589 sec\n",
            "Epoch 2 : [3264 / 40150] loss : 0.5273398160934448, Batch time: 0.1534 sec\n",
            "Epoch 2 : [3904 / 40150] loss : 0.4506625831127167, Batch time: 0.1591 sec\n"
          ]
        },
        {
          "output_type": "stream",
          "name": "stderr",
          "text": [
            "/usr/local/lib/python3.10/dist-packages/PIL/Image.py:3167: DecompressionBombWarning: Image size (133505320 pixels) exceeds limit of 89478485 pixels, could be decompression bomb DOS attack.\n",
            "  warnings.warn(\n"
          ]
        },
        {
          "output_type": "stream",
          "name": "stdout",
          "text": [
            "Epoch 2 : [4544 / 40150] loss : 0.3478432893753052, Batch time: 0.1606 sec\n",
            "Epoch 2 : [5184 / 40150] loss : 0.3818158507347107, Batch time: 0.1603 sec\n",
            "Epoch 2 : [5824 / 40150] loss : 0.36011457443237305, Batch time: 0.1595 sec\n",
            "Epoch 2 : [6464 / 40150] loss : 0.47642868757247925, Batch time: 0.1572 sec\n",
            "Epoch 2 : [7104 / 40150] loss : 0.3411126434803009, Batch time: 0.1554 sec\n",
            "Epoch 2 : [7744 / 40150] loss : 0.49002984166145325, Batch time: 0.1584 sec\n",
            "Epoch 2 : [8384 / 40150] loss : 0.5407499670982361, Batch time: 0.1591 sec\n",
            "Epoch 2 : [9024 / 40150] loss : 0.5251030921936035, Batch time: 0.1573 sec\n",
            "Epoch 2 : [9664 / 40150] loss : 0.40355223417282104, Batch time: 0.1605 sec\n",
            "Epoch 2 : [10304 / 40150] loss : 0.3143608570098877, Batch time: 0.1587 sec\n",
            "Epoch 2 : [10944 / 40150] loss : 0.47262102365493774, Batch time: 0.1590 sec\n",
            "Epoch 2 : [11584 / 40150] loss : 0.3069066107273102, Batch time: 0.1593 sec\n",
            "Epoch 2 : [12224 / 40150] loss : 0.3067569136619568, Batch time: 0.1589 sec\n"
          ]
        },
        {
          "output_type": "stream",
          "name": "stderr",
          "text": [
            "/usr/local/lib/python3.10/dist-packages/PIL/Image.py:3167: DecompressionBombWarning: Image size (108000000 pixels) exceeds limit of 89478485 pixels, could be decompression bomb DOS attack.\n",
            "  warnings.warn(\n"
          ]
        },
        {
          "output_type": "stream",
          "name": "stdout",
          "text": [
            "Epoch 2 : [12864 / 40150] loss : 0.3990822434425354, Batch time: 0.1552 sec\n",
            "Epoch 2 : [13504 / 40150] loss : 0.5064103007316589, Batch time: 0.1593 sec\n",
            "Epoch 2 : [14144 / 40150] loss : 0.44934603571891785, Batch time: 0.1588 sec\n",
            "Epoch 2 : [14784 / 40150] loss : 0.30782002210617065, Batch time: 0.1604 sec\n",
            "Epoch 2 : [15424 / 40150] loss : 0.5029808878898621, Batch time: 0.1524 sec\n",
            "Epoch 2 : [16064 / 40150] loss : 0.5410877466201782, Batch time: 0.1580 sec\n",
            "Epoch 2 : [16704 / 40150] loss : 0.44194433093070984, Batch time: 0.1585 sec\n",
            "Epoch 2 : [17344 / 40150] loss : 0.3266465663909912, Batch time: 0.1524 sec\n",
            "Epoch 2 : [17984 / 40150] loss : 0.40095099806785583, Batch time: 0.1586 sec\n",
            "Epoch 2 : [18624 / 40150] loss : 0.44602471590042114, Batch time: 0.1591 sec\n",
            "Epoch 2 : [19264 / 40150] loss : 0.3888053297996521, Batch time: 0.1595 sec\n",
            "Epoch 2 : [19904 / 40150] loss : 0.3570255935192108, Batch time: 0.1585 sec\n",
            "Epoch 2 : [20544 / 40150] loss : 0.2799256443977356, Batch time: 0.1606 sec\n",
            "Epoch 2 : [21184 / 40150] loss : 0.4677751064300537, Batch time: 0.1606 sec\n",
            "Epoch 2 : [21824 / 40150] loss : 0.41946887969970703, Batch time: 0.1537 sec\n",
            "Epoch 2 : [22464 / 40150] loss : 0.4749494194984436, Batch time: 0.1591 sec\n",
            "Epoch 2 : [23104 / 40150] loss : 0.46230244636535645, Batch time: 0.1583 sec\n",
            "Epoch 2 : [23744 / 40150] loss : 0.4831780195236206, Batch time: 0.1551 sec\n",
            "Epoch 2 : [24384 / 40150] loss : 0.4093402028083801, Batch time: 0.1592 sec\n",
            "Epoch 2 : [25024 / 40150] loss : 0.3776394724845886, Batch time: 0.1586 sec\n",
            "Epoch 2 : [25664 / 40150] loss : 0.42613714933395386, Batch time: 0.1591 sec\n",
            "Epoch 2 : [26304 / 40150] loss : 0.5124496817588806, Batch time: 0.1587 sec\n",
            "Epoch 2 : [26944 / 40150] loss : 0.2378339171409607, Batch time: 0.1591 sec\n",
            "Epoch 2 : [27584 / 40150] loss : 0.3345201313495636, Batch time: 0.1546 sec\n",
            "Epoch 2 : [28224 / 40150] loss : 0.30085626244544983, Batch time: 0.1565 sec\n",
            "Epoch 2 : [28864 / 40150] loss : 0.33300232887268066, Batch time: 0.1595 sec\n",
            "Epoch 2 : [29504 / 40150] loss : 0.35239559412002563, Batch time: 0.1595 sec\n",
            "Epoch 2 : [30144 / 40150] loss : 0.3871411085128784, Batch time: 0.1606 sec\n",
            "Epoch 2 : [30784 / 40150] loss : 0.553969144821167, Batch time: 0.1594 sec\n",
            "Epoch 2 : [31424 / 40150] loss : 0.45009079575538635, Batch time: 0.1599 sec\n",
            "Epoch 2 : [32064 / 40150] loss : 0.46315839886665344, Batch time: 0.1594 sec\n",
            "Epoch 2 : [32704 / 40150] loss : 0.4600306749343872, Batch time: 0.1590 sec\n",
            "Epoch 2 : [33344 / 40150] loss : 0.3307415246963501, Batch time: 0.1593 sec\n",
            "Epoch 2 : [33984 / 40150] loss : 0.33550310134887695, Batch time: 0.1589 sec\n",
            "Epoch 2 : [34624 / 40150] loss : 0.39496544003486633, Batch time: 0.1602 sec\n",
            "Epoch 2 : [35264 / 40150] loss : 0.3057516813278198, Batch time: 0.1592 sec\n",
            "Epoch 2 : [35904 / 40150] loss : 0.3432370126247406, Batch time: 0.1588 sec\n",
            "Epoch 2 : [36544 / 40150] loss : 0.3636661171913147, Batch time: 0.1586 sec\n",
            "Epoch 2 : [37184 / 40150] loss : 0.4387775659561157, Batch time: 0.1590 sec\n",
            "Epoch 2 : [37824 / 40150] loss : 0.4201349914073944, Batch time: 0.1588 sec\n",
            "Epoch 2 : [38464 / 40150] loss : 0.3372998833656311, Batch time: 0.1527 sec\n",
            "Epoch 2 : [39104 / 40150] loss : 0.4761389493942261, Batch time: 0.1198 sec\n",
            "Epoch 2 : [39744 / 40150] loss : 0.36671972274780273, Batch time: 0.1597 sec\n",
            "Epoch 2 finished, Total Epoch time: 1503.4181 sec\n",
            "Epoch : 2, Loss : 0.4199861125534127, Val_loss : 0.34810126676589626\n",
            "Epoch 3 : [64 / 40150] loss : 0.3868677616119385, Batch time: 0.1610 sec\n",
            "Epoch 3 : [704 / 40150] loss : 0.3129264712333679, Batch time: 0.1201 sec\n",
            "Epoch 3 : [1344 / 40150] loss : 0.2770634889602661, Batch time: 0.1555 sec\n",
            "Epoch 3 : [1984 / 40150] loss : 0.4043496251106262, Batch time: 0.1482 sec\n",
            "Epoch 3 : [2624 / 40150] loss : 0.719674825668335, Batch time: 0.1225 sec\n",
            "Epoch 3 : [3264 / 40150] loss : 0.3183801770210266, Batch time: 0.1271 sec\n",
            "Epoch 3 : [3904 / 40150] loss : 0.43650004267692566, Batch time: 0.1202 sec\n",
            "Epoch 3 : [4544 / 40150] loss : 0.37331148982048035, Batch time: 0.1378 sec\n",
            "Epoch 3 : [5184 / 40150] loss : 0.45151108503341675, Batch time: 0.1448 sec\n",
            "Epoch 3 : [5824 / 40150] loss : 0.3949597477912903, Batch time: 0.1371 sec\n",
            "Epoch 3 : [6464 / 40150] loss : 0.409212589263916, Batch time: 0.1237 sec\n",
            "Epoch 3 : [7104 / 40150] loss : 0.3237578868865967, Batch time: 0.1345 sec\n",
            "Epoch 3 : [7744 / 40150] loss : 0.24483008682727814, Batch time: 0.1193 sec\n",
            "Epoch 3 : [8384 / 40150] loss : 0.4456552267074585, Batch time: 0.1478 sec\n",
            "Epoch 3 : [9024 / 40150] loss : 0.41398417949676514, Batch time: 0.1228 sec\n",
            "Epoch 3 : [9664 / 40150] loss : 0.3620246648788452, Batch time: 0.1199 sec\n"
          ]
        },
        {
          "output_type": "stream",
          "name": "stderr",
          "text": [
            "/usr/local/lib/python3.10/dist-packages/PIL/Image.py:3167: DecompressionBombWarning: Image size (108000000 pixels) exceeds limit of 89478485 pixels, could be decompression bomb DOS attack.\n",
            "  warnings.warn(\n"
          ]
        },
        {
          "output_type": "stream",
          "name": "stdout",
          "text": [
            "Epoch 3 : [10304 / 40150] loss : 0.3329797089099884, Batch time: 0.1450 sec\n",
            "Epoch 3 : [10944 / 40150] loss : 0.3919590711593628, Batch time: 0.1452 sec\n",
            "Epoch 3 : [11584 / 40150] loss : 0.3318670392036438, Batch time: 0.1245 sec\n",
            "Epoch 3 : [12224 / 40150] loss : 0.2928857207298279, Batch time: 0.1292 sec\n",
            "Epoch 3 : [12864 / 40150] loss : 0.34173834323883057, Batch time: 0.1590 sec\n",
            "Epoch 3 : [13504 / 40150] loss : 0.4551043212413788, Batch time: 0.1207 sec\n"
          ]
        },
        {
          "output_type": "stream",
          "name": "stderr",
          "text": [
            "/usr/local/lib/python3.10/dist-packages/PIL/Image.py:3167: DecompressionBombWarning: Image size (133505320 pixels) exceeds limit of 89478485 pixels, could be decompression bomb DOS attack.\n",
            "  warnings.warn(\n"
          ]
        },
        {
          "output_type": "stream",
          "name": "stdout",
          "text": [
            "Epoch 3 : [14144 / 40150] loss : 0.4974927306175232, Batch time: 0.1445 sec\n",
            "Epoch 3 : [14784 / 40150] loss : 0.44874370098114014, Batch time: 0.1436 sec\n",
            "Epoch 3 : [15424 / 40150] loss : 0.40220165252685547, Batch time: 0.1194 sec\n",
            "Epoch 3 : [16064 / 40150] loss : 0.3235384225845337, Batch time: 0.1210 sec\n",
            "Epoch 3 : [16704 / 40150] loss : 0.31462347507476807, Batch time: 0.1484 sec\n",
            "Epoch 3 : [17344 / 40150] loss : 0.510101318359375, Batch time: 0.1542 sec\n",
            "Epoch 3 : [17984 / 40150] loss : 0.36022767424583435, Batch time: 0.1612 sec\n",
            "Epoch 3 : [18624 / 40150] loss : 0.37279555201530457, Batch time: 0.1195 sec\n",
            "Epoch 3 : [19264 / 40150] loss : 0.33181363344192505, Batch time: 0.1195 sec\n",
            "Epoch 3 : [19904 / 40150] loss : 0.342837929725647, Batch time: 0.1576 sec\n",
            "Epoch 3 : [20544 / 40150] loss : 0.3763565719127655, Batch time: 0.1445 sec\n",
            "Epoch 3 : [21184 / 40150] loss : 0.3992053270339966, Batch time: 0.1452 sec\n",
            "Epoch 3 : [21824 / 40150] loss : 0.3969873785972595, Batch time: 0.1202 sec\n",
            "Epoch 3 : [22464 / 40150] loss : 0.4555353820323944, Batch time: 0.1373 sec\n",
            "Epoch 3 : [23104 / 40150] loss : 0.39603644609451294, Batch time: 0.1289 sec\n",
            "Epoch 3 : [23744 / 40150] loss : 0.3211762607097626, Batch time: 0.1242 sec\n",
            "Epoch 3 : [24384 / 40150] loss : 0.32497191429138184, Batch time: 0.1198 sec\n",
            "Epoch 3 : [25024 / 40150] loss : 0.2893696427345276, Batch time: 0.1590 sec\n",
            "Epoch 3 : [25664 / 40150] loss : 0.4413849115371704, Batch time: 0.1591 sec\n",
            "Epoch 3 : [26304 / 40150] loss : 0.33275866508483887, Batch time: 0.1592 sec\n",
            "Epoch 3 : [26944 / 40150] loss : 0.355741024017334, Batch time: 0.1598 sec\n",
            "Epoch 3 : [27584 / 40150] loss : 0.4705100655555725, Batch time: 0.1596 sec\n",
            "Epoch 3 : [28224 / 40150] loss : 0.3712906539440155, Batch time: 0.1591 sec\n",
            "Epoch 3 : [28864 / 40150] loss : 0.3353808522224426, Batch time: 0.1594 sec\n",
            "Epoch 3 : [29504 / 40150] loss : 0.32696062326431274, Batch time: 0.1589 sec\n",
            "Epoch 3 : [30144 / 40150] loss : 0.32103416323661804, Batch time: 0.1591 sec\n",
            "Epoch 3 : [30784 / 40150] loss : 0.287092924118042, Batch time: 0.1591 sec\n",
            "Epoch 3 : [31424 / 40150] loss : 0.29723048210144043, Batch time: 0.1591 sec\n",
            "Epoch 3 : [32064 / 40150] loss : 0.4336031973361969, Batch time: 0.1593 sec\n",
            "Epoch 3 : [32704 / 40150] loss : 0.3449505567550659, Batch time: 0.1606 sec\n",
            "Epoch 3 : [33344 / 40150] loss : 0.41133758425712585, Batch time: 0.1593 sec\n",
            "Epoch 3 : [33984 / 40150] loss : 0.4083460569381714, Batch time: 0.1591 sec\n",
            "Epoch 3 : [34624 / 40150] loss : 0.3731003999710083, Batch time: 0.1596 sec\n",
            "Epoch 3 : [35264 / 40150] loss : 0.43720245361328125, Batch time: 0.1560 sec\n",
            "Epoch 3 : [35904 / 40150] loss : 0.2647801637649536, Batch time: 0.1559 sec\n",
            "Epoch 3 : [36544 / 40150] loss : 0.32401973009109497, Batch time: 0.1597 sec\n",
            "Epoch 3 : [37184 / 40150] loss : 0.3979441523551941, Batch time: 0.1592 sec\n",
            "Epoch 3 : [37824 / 40150] loss : 0.3690909147262573, Batch time: 0.1589 sec\n",
            "Epoch 3 : [38464 / 40150] loss : 0.3876352608203888, Batch time: 0.1537 sec\n",
            "Epoch 3 : [39104 / 40150] loss : 0.34024369716644287, Batch time: 0.1593 sec\n",
            "Epoch 3 : [39744 / 40150] loss : 0.49737104773521423, Batch time: 0.1610 sec\n",
            "Epoch 3 finished, Total Epoch time: 1486.6354 sec\n",
            "Epoch : 3, Loss : 0.3799234486309586, Val_loss : 0.3590258804114559\n",
            "Epoch 4 : [64 / 40150] loss : 0.33186736702919006, Batch time: 0.1602 sec\n",
            "Epoch 4 : [704 / 40150] loss : 0.3463391661643982, Batch time: 0.1592 sec\n",
            "Epoch 4 : [1344 / 40150] loss : 0.33225512504577637, Batch time: 0.1446 sec\n",
            "Epoch 4 : [1984 / 40150] loss : 0.2638193666934967, Batch time: 0.1449 sec\n",
            "Epoch 4 : [2624 / 40150] loss : 0.33761849999427795, Batch time: 0.1378 sec\n"
          ]
        },
        {
          "output_type": "error",
          "ename": "KeyboardInterrupt",
          "evalue": "",
          "traceback": [
            "\u001b[0;31m---------------------------------------------------------------------------\u001b[0m",
            "\u001b[0;31mKeyboardInterrupt\u001b[0m                         Traceback (most recent call last)",
            "\u001b[0;32m<ipython-input-37-9bf244269bf7>\u001b[0m in \u001b[0;36m<cell line: 2>\u001b[0;34m()\u001b[0m\n\u001b[1;32m      1\u001b[0m \u001b[0mstart\u001b[0m \u001b[0;34m=\u001b[0m \u001b[0mtime\u001b[0m\u001b[0;34m.\u001b[0m\u001b[0mtime\u001b[0m\u001b[0;34m(\u001b[0m\u001b[0;34m)\u001b[0m\u001b[0;34m\u001b[0m\u001b[0;34m\u001b[0m\u001b[0m\n\u001b[1;32m      2\u001b[0m \u001b[0;32mfor\u001b[0m \u001b[0mepoch\u001b[0m \u001b[0;32min\u001b[0m \u001b[0mrange\u001b[0m\u001b[0;34m(\u001b[0m\u001b[0;36m30\u001b[0m\u001b[0;34m)\u001b[0m\u001b[0;34m:\u001b[0m\u001b[0;34m\u001b[0m\u001b[0;34m\u001b[0m\u001b[0m\n\u001b[0;32m----> 3\u001b[0;31m     \u001b[0mgender_loss\u001b[0m \u001b[0;34m=\u001b[0m \u001b[0mtrain_loop_gender\u001b[0m\u001b[0;34m(\u001b[0m\u001b[0mtrain_loader\u001b[0m\u001b[0;34m,\u001b[0m \u001b[0mgender_model\u001b[0m\u001b[0;34m,\u001b[0m \u001b[0mnn\u001b[0m\u001b[0;34m.\u001b[0m\u001b[0mBCEWithLogitsLoss\u001b[0m\u001b[0;34m(\u001b[0m\u001b[0;34m)\u001b[0m\u001b[0;34m,\u001b[0m \u001b[0mopt_gender\u001b[0m\u001b[0;34m,\u001b[0m \u001b[0mepoch\u001b[0m\u001b[0;34m)\u001b[0m\u001b[0;34m\u001b[0m\u001b[0;34m\u001b[0m\u001b[0m\n\u001b[0m\u001b[1;32m      4\u001b[0m     \u001b[0mval_loss\u001b[0m \u001b[0;34m=\u001b[0m \u001b[0mvalidation_loop_gender\u001b[0m\u001b[0;34m(\u001b[0m\u001b[0mval_loader\u001b[0m\u001b[0;34m,\u001b[0m \u001b[0mgender_model\u001b[0m\u001b[0;34m,\u001b[0m \u001b[0mnn\u001b[0m\u001b[0;34m.\u001b[0m\u001b[0mBCEWithLogitsLoss\u001b[0m\u001b[0;34m(\u001b[0m\u001b[0;34m)\u001b[0m\u001b[0;34m,\u001b[0m \u001b[0mdevice\u001b[0m\u001b[0;34m)\u001b[0m\u001b[0;34m\u001b[0m\u001b[0;34m\u001b[0m\u001b[0m\n\u001b[1;32m      5\u001b[0m     \u001b[0mgender_lr_scheduler\u001b[0m\u001b[0;34m.\u001b[0m\u001b[0mstep\u001b[0m\u001b[0;34m(\u001b[0m\u001b[0mval_loss\u001b[0m\u001b[0;34m)\u001b[0m\u001b[0;34m\u001b[0m\u001b[0;34m\u001b[0m\u001b[0m\n",
            "\u001b[0;32m<ipython-input-35-9a2c16598e4f>\u001b[0m in \u001b[0;36mtrain_loop_gender\u001b[0;34m(dataloader, model, loss_fn, optimizer, epoch)\u001b[0m\n\u001b[1;32m      5\u001b[0m     \u001b[0mstart_time\u001b[0m \u001b[0;34m=\u001b[0m \u001b[0mtime\u001b[0m\u001b[0;34m.\u001b[0m\u001b[0mtime\u001b[0m\u001b[0;34m(\u001b[0m\u001b[0;34m)\u001b[0m  \u001b[0;31m# 에포크 시작 시간\u001b[0m\u001b[0;34m\u001b[0m\u001b[0;34m\u001b[0m\u001b[0m\n\u001b[1;32m      6\u001b[0m \u001b[0;34m\u001b[0m\u001b[0m\n\u001b[0;32m----> 7\u001b[0;31m     \u001b[0;32mfor\u001b[0m \u001b[0mbatch\u001b[0m\u001b[0;34m,\u001b[0m \u001b[0;34m(\u001b[0m\u001b[0mx\u001b[0m\u001b[0;34m,\u001b[0m \u001b[0my\u001b[0m\u001b[0;34m)\u001b[0m \u001b[0;32min\u001b[0m \u001b[0menumerate\u001b[0m\u001b[0;34m(\u001b[0m\u001b[0mdataloader\u001b[0m\u001b[0;34m)\u001b[0m\u001b[0;34m:\u001b[0m\u001b[0;34m\u001b[0m\u001b[0;34m\u001b[0m\u001b[0m\n\u001b[0m\u001b[1;32m      8\u001b[0m         \u001b[0mbatch_start_time\u001b[0m \u001b[0;34m=\u001b[0m \u001b[0mtime\u001b[0m\u001b[0;34m.\u001b[0m\u001b[0mtime\u001b[0m\u001b[0;34m(\u001b[0m\u001b[0;34m)\u001b[0m  \u001b[0;31m# 배치 처리 시작 시간\u001b[0m\u001b[0;34m\u001b[0m\u001b[0;34m\u001b[0m\u001b[0m\n\u001b[1;32m      9\u001b[0m         \u001b[0mx\u001b[0m\u001b[0;34m,\u001b[0m \u001b[0my\u001b[0m \u001b[0;34m=\u001b[0m \u001b[0mx\u001b[0m\u001b[0;34m.\u001b[0m\u001b[0mto\u001b[0m\u001b[0;34m(\u001b[0m\u001b[0mdevice\u001b[0m\u001b[0;34m)\u001b[0m\u001b[0;34m,\u001b[0m \u001b[0my\u001b[0m\u001b[0;34m[\u001b[0m\u001b[0;34m'gender'\u001b[0m\u001b[0;34m]\u001b[0m\u001b[0;34m.\u001b[0m\u001b[0mfloat\u001b[0m\u001b[0;34m(\u001b[0m\u001b[0;34m)\u001b[0m\u001b[0;34m.\u001b[0m\u001b[0mto\u001b[0m\u001b[0;34m(\u001b[0m\u001b[0mdevice\u001b[0m\u001b[0;34m)\u001b[0m\u001b[0;34m\u001b[0m\u001b[0;34m\u001b[0m\u001b[0m\n",
            "\u001b[0;32m/usr/local/lib/python3.10/dist-packages/torch/utils/data/dataloader.py\u001b[0m in \u001b[0;36m__next__\u001b[0;34m(self)\u001b[0m\n\u001b[1;32m    628\u001b[0m                 \u001b[0;31m# TODO(https://github.com/pytorch/pytorch/issues/76750)\u001b[0m\u001b[0;34m\u001b[0m\u001b[0;34m\u001b[0m\u001b[0m\n\u001b[1;32m    629\u001b[0m                 \u001b[0mself\u001b[0m\u001b[0;34m.\u001b[0m\u001b[0m_reset\u001b[0m\u001b[0;34m(\u001b[0m\u001b[0;34m)\u001b[0m  \u001b[0;31m# type: ignore[call-arg]\u001b[0m\u001b[0;34m\u001b[0m\u001b[0;34m\u001b[0m\u001b[0m\n\u001b[0;32m--> 630\u001b[0;31m             \u001b[0mdata\u001b[0m \u001b[0;34m=\u001b[0m \u001b[0mself\u001b[0m\u001b[0;34m.\u001b[0m\u001b[0m_next_data\u001b[0m\u001b[0;34m(\u001b[0m\u001b[0;34m)\u001b[0m\u001b[0;34m\u001b[0m\u001b[0;34m\u001b[0m\u001b[0m\n\u001b[0m\u001b[1;32m    631\u001b[0m             \u001b[0mself\u001b[0m\u001b[0;34m.\u001b[0m\u001b[0m_num_yielded\u001b[0m \u001b[0;34m+=\u001b[0m \u001b[0;36m1\u001b[0m\u001b[0;34m\u001b[0m\u001b[0;34m\u001b[0m\u001b[0m\n\u001b[1;32m    632\u001b[0m             \u001b[0;32mif\u001b[0m \u001b[0mself\u001b[0m\u001b[0;34m.\u001b[0m\u001b[0m_dataset_kind\u001b[0m \u001b[0;34m==\u001b[0m \u001b[0m_DatasetKind\u001b[0m\u001b[0;34m.\u001b[0m\u001b[0mIterable\u001b[0m \u001b[0;32mand\u001b[0m\u001b[0;31m \u001b[0m\u001b[0;31m\\\u001b[0m\u001b[0;34m\u001b[0m\u001b[0;34m\u001b[0m\u001b[0m\n",
            "\u001b[0;32m/usr/local/lib/python3.10/dist-packages/torch/utils/data/dataloader.py\u001b[0m in \u001b[0;36m_next_data\u001b[0;34m(self)\u001b[0m\n\u001b[1;32m   1326\u001b[0m \u001b[0;34m\u001b[0m\u001b[0m\n\u001b[1;32m   1327\u001b[0m             \u001b[0;32massert\u001b[0m \u001b[0;32mnot\u001b[0m \u001b[0mself\u001b[0m\u001b[0;34m.\u001b[0m\u001b[0m_shutdown\u001b[0m \u001b[0;32mand\u001b[0m \u001b[0mself\u001b[0m\u001b[0;34m.\u001b[0m\u001b[0m_tasks_outstanding\u001b[0m \u001b[0;34m>\u001b[0m \u001b[0;36m0\u001b[0m\u001b[0;34m\u001b[0m\u001b[0;34m\u001b[0m\u001b[0m\n\u001b[0;32m-> 1328\u001b[0;31m             \u001b[0midx\u001b[0m\u001b[0;34m,\u001b[0m \u001b[0mdata\u001b[0m \u001b[0;34m=\u001b[0m \u001b[0mself\u001b[0m\u001b[0;34m.\u001b[0m\u001b[0m_get_data\u001b[0m\u001b[0;34m(\u001b[0m\u001b[0;34m)\u001b[0m\u001b[0;34m\u001b[0m\u001b[0;34m\u001b[0m\u001b[0m\n\u001b[0m\u001b[1;32m   1329\u001b[0m             \u001b[0mself\u001b[0m\u001b[0;34m.\u001b[0m\u001b[0m_tasks_outstanding\u001b[0m \u001b[0;34m-=\u001b[0m \u001b[0;36m1\u001b[0m\u001b[0;34m\u001b[0m\u001b[0;34m\u001b[0m\u001b[0m\n\u001b[1;32m   1330\u001b[0m             \u001b[0;32mif\u001b[0m \u001b[0mself\u001b[0m\u001b[0;34m.\u001b[0m\u001b[0m_dataset_kind\u001b[0m \u001b[0;34m==\u001b[0m \u001b[0m_DatasetKind\u001b[0m\u001b[0;34m.\u001b[0m\u001b[0mIterable\u001b[0m\u001b[0;34m:\u001b[0m\u001b[0;34m\u001b[0m\u001b[0;34m\u001b[0m\u001b[0m\n",
            "\u001b[0;32m/usr/local/lib/python3.10/dist-packages/torch/utils/data/dataloader.py\u001b[0m in \u001b[0;36m_get_data\u001b[0;34m(self)\u001b[0m\n\u001b[1;32m   1292\u001b[0m         \u001b[0;32melse\u001b[0m\u001b[0;34m:\u001b[0m\u001b[0;34m\u001b[0m\u001b[0;34m\u001b[0m\u001b[0m\n\u001b[1;32m   1293\u001b[0m             \u001b[0;32mwhile\u001b[0m \u001b[0;32mTrue\u001b[0m\u001b[0;34m:\u001b[0m\u001b[0;34m\u001b[0m\u001b[0;34m\u001b[0m\u001b[0m\n\u001b[0;32m-> 1294\u001b[0;31m                 \u001b[0msuccess\u001b[0m\u001b[0;34m,\u001b[0m \u001b[0mdata\u001b[0m \u001b[0;34m=\u001b[0m \u001b[0mself\u001b[0m\u001b[0;34m.\u001b[0m\u001b[0m_try_get_data\u001b[0m\u001b[0;34m(\u001b[0m\u001b[0;34m)\u001b[0m\u001b[0;34m\u001b[0m\u001b[0;34m\u001b[0m\u001b[0m\n\u001b[0m\u001b[1;32m   1295\u001b[0m                 \u001b[0;32mif\u001b[0m \u001b[0msuccess\u001b[0m\u001b[0;34m:\u001b[0m\u001b[0;34m\u001b[0m\u001b[0;34m\u001b[0m\u001b[0m\n\u001b[1;32m   1296\u001b[0m                     \u001b[0;32mreturn\u001b[0m \u001b[0mdata\u001b[0m\u001b[0;34m\u001b[0m\u001b[0;34m\u001b[0m\u001b[0m\n",
            "\u001b[0;32m/usr/local/lib/python3.10/dist-packages/torch/utils/data/dataloader.py\u001b[0m in \u001b[0;36m_try_get_data\u001b[0;34m(self, timeout)\u001b[0m\n\u001b[1;32m   1130\u001b[0m         \u001b[0;31m#   (bool: whether successfully get data, any: data if successful else None)\u001b[0m\u001b[0;34m\u001b[0m\u001b[0;34m\u001b[0m\u001b[0m\n\u001b[1;32m   1131\u001b[0m         \u001b[0;32mtry\u001b[0m\u001b[0;34m:\u001b[0m\u001b[0;34m\u001b[0m\u001b[0;34m\u001b[0m\u001b[0m\n\u001b[0;32m-> 1132\u001b[0;31m             \u001b[0mdata\u001b[0m \u001b[0;34m=\u001b[0m \u001b[0mself\u001b[0m\u001b[0;34m.\u001b[0m\u001b[0m_data_queue\u001b[0m\u001b[0;34m.\u001b[0m\u001b[0mget\u001b[0m\u001b[0;34m(\u001b[0m\u001b[0mtimeout\u001b[0m\u001b[0;34m=\u001b[0m\u001b[0mtimeout\u001b[0m\u001b[0;34m)\u001b[0m\u001b[0;34m\u001b[0m\u001b[0;34m\u001b[0m\u001b[0m\n\u001b[0m\u001b[1;32m   1133\u001b[0m             \u001b[0;32mreturn\u001b[0m \u001b[0;34m(\u001b[0m\u001b[0;32mTrue\u001b[0m\u001b[0;34m,\u001b[0m \u001b[0mdata\u001b[0m\u001b[0;34m)\u001b[0m\u001b[0;34m\u001b[0m\u001b[0;34m\u001b[0m\u001b[0m\n\u001b[1;32m   1134\u001b[0m         \u001b[0;32mexcept\u001b[0m \u001b[0mException\u001b[0m \u001b[0;32mas\u001b[0m \u001b[0me\u001b[0m\u001b[0;34m:\u001b[0m\u001b[0;34m\u001b[0m\u001b[0;34m\u001b[0m\u001b[0m\n",
            "\u001b[0;32m/usr/lib/python3.10/multiprocessing/queues.py\u001b[0m in \u001b[0;36mget\u001b[0;34m(self, block, timeout)\u001b[0m\n\u001b[1;32m    111\u001b[0m                 \u001b[0;32mif\u001b[0m \u001b[0mblock\u001b[0m\u001b[0;34m:\u001b[0m\u001b[0;34m\u001b[0m\u001b[0;34m\u001b[0m\u001b[0m\n\u001b[1;32m    112\u001b[0m                     \u001b[0mtimeout\u001b[0m \u001b[0;34m=\u001b[0m \u001b[0mdeadline\u001b[0m \u001b[0;34m-\u001b[0m \u001b[0mtime\u001b[0m\u001b[0;34m.\u001b[0m\u001b[0mmonotonic\u001b[0m\u001b[0;34m(\u001b[0m\u001b[0;34m)\u001b[0m\u001b[0;34m\u001b[0m\u001b[0;34m\u001b[0m\u001b[0m\n\u001b[0;32m--> 113\u001b[0;31m                     \u001b[0;32mif\u001b[0m \u001b[0;32mnot\u001b[0m \u001b[0mself\u001b[0m\u001b[0;34m.\u001b[0m\u001b[0m_poll\u001b[0m\u001b[0;34m(\u001b[0m\u001b[0mtimeout\u001b[0m\u001b[0;34m)\u001b[0m\u001b[0;34m:\u001b[0m\u001b[0;34m\u001b[0m\u001b[0;34m\u001b[0m\u001b[0m\n\u001b[0m\u001b[1;32m    114\u001b[0m                         \u001b[0;32mraise\u001b[0m \u001b[0mEmpty\u001b[0m\u001b[0;34m\u001b[0m\u001b[0;34m\u001b[0m\u001b[0m\n\u001b[1;32m    115\u001b[0m                 \u001b[0;32melif\u001b[0m \u001b[0;32mnot\u001b[0m \u001b[0mself\u001b[0m\u001b[0;34m.\u001b[0m\u001b[0m_poll\u001b[0m\u001b[0;34m(\u001b[0m\u001b[0;34m)\u001b[0m\u001b[0;34m:\u001b[0m\u001b[0;34m\u001b[0m\u001b[0;34m\u001b[0m\u001b[0m\n",
            "\u001b[0;32m/usr/lib/python3.10/multiprocessing/connection.py\u001b[0m in \u001b[0;36mpoll\u001b[0;34m(self, timeout)\u001b[0m\n\u001b[1;32m    255\u001b[0m         \u001b[0mself\u001b[0m\u001b[0;34m.\u001b[0m\u001b[0m_check_closed\u001b[0m\u001b[0;34m(\u001b[0m\u001b[0;34m)\u001b[0m\u001b[0;34m\u001b[0m\u001b[0;34m\u001b[0m\u001b[0m\n\u001b[1;32m    256\u001b[0m         \u001b[0mself\u001b[0m\u001b[0;34m.\u001b[0m\u001b[0m_check_readable\u001b[0m\u001b[0;34m(\u001b[0m\u001b[0;34m)\u001b[0m\u001b[0;34m\u001b[0m\u001b[0;34m\u001b[0m\u001b[0m\n\u001b[0;32m--> 257\u001b[0;31m         \u001b[0;32mreturn\u001b[0m \u001b[0mself\u001b[0m\u001b[0;34m.\u001b[0m\u001b[0m_poll\u001b[0m\u001b[0;34m(\u001b[0m\u001b[0mtimeout\u001b[0m\u001b[0;34m)\u001b[0m\u001b[0;34m\u001b[0m\u001b[0;34m\u001b[0m\u001b[0m\n\u001b[0m\u001b[1;32m    258\u001b[0m \u001b[0;34m\u001b[0m\u001b[0m\n\u001b[1;32m    259\u001b[0m     \u001b[0;32mdef\u001b[0m \u001b[0m__enter__\u001b[0m\u001b[0;34m(\u001b[0m\u001b[0mself\u001b[0m\u001b[0;34m)\u001b[0m\u001b[0;34m:\u001b[0m\u001b[0;34m\u001b[0m\u001b[0;34m\u001b[0m\u001b[0m\n",
            "\u001b[0;32m/usr/lib/python3.10/multiprocessing/connection.py\u001b[0m in \u001b[0;36m_poll\u001b[0;34m(self, timeout)\u001b[0m\n\u001b[1;32m    422\u001b[0m \u001b[0;34m\u001b[0m\u001b[0m\n\u001b[1;32m    423\u001b[0m     \u001b[0;32mdef\u001b[0m \u001b[0m_poll\u001b[0m\u001b[0;34m(\u001b[0m\u001b[0mself\u001b[0m\u001b[0;34m,\u001b[0m \u001b[0mtimeout\u001b[0m\u001b[0;34m)\u001b[0m\u001b[0;34m:\u001b[0m\u001b[0;34m\u001b[0m\u001b[0;34m\u001b[0m\u001b[0m\n\u001b[0;32m--> 424\u001b[0;31m         \u001b[0mr\u001b[0m \u001b[0;34m=\u001b[0m \u001b[0mwait\u001b[0m\u001b[0;34m(\u001b[0m\u001b[0;34m[\u001b[0m\u001b[0mself\u001b[0m\u001b[0;34m]\u001b[0m\u001b[0;34m,\u001b[0m \u001b[0mtimeout\u001b[0m\u001b[0;34m)\u001b[0m\u001b[0;34m\u001b[0m\u001b[0;34m\u001b[0m\u001b[0m\n\u001b[0m\u001b[1;32m    425\u001b[0m         \u001b[0;32mreturn\u001b[0m \u001b[0mbool\u001b[0m\u001b[0;34m(\u001b[0m\u001b[0mr\u001b[0m\u001b[0;34m)\u001b[0m\u001b[0;34m\u001b[0m\u001b[0;34m\u001b[0m\u001b[0m\n\u001b[1;32m    426\u001b[0m \u001b[0;34m\u001b[0m\u001b[0m\n",
            "\u001b[0;32m/usr/lib/python3.10/multiprocessing/connection.py\u001b[0m in \u001b[0;36mwait\u001b[0;34m(object_list, timeout)\u001b[0m\n\u001b[1;32m    929\u001b[0m \u001b[0;34m\u001b[0m\u001b[0m\n\u001b[1;32m    930\u001b[0m             \u001b[0;32mwhile\u001b[0m \u001b[0;32mTrue\u001b[0m\u001b[0;34m:\u001b[0m\u001b[0;34m\u001b[0m\u001b[0;34m\u001b[0m\u001b[0m\n\u001b[0;32m--> 931\u001b[0;31m                 \u001b[0mready\u001b[0m \u001b[0;34m=\u001b[0m \u001b[0mselector\u001b[0m\u001b[0;34m.\u001b[0m\u001b[0mselect\u001b[0m\u001b[0;34m(\u001b[0m\u001b[0mtimeout\u001b[0m\u001b[0;34m)\u001b[0m\u001b[0;34m\u001b[0m\u001b[0;34m\u001b[0m\u001b[0m\n\u001b[0m\u001b[1;32m    932\u001b[0m                 \u001b[0;32mif\u001b[0m \u001b[0mready\u001b[0m\u001b[0;34m:\u001b[0m\u001b[0;34m\u001b[0m\u001b[0;34m\u001b[0m\u001b[0m\n\u001b[1;32m    933\u001b[0m                     \u001b[0;32mreturn\u001b[0m \u001b[0;34m[\u001b[0m\u001b[0mkey\u001b[0m\u001b[0;34m.\u001b[0m\u001b[0mfileobj\u001b[0m \u001b[0;32mfor\u001b[0m \u001b[0;34m(\u001b[0m\u001b[0mkey\u001b[0m\u001b[0;34m,\u001b[0m \u001b[0mevents\u001b[0m\u001b[0;34m)\u001b[0m \u001b[0;32min\u001b[0m \u001b[0mready\u001b[0m\u001b[0;34m]\u001b[0m\u001b[0;34m\u001b[0m\u001b[0;34m\u001b[0m\u001b[0m\n",
            "\u001b[0;32m/usr/lib/python3.10/selectors.py\u001b[0m in \u001b[0;36mselect\u001b[0;34m(self, timeout)\u001b[0m\n\u001b[1;32m    414\u001b[0m         \u001b[0mready\u001b[0m \u001b[0;34m=\u001b[0m \u001b[0;34m[\u001b[0m\u001b[0;34m]\u001b[0m\u001b[0;34m\u001b[0m\u001b[0;34m\u001b[0m\u001b[0m\n\u001b[1;32m    415\u001b[0m         \u001b[0;32mtry\u001b[0m\u001b[0;34m:\u001b[0m\u001b[0;34m\u001b[0m\u001b[0;34m\u001b[0m\u001b[0m\n\u001b[0;32m--> 416\u001b[0;31m             \u001b[0mfd_event_list\u001b[0m \u001b[0;34m=\u001b[0m \u001b[0mself\u001b[0m\u001b[0;34m.\u001b[0m\u001b[0m_selector\u001b[0m\u001b[0;34m.\u001b[0m\u001b[0mpoll\u001b[0m\u001b[0;34m(\u001b[0m\u001b[0mtimeout\u001b[0m\u001b[0;34m)\u001b[0m\u001b[0;34m\u001b[0m\u001b[0;34m\u001b[0m\u001b[0m\n\u001b[0m\u001b[1;32m    417\u001b[0m         \u001b[0;32mexcept\u001b[0m \u001b[0mInterruptedError\u001b[0m\u001b[0;34m:\u001b[0m\u001b[0;34m\u001b[0m\u001b[0;34m\u001b[0m\u001b[0m\n\u001b[1;32m    418\u001b[0m             \u001b[0;32mreturn\u001b[0m \u001b[0mready\u001b[0m\u001b[0;34m\u001b[0m\u001b[0;34m\u001b[0m\u001b[0m\n",
            "\u001b[0;31mKeyboardInterrupt\u001b[0m: "
          ]
        }
      ]
    },
    {
      "cell_type": "markdown",
      "source": [
        "- Epoch : 1, Loss : 0.5123151285917895, Val_loss : 0.4354306417929975\n",
        "- Epoch : 2, Loss : 0.4199861125534127, Val_loss : 0.34810126676589626\n",
        "- Epoch : 3, Loss : 0.3799234486309586, Val_loss : 0.3590258804114559\n",
        "- Epoch : 4, Loss : 0.3703894062549066, Val_loss : 0.3590258804114559\n",
        "- Epoch : 5, Loss : 0.3712516401651179, Val_loss : 0.3590258804114559\n",
        "- Epoch : 6, Loss : 0.3712042416356931, Val_loss : 0.3590258804114559"
      ],
      "metadata": {
        "id": "hh93nFGkFuOx"
      }
    },
    {
      "cell_type": "code",
      "source": [
        "import matplotlib.pyplot as plt\n",
        "\n",
        "# loss와 val_loss를 저장할 리스트\n",
        "losses = [0.51231, 0.41998,  0.37992, 0.37038, 0.37125, 0.37120]\n",
        "val_losses = [0.43543, 0.34810, 0.35902, 0.35902, 0.35902, 0.35902]\n",
        "\n",
        "plt.plot(range(1, len(losses) + 1), losses, color='blue',label='Training Loss')\n",
        "plt.plot(range(1, len(val_losses) + 1), val_losses, color='red', label='Validation Loss')\n",
        "plt.xlabel('Epoch')\n",
        "plt.ylabel('Loss')\n",
        "plt.title('Training and Validation Loss over Epochs')\n",
        "plt.legend()\n",
        "plt.show()"
      ],
      "metadata": {
        "colab": {
          "base_uri": "https://localhost:8080/",
          "height": 472
        },
        "id": "3sfdtsG7rXdN",
        "outputId": "c6663a04-8b1d-44c8-dcd8-9a7b3249faed"
      },
      "execution_count": null,
      "outputs": [
        {
          "output_type": "display_data",
          "data": {
            "text/plain": [
              "<Figure size 640x480 with 1 Axes>"
            ],
            "image/png": "[encoded data removed]"
          },
          "metadata": {}
        }
      ]
    },
    {
      "cell_type": "code",
      "source": [
        "# 모델과 옵티마이저 초기화\n",
        "gender_model = Gender_Net().to(device)\n",
        "opt_age = optim.Adam(gender_model.parameters(), lr=0.0003)\n",
        "\n",
        "# 체크포인트 불러오기\n",
        "age_model, opt_age, start_epoch = load_model(gender_model, opt_age, '/content/drive/MyDrive/models/gender_model_checkpoint.pth')\n",
        "\n",
        "# 학습 재개\n",
        "start = time.time()\n",
        "for epoch in range(start_epoch + 1, start_epoch + 28):\n",
        "    gender_loss = train_loop_gender(train_loader, gender_model, nn.BCEWithLogitsLoss(), opt_gender, epoch)\n",
        "    val_loss = validation_loop_gender(val_loader, gender_model, nn.BCEWithLogitsLoss(), device)\n",
        "    gender_lr_scheduler.step(val_loss)\n",
        "    early_stopping(val_loss)\n",
        "\n",
        "    if early_stopping.early_stop:\n",
        "        print(\"Early stopping triggered\")\n",
        "        save_model(epoch, gender_model, opt_gender, '/content/drive/MyDrive/models/gender_model_checkpoint.pth')\n",
        "        break\n",
        "\n",
        "    save_model(epoch, gender_model, opt_gender, f'/content/drive/MyDrive/models/gender_model_checkpoint_epoch_{epoch+1}.pth')\n",
        "    print(f'Epoch : {epoch+1}, Loss : {gender_loss}, Val_loss : {val_loss}')\n",
        "\n",
        "total_time = time.time() - start\n",
        "hours, rem = divmod(total_time, 3600)\n",
        "minutes, seconds = divmod(rem, 60)\n",
        "print(\"Total training time: {:0>2}:{:0>2}:{:05.2f}\".format(int(hours),int(minutes),seconds))"
      ],
      "metadata": {
        "id": "EvIVaw61zi8p"
      },
      "execution_count": null,
      "outputs": []
    }
  ]
}