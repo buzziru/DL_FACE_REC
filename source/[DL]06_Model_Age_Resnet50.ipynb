{
  "cells": [
    {
      "cell_type": "code",
      "execution_count": null,
      "metadata": {
        "colab": {
          "base_uri": "https://localhost:8080/"
        },
        "id": "oQCXYegJuf8n",
        "outputId": "4611b413-a1cd-4ec3-85cb-c0991d0c630f"
      },
      "outputs": [
        {
          "output_type": "stream",
          "name": "stdout",
          "text": [
            "Drive already mounted at /content/drive/; to attempt to forcibly remount, call drive.mount(\"/content/drive/\", force_remount=True).\n"
          ]
        }
      ],
      "source": [
        "from google.colab import drive\n",
        "\n",
        "drive.mount('/content/drive/')"
      ]
    },
    {
      "cell_type": "code",
      "execution_count": null,
      "metadata": {
        "id": "m4JeK62MzmhT"
      },
      "outputs": [],
      "source": [
        "import os\n",
        "import torch\n",
        "import torch.nn as nn\n",
        "import torch.nn.functional as F\n",
        "from torchvision import datasets, transforms\n",
        "import torchsummary\n",
        "import numpy as np\n",
        "from PIL import Image\n",
        "from PIL import ImageFile\n",
        "import json\n",
        "import time\n",
        "import random\n",
        "import glob\n",
        "\n",
        "ImageFile.LOAD_TRUNCATED_IMAGES = True"
      ]
    },
    {
      "cell_type": "code",
      "execution_count": null,
      "metadata": {
        "id": "q3Aej2u0R-aR"
      },
      "outputs": [],
      "source": [
        "def seed_everything(seed=42):\n",
        "    random.seed(seed)  # Python random 모듈\n",
        "    np.random.seed(seed)  # Numpy 랜덤 시드\n",
        "    torch.manual_seed(seed)  # PyTorch 랜덤 시드\n",
        "    torch.cuda.manual_seed(seed)  # GPU를 위한 PyTorch 랜덤 시드\n",
        "    torch.cuda.manual_seed_all(seed)  # 멀티 GPU를 위한 PyTorch 랜덤 시드\n",
        "\n",
        "seed_everything()"
      ]
    },
    {
      "cell_type": "code",
      "execution_count": null,
      "metadata": {
        "id": "LqLZA6YqaVI1"
      },
      "outputs": [],
      "source": [
        "class CustomDataset(torch.utils.data.Dataset):\n",
        "    def __init__(self, data_root, label_root, transform=None):\n",
        "        self.transform = transform\n",
        "        self.items = []\n",
        "\n",
        "        # 모든 이미지 경로 수집\n",
        "        data_paths = glob.glob(os.path.join(data_root, '*/*.png'))\n",
        "\n",
        "        # 모든 라벨 경로를 소문자로 변환하여 저장\n",
        "        label_paths_lower = {os.path.join(label_root, path).lower(): path for path in glob.glob(os.path.join(label_root, '*/*.json'))}\n",
        "\n",
        "        for image_path in data_paths:\n",
        "            base_name = os.path.splitext(os.path.basename(image_path))[0].lower()\n",
        "            label_dir = os.path.dirname(image_path).replace(data_root, label_root).lower()\n",
        "            label_path_lower = os.path.join(label_dir, base_name + '.json').lower()\n",
        "\n",
        "            # 소문자로 변환된 경로를 사용하여 실제 라벨 경로 찾기\n",
        "            actual_label_path = label_paths_lower.get(label_path_lower)\n",
        "            if actual_label_path:\n",
        "                self.items.append((image_path, actual_label_path))\n",
        "            else:\n",
        "                print(f\"Label file not found for image: {image_path}\")\n",
        "                print(f\"Expected label path: {actual_label_path}\")\n",
        "\n",
        "    def __len__(self):\n",
        "        return len(self.items)\n",
        "\n",
        "    def __getitem__(self, index):\n",
        "        image_path, label_path = self.items[index]\n",
        "\n",
        "        try:\n",
        "            image = Image.open(image_path).convert('RGB')\n",
        "        except Exception as e:\n",
        "            return None\n",
        "\n",
        "        with open(label_path, 'r') as f:\n",
        "            label_data = json.load(f)\n",
        "\n",
        "        age_past = label_data['age_past']\n",
        "        box = label_data['annotation'][0]['box']\n",
        "        image = image.crop((box['x'], box['y'], box['x'] + box['w'], box['y'] + box['h']))\n",
        "\n",
        "        if self.transform:\n",
        "            image = self.transform(image)\n",
        "\n",
        "        gender_label = 0 if gender == 'male' else 1\n",
        "        label = {'age_past': age_past}\n",
        "\n",
        "        return image, label\n"
      ]
    },
    {
      "cell_type": "code",
      "execution_count": null,
      "metadata": {
        "id": "G0Hwo9deztrp"
      },
      "outputs": [],
      "source": [
        "def custom_collate_fn(batch):\n",
        "    batch = [item for item in batch if item is not None]\n",
        "    return torch.utils.data.dataloader.default_collate(batch)"
      ]
    },
    {
      "cell_type": "code",
      "source": [
        "# 랜덤하게 적용\n",
        "random_transforms = transforms.RandomApply([\n",
        "    transforms.RandomHorizontalFlip(),\n",
        "    transforms.RandomRotation(10),\n",
        "    transforms.ColorJitter(brightness=0.2, contrast=0.2, saturation=0.2),\n",
        "], p=0.5)\n",
        "\n",
        "# 항상 적용\n",
        "always_transforms = transforms.Compose([\n",
        "    transforms.Resize((224, 224)),\n",
        "    transforms.ToTensor(),\n",
        "    transforms.Normalize(mean=[0.6284, 0.4901, 0.4325], std=[0.1869, 0.1712, 0.1561]),\n",
        "])\n",
        "\n",
        "transform_train = transforms.Compose([\n",
        "    random_transforms,\n",
        "    always_transforms\n",
        "])\n",
        "\n",
        "transform_val = transforms.Compose([\n",
        "    always_transforms\n",
        "])"
      ],
      "metadata": {
        "id": "DFEVxc113Vpb"
      },
      "execution_count": null,
      "outputs": []
    },
    {
      "cell_type": "code",
      "execution_count": null,
      "metadata": {
        "colab": {
          "base_uri": "https://localhost:8080/"
        },
        "id": "bojhHygkztrp",
        "outputId": "493a2817-dd2f-45bb-ead9-9e4c5d705b8c"
      },
      "outputs": [
        {
          "output_type": "stream",
          "name": "stdout",
          "text": [
            "Label file not found for image: /content/drive/MyDrive/DL_DATA/DL_Face_REC/train/source/0622/0622_2002_20_00000021_D.png\n",
            "Expected label path: None\n",
            "Label file not found for image: /content/drive/MyDrive/DL_DATA/DL_Face_REC/train/source/0622/0622_2002_21_00000031_D.png\n",
            "Expected label path: None\n",
            "Label file not found for image: /content/drive/MyDrive/DL_DATA/DL_Face_REC/train/source/0622/0622_2002_20_00000019_D.png\n",
            "Expected label path: None\n",
            "Label file not found for image: /content/drive/MyDrive/DL_DATA/DL_Face_REC/train/source/0622/0622_2002_20_00000020_D.png\n",
            "Expected label path: None\n",
            "Label file not found for image: /content/drive/MyDrive/DL_DATA/DL_Face_REC/train/source/0622/0622_2002_20_00000023_D.png\n",
            "Expected label path: None\n",
            "Label file not found for image: /content/drive/MyDrive/DL_DATA/DL_Face_REC/train/source/0622/0622_2002_14_00000006_D.png\n",
            "Expected label path: None\n",
            "Label file not found for image: /content/drive/MyDrive/DL_DATA/DL_Face_REC/train/source/0622/0622_2002_15_00000008_D.png\n",
            "Expected label path: None\n",
            "Label file not found for image: /content/drive/MyDrive/DL_DATA/DL_Face_REC/train/source/0622/0622_2002_03_00000042_F.png\n",
            "Expected label path: None\n",
            "Label file not found for image: /content/drive/MyDrive/DL_DATA/DL_Face_REC/train/source/0622/0622_2002_20_00000018_D.png\n",
            "Expected label path: None\n",
            "Label file not found for image: /content/drive/MyDrive/DL_DATA/DL_Face_REC/train/source/0622/0622_2002_08_00000050_F.png\n",
            "Expected label path: None\n",
            "Label file not found for image: /content/drive/MyDrive/DL_DATA/DL_Face_REC/train/source/0622/0622_2002_13_00000003_D.png\n",
            "Expected label path: None\n",
            "Label file not found for image: /content/drive/MyDrive/DL_DATA/DL_Face_REC/train/source/0622/0622_2002_14_00000007_D.png\n",
            "Expected label path: None\n",
            "Label file not found for image: /content/drive/MyDrive/DL_DATA/DL_Face_REC/train/source/0622/0622_2002_17_00000015_D.png\n",
            "Expected label path: None\n",
            "Label file not found for image: /content/drive/MyDrive/DL_DATA/DL_Face_REC/train/source/0622/0622_2002_15_00000009_D.png\n",
            "Expected label path: None\n",
            "Label file not found for image: /content/drive/MyDrive/DL_DATA/DL_Face_REC/train/source/0622/0622_2002_15_00000010_D.png\n",
            "Expected label path: None\n",
            "Label file not found for image: /content/drive/MyDrive/DL_DATA/DL_Face_REC/train/source/0622/0622_2002_19_00000016_D.png\n",
            "Expected label path: None\n",
            "Label file not found for image: /content/drive/MyDrive/DL_DATA/DL_Face_REC/train/source/0622/0622_2002_21_00000033_D.png\n",
            "Expected label path: None\n",
            "Label file not found for image: /content/drive/MyDrive/DL_DATA/DL_Face_REC/train/source/0622/0622_2002_17_00000013_D.png\n",
            "Expected label path: None\n",
            "Label file not found for image: /content/drive/MyDrive/DL_DATA/DL_Face_REC/train/source/0622/0622_2002_16_00000039_F.png\n",
            "Expected label path: None\n",
            "Label file not found for image: /content/drive/MyDrive/DL_DATA/DL_Face_REC/train/source/0622/0622_2002_21_00000032_D.png\n",
            "Expected label path: None\n",
            "Label file not found for image: /content/drive/MyDrive/DL_DATA/DL_Face_REC/train/source/0622/0622_2002_21_00000035_D.png\n",
            "Expected label path: None\n",
            "Label file not found for image: /content/drive/MyDrive/DL_DATA/DL_Face_REC/train/source/0622/0622_2002_07_00000048_F.png\n",
            "Expected label path: None\n",
            "Label file not found for image: /content/drive/MyDrive/DL_DATA/DL_Face_REC/train/source/0622/0622_2002_20_00000025_D.png\n",
            "Expected label path: None\n",
            "Label file not found for image: /content/drive/MyDrive/DL_DATA/DL_Face_REC/train/source/0622/0622_2002_20_00000027_D.png\n",
            "Expected label path: None\n",
            "Label file not found for image: /content/drive/MyDrive/DL_DATA/DL_Face_REC/train/source/0622/0622_2002_16_00000038_F.png\n",
            "Expected label path: None\n"
          ]
        }
      ],
      "source": [
        "train_dataset = CustomDataset('/content/drive/MyDrive/DL_DATA/DL_Face_REC/train/source', '/content/drive/MyDrive/DL_DATA/DL_Face_REC/train/label', transform=transform_train)\n",
        "val_dataset = CustomDataset('/content/drive/MyDrive/DL_DATA/DL_Face_REC/val/source', '/content/drive/MyDrive/DL_DATA/DL_Face_REC/val/label', transform=transform_val)"
      ]
    },
    {
      "cell_type": "code",
      "execution_count": null,
      "metadata": {
        "id": "dvBmQ0JM9Hmd"
      },
      "outputs": [],
      "source": [
        "batch_size = 128\n",
        "\n",
        "train_loader = torch.utils.data.DataLoader(\n",
        "    dataset=train_dataset,\n",
        "    collate_fn=custom_collate_fn,\n",
        "    batch_size=batch_size,\n",
        "    shuffle=True,\n",
        "    num_workers=2,\n",
        "    prefetch_factor=4\n",
        ")\n",
        "\n",
        "val_loader = torch.utils.data.DataLoader(\n",
        "    dataset=val_dataset,\n",
        "    collate_fn=custom_collate_fn,\n",
        "    batch_size=batch_size,\n",
        "    num_workers=2,\n",
        "    prefetch_factor=4\n",
        ")"
      ]
    },
    {
      "cell_type": "code",
      "source": [
        "len(train_loader), len(val_loader)"
      ],
      "metadata": {
        "colab": {
          "base_uri": "https://localhost:8080/"
        },
        "id": "NWizzKPR38KV",
        "outputId": "4bb66b84-492f-4f3a-8120-f7b7d81aaa91"
      },
      "execution_count": null,
      "outputs": [
        {
          "output_type": "execute_result",
          "data": {
            "text/plain": [
              "(314, 40)"
            ]
          },
          "metadata": {},
          "execution_count": 9
        }
      ]
    },
    {
      "cell_type": "code",
      "execution_count": null,
      "metadata": {
        "colab": {
          "base_uri": "https://localhost:8080/"
        },
        "id": "HC0xKBBb-Rbj",
        "outputId": "dbad2a96-9da5-4a92-995d-b77df64e2d0b"
      },
      "outputs": [
        {
          "output_type": "execute_result",
          "data": {
            "text/plain": [
              "torch.Size([128, 3, 224, 224])"
            ]
          },
          "metadata": {},
          "execution_count": 10
        }
      ],
      "source": [
        "x, y = next(iter(train_loader))\n",
        "x.shape"
      ]
    },
    {
      "cell_type": "code",
      "execution_count": null,
      "metadata": {
        "colab": {
          "base_uri": "https://localhost:8080/"
        },
        "id": "dJSln4Ba-rKT",
        "outputId": "9f73b509-bdf2-4e4c-9546-cea8de0f1705"
      },
      "outputs": [
        {
          "output_type": "execute_result",
          "data": {
            "text/plain": [
              "(torch.Size([128]), torch.Size([128]))"
            ]
          },
          "metadata": {},
          "execution_count": 11
        }
      ],
      "source": [
        "y['age_past'].shape, y['gender'].shape"
      ]
    },
    {
      "cell_type": "code",
      "execution_count": null,
      "metadata": {
        "colab": {
          "base_uri": "https://localhost:8080/"
        },
        "id": "a3wCDUbTQ9OF",
        "outputId": "1d27c4af-298c-445f-95f7-bf97d3c224f2"
      },
      "outputs": [
        {
          "output_type": "stream",
          "name": "stdout",
          "text": [
            "cuda\n"
          ]
        }
      ],
      "source": [
        "device = torch.device('cuda' if torch.cuda.is_available() else 'cpu')\n",
        "print(device)"
      ]
    },
    {
      "cell_type": "code",
      "execution_count": null,
      "metadata": {
        "id": "WD-7x2HDztrq"
      },
      "outputs": [],
      "source": [
        "def conv3x3(in_planes, out_planes, stride=1):\n",
        "    return nn.Conv2d(in_planes, out_planes, kernel_size=3, stride=stride, padding=1, bias=False)\n",
        "\n",
        "def conv1x1(in_planes, out_planes, stride=1):\n",
        "    return nn.Conv2d(in_planes, out_planes, kernel_size=1, stride=stride, bias=False)"
      ]
    },
    {
      "cell_type": "code",
      "execution_count": null,
      "metadata": {
        "id": "jZ7Az1arztrq"
      },
      "outputs": [],
      "source": [
        "class BasicBlock(nn.Module):\n",
        "    expansion = 1\n",
        "\n",
        "    def __init__(self, in_planes, planes, stride=1, downsample=None):\n",
        "        super().__init__()\n",
        "        self.conv1 = conv3x3(in_planes, planes, stride)\n",
        "        self.bn1 = nn.BatchNorm2d(planes)\n",
        "        self.relu = nn.ReLU(inplace=True)\n",
        "        self.conv2 = conv3x3(planes, planes)\n",
        "        self.bn2 = nn.BatchNorm2d(planes)\n",
        "        self.downsample = downsample\n",
        "        self.stride = stride\n",
        "\n",
        "    def forward(self, x):\n",
        "        identity = x\n",
        "\n",
        "        out = self.conv1(x) # 3x3, stride=stride\n",
        "        out = self.bn1(out)\n",
        "        out = self.relu(out)\n",
        "\n",
        "        out = self.conv2(out) # 3x3, stride=1 고정\n",
        "        out = self.bn2(out)\n",
        "\n",
        "        # stride!=1 일 때, identity와 out의 shape을 일치시키기 위한 downsample\n",
        "        if self.downsample is not None:\n",
        "            identity = self.downsample(x)\n",
        "\n",
        "        out += identity\n",
        "        out = self.relu(out)\n",
        "        return out"
      ]
    },
    {
      "cell_type": "code",
      "execution_count": null,
      "metadata": {
        "id": "oQF4gFP1ztrr"
      },
      "outputs": [],
      "source": [
        "class Bottleneck(nn.Module):\n",
        "    expansion = 4\n",
        "\n",
        "    def __init__(self, in_planes, planes, stride=1, downsample=None):\n",
        "        super().__init__()\n",
        "        self.conv1 = conv1x1(in_planes, planes)\n",
        "        self.bn1 = nn.BatchNorm2d(planes)\n",
        "        self.conv2 = conv3x3(planes, planes, stride)\n",
        "        self.bn2 = nn.BatchNorm2d(planes)\n",
        "        self.conv3 = conv1x1(planes, planes * self.expansion)\n",
        "        self.bn3 = nn.BatchNorm2d(planes * self.expansion)\n",
        "        self.relu = nn.ReLU(inplace=True)\n",
        "        self.stride = stride\n",
        "        self.downsample = downsample\n",
        "\n",
        "    def forward(self, x):\n",
        "        identity = x\n",
        "\n",
        "        out = self.conv1(x) # 1x1, stride=1\n",
        "        out = self.bn1(out)\n",
        "        out = self.relu(out)\n",
        "\n",
        "        out = self.conv2(out) # 3x3, stride=stride\n",
        "        out = self.bn2(out)\n",
        "        out = self.relu(out)\n",
        "\n",
        "        out = self.conv3(out) # 1x1, planes * self.expansion\n",
        "        out = self.bn3(out)\n",
        "\n",
        "        if self.downsample is not None:\n",
        "            identity = self.downsample(x)\n",
        "\n",
        "        out += identity\n",
        "        out = self.relu(out)\n",
        "        return out"
      ]
    },
    {
      "cell_type": "code",
      "execution_count": null,
      "metadata": {
        "id": "e14N42FPDUA6"
      },
      "outputs": [],
      "source": [
        "class Age_Net(nn.Module):\n",
        "    # resnet50 : Bottleneck, [3, 4, 6, 3]\n",
        "    # resnet18 : BasicBlock, [2, 2, 2, 2]\n",
        "    def __init__(self, block, layers):\n",
        "        super().__init__()\n",
        "        self.inplanes = 64\n",
        "\n",
        "        # input.shape : (3, 224, 224)\n",
        "        self.conv1 = nn.Conv2d(3, 64, kernel_size=7, stride=2, padding=3, bias=False)\n",
        "        # output.shape : (64, 112, 112)\n",
        "\n",
        "        self.bn1 = nn.BatchNorm2d(64)\n",
        "        self.relu = nn.ReLU(inplace=True)\n",
        "\n",
        "        # output.shape : (64, 112, 112)\n",
        "        self.maxpool = nn.MaxPool2d(kernel_size=3, stride=2, padding=1)\n",
        "        # output.shape : (64, 56, 56)\n",
        "\n",
        "        self.layer1 = self._make_layer(block, 64, layers[0])\n",
        "        self.layer2 = self._make_layer(block, 128, layers[1], stride=2)\n",
        "        self.layer3 = self._make_layer(block, 256, layers[2], stride=2)\n",
        "        self.layer4 = self._make_layer(block, 512, layers[3], stride=2)\n",
        "\n",
        "        self.avgpool = nn.AdaptiveAvgPool2d((1, 1))\n",
        "        self.fc = nn.Linear(512 * block.expansion, 1)\n",
        "\n",
        "        for m in self.modules():\n",
        "            if isinstance(m, nn.Conv2d):\n",
        "                nn.init.kaiming_normal_(m.weight, mode='fan_in', nonlinearity='relu')\n",
        "            elif isinstance(m, nn.BatchNorm2d):\n",
        "                nn.init.constant_(m.weight, 1)\n",
        "                nn.init.constant_(m.bias, 0)\n",
        "\n",
        "\n",
        "    def _make_layer(self, block, planes, blocks, stride=1):\n",
        "        # 예 : self.layer1 => _make_layer(Bottleneck, 64, 3)\n",
        "        # 채널수를 맞추기 위한 downsample\n",
        "        downsample = None\n",
        "        if stride!=1 or self.inplanes!=planes*block.expansion: # self.inplanes=64 != 64 * 4\n",
        "            downsample = nn.Sequential(\n",
        "                conv1x1(self.inplanes, planes * block.expansion, stride), #conv1x1(64, 64*4, stride=1)\n",
        "                nn.BatchNorm2d(planes * block.expansion)\n",
        "            )\n",
        "\n",
        "        layers = []\n",
        "        layers.append(block(self.inplanes, planes, stride, downsample)) # Bottleneck(64, 64, 1, downsample)\n",
        "        self.inplanes = planes * block.expansion # self.inplanes = 64 * 4\n",
        "\n",
        "        for _ in range(1, blocks): # 반복횟수 2번\n",
        "            layers.append(block(self.inplanes, planes))\n",
        "\n",
        "        # self.layer1 = [\n",
        "        #     Bottleneck(64, 64, 1, downsample),\n",
        "        #     Bottleneck(256, 64),\n",
        "        #     Bottleneck(256, 64),\n",
        "        # ]\n",
        "        # self.layer2 = [\n",
        "        #     Bottleneck(256, 128, 2, downsample),\n",
        "        #     Bottleneck(512, 128),\n",
        "        #     Bottleneck(512, 128),\n",
        "        #     Bottleneck(512, 128),\n",
        "        # ]\n",
        "\n",
        "        return nn.Sequential(*layers)\n",
        "\n",
        "\n",
        "    def forward(self, x):\n",
        "        x = self.conv1(x)\n",
        "        x = self.bn1(x)\n",
        "        x = self.relu(x)\n",
        "        x = self.maxpool(x)\n",
        "\n",
        "        x = self.layer1(x)\n",
        "        x = self.layer2(x)\n",
        "        x = self.layer3(x)\n",
        "        x = self.layer4(x)\n",
        "\n",
        "        x = self.avgpool(x) # fc 대체\n",
        "        x = x.view(x.size(0), -1)\n",
        "        x = self.fc(x)\n",
        "        x = self.relu(x)\n",
        "        return x\n"
      ]
    },
    {
      "cell_type": "code",
      "execution_count": null,
      "metadata": {
        "id": "Gpw0FNlwztrr"
      },
      "outputs": [],
      "source": [
        "# def resnet50():\n",
        "#     model = Age_Net(Bottleneck, [3, 4, 6, 3])\n",
        "#     return model"
      ]
    },
    {
      "cell_type": "code",
      "source": [
        "def resnet18():\n",
        "    model = Age_Net(BasicBlock, [2, 2, 2, 2])\n",
        "    return model"
      ],
      "metadata": {
        "id": "qwz1w5GXILwf"
      },
      "execution_count": null,
      "outputs": []
    },
    {
      "cell_type": "code",
      "execution_count": null,
      "metadata": {
        "colab": {
          "base_uri": "https://localhost:8080/"
        },
        "id": "42OyTCgWLQ93",
        "outputId": "d2c2cea8-b063-41ac-9c19-e96a66228a72"
      },
      "outputs": [
        {
          "output_type": "stream",
          "name": "stdout",
          "text": [
            "----------------------------------------------------------------\n",
            "        Layer (type)               Output Shape         Param #\n",
            "================================================================\n",
            "            Conv2d-1         [-1, 64, 112, 112]           9,408\n",
            "       BatchNorm2d-2         [-1, 64, 112, 112]             128\n",
            "              ReLU-3         [-1, 64, 112, 112]               0\n",
            "         MaxPool2d-4           [-1, 64, 56, 56]               0\n",
            "            Conv2d-5           [-1, 64, 56, 56]          36,864\n",
            "       BatchNorm2d-6           [-1, 64, 56, 56]             128\n",
            "              ReLU-7           [-1, 64, 56, 56]               0\n",
            "            Conv2d-8           [-1, 64, 56, 56]          36,864\n",
            "       BatchNorm2d-9           [-1, 64, 56, 56]             128\n",
            "             ReLU-10           [-1, 64, 56, 56]               0\n",
            "       BasicBlock-11           [-1, 64, 56, 56]               0\n",
            "           Conv2d-12           [-1, 64, 56, 56]          36,864\n",
            "      BatchNorm2d-13           [-1, 64, 56, 56]             128\n",
            "             ReLU-14           [-1, 64, 56, 56]               0\n",
            "           Conv2d-15           [-1, 64, 56, 56]          36,864\n",
            "      BatchNorm2d-16           [-1, 64, 56, 56]             128\n",
            "             ReLU-17           [-1, 64, 56, 56]               0\n",
            "       BasicBlock-18           [-1, 64, 56, 56]               0\n",
            "           Conv2d-19          [-1, 128, 28, 28]          73,728\n",
            "      BatchNorm2d-20          [-1, 128, 28, 28]             256\n",
            "             ReLU-21          [-1, 128, 28, 28]               0\n",
            "           Conv2d-22          [-1, 128, 28, 28]         147,456\n",
            "      BatchNorm2d-23          [-1, 128, 28, 28]             256\n",
            "           Conv2d-24          [-1, 128, 28, 28]           8,192\n",
            "      BatchNorm2d-25          [-1, 128, 28, 28]             256\n",
            "             ReLU-26          [-1, 128, 28, 28]               0\n",
            "       BasicBlock-27          [-1, 128, 28, 28]               0\n",
            "           Conv2d-28          [-1, 128, 28, 28]         147,456\n",
            "      BatchNorm2d-29          [-1, 128, 28, 28]             256\n",
            "             ReLU-30          [-1, 128, 28, 28]               0\n",
            "           Conv2d-31          [-1, 128, 28, 28]         147,456\n",
            "      BatchNorm2d-32          [-1, 128, 28, 28]             256\n",
            "             ReLU-33          [-1, 128, 28, 28]               0\n",
            "       BasicBlock-34          [-1, 128, 28, 28]               0\n",
            "           Conv2d-35          [-1, 256, 14, 14]         294,912\n",
            "      BatchNorm2d-36          [-1, 256, 14, 14]             512\n",
            "             ReLU-37          [-1, 256, 14, 14]               0\n",
            "           Conv2d-38          [-1, 256, 14, 14]         589,824\n",
            "      BatchNorm2d-39          [-1, 256, 14, 14]             512\n",
            "           Conv2d-40          [-1, 256, 14, 14]          32,768\n",
            "      BatchNorm2d-41          [-1, 256, 14, 14]             512\n",
            "             ReLU-42          [-1, 256, 14, 14]               0\n",
            "       BasicBlock-43          [-1, 256, 14, 14]               0\n",
            "           Conv2d-44          [-1, 256, 14, 14]         589,824\n",
            "      BatchNorm2d-45          [-1, 256, 14, 14]             512\n",
            "             ReLU-46          [-1, 256, 14, 14]               0\n",
            "           Conv2d-47          [-1, 256, 14, 14]         589,824\n",
            "      BatchNorm2d-48          [-1, 256, 14, 14]             512\n",
            "             ReLU-49          [-1, 256, 14, 14]               0\n",
            "       BasicBlock-50          [-1, 256, 14, 14]               0\n",
            "           Conv2d-51            [-1, 512, 7, 7]       1,179,648\n",
            "      BatchNorm2d-52            [-1, 512, 7, 7]           1,024\n",
            "             ReLU-53            [-1, 512, 7, 7]               0\n",
            "           Conv2d-54            [-1, 512, 7, 7]       2,359,296\n",
            "      BatchNorm2d-55            [-1, 512, 7, 7]           1,024\n",
            "           Conv2d-56            [-1, 512, 7, 7]         131,072\n",
            "      BatchNorm2d-57            [-1, 512, 7, 7]           1,024\n",
            "             ReLU-58            [-1, 512, 7, 7]               0\n",
            "       BasicBlock-59            [-1, 512, 7, 7]               0\n",
            "           Conv2d-60            [-1, 512, 7, 7]       2,359,296\n",
            "      BatchNorm2d-61            [-1, 512, 7, 7]           1,024\n",
            "             ReLU-62            [-1, 512, 7, 7]               0\n",
            "           Conv2d-63            [-1, 512, 7, 7]       2,359,296\n",
            "      BatchNorm2d-64            [-1, 512, 7, 7]           1,024\n",
            "             ReLU-65            [-1, 512, 7, 7]               0\n",
            "       BasicBlock-66            [-1, 512, 7, 7]               0\n",
            "AdaptiveAvgPool2d-67            [-1, 512, 1, 1]               0\n",
            "           Linear-68                    [-1, 1]             513\n",
            "             ReLU-69                    [-1, 1]               0\n",
            "================================================================\n",
            "Total params: 11,177,025\n",
            "Trainable params: 11,177,025\n",
            "Non-trainable params: 0\n",
            "----------------------------------------------------------------\n",
            "Input size (MB): 0.57\n",
            "Forward/backward pass size (MB): 62.79\n",
            "Params size (MB): 42.64\n",
            "Estimated Total Size (MB): 106.00\n",
            "----------------------------------------------------------------\n"
          ]
        }
      ],
      "source": [
        "age_model = resnet18().to(device)\n",
        "torchsummary.summary(age_model, (3, 224, 224))"
      ]
    },
    {
      "cell_type": "code",
      "execution_count": null,
      "metadata": {
        "id": "ujNm-g_RO3r0"
      },
      "outputs": [],
      "source": [
        "from torch.optim.lr_scheduler import ReduceLROnPlateau\n",
        "import torch.optim as optim\n",
        "\n",
        "opt_age = optim.Adam(age_model.parameters(), lr=0.0003)\n",
        "age_lr_scheduler = ReduceLROnPlateau(opt_age, mode='min', verbose=True)"
      ]
    },
    {
      "cell_type": "code",
      "execution_count": null,
      "metadata": {
        "id": "Hx8_usRMTCus"
      },
      "outputs": [],
      "source": [
        "class EarlyStopping:\n",
        "    def __init__(self, patience=3, verbose=False, delta=0):\n",
        "        self.patience = patience\n",
        "        self.verbose = verbose\n",
        "        self.delta = delta\n",
        "        self.best_loss = np.inf\n",
        "        self.early_stop = False\n",
        "        self.counter = 0\n",
        "\n",
        "    def __call__(self, val_loss):\n",
        "        if self.best_loss - val_loss > self.delta:\n",
        "            self.best_loss = val_loss\n",
        "            self.counter = 0\n",
        "        else:\n",
        "            self.counter += 1\n",
        "            if self.counter >= self.patience:\n",
        "                self.early_stop = True\n",
        "                if self.verbose:\n",
        "                    print(\"Early stopping\")"
      ]
    },
    {
      "cell_type": "code",
      "execution_count": null,
      "metadata": {
        "id": "ndXBKj_zTTVB"
      },
      "outputs": [],
      "source": [
        "early_stopping = EarlyStopping(patience=3, verbose=True)"
      ]
    },
    {
      "cell_type": "code",
      "execution_count": null,
      "metadata": {
        "id": "rWMH8jaiQZ_6"
      },
      "outputs": [],
      "source": [
        "def train_loop_age(dataloader, model, loss_fn, optimizer, epoch):\n",
        "    model.train()\n",
        "    size = len(dataloader.dataset)\n",
        "    total_loss = 0.0\n",
        "    start_time = time.time()  # 에포크 시작 시간\n",
        "\n",
        "    for batch, (x, y) in enumerate(dataloader):\n",
        "        batch_start_time = time.time()  # 배치 처리 시작 시간\n",
        "        x, y = x.to(device), y['age_past'].float().to(device)\n",
        "        pred = model(x)\n",
        "        loss = loss_fn(pred.squeeze(), y)\n",
        "\n",
        "        optimizer.zero_grad()\n",
        "        loss.backward()\n",
        "        optimizer.step()\n",
        "        total_loss += loss.item()\n",
        "\n",
        "        batch_process_time = time.time() - batch_start_time\n",
        "\n",
        "        if batch % 10 == 0:\n",
        "            processed = (batch + 1) * len(x)\n",
        "            print(f'Epoch {epoch+1} : [{processed} / {size}] loss : {loss.item()}, Batch time: {batch_process_time:.4f} sec')\n",
        "\n",
        "    average_loss = total_loss / len(dataloader)\n",
        "    epoch_time = time.time() - start_time\n",
        "\n",
        "    print(f\"Epoch {epoch+1} finished, Total Epoch time: {epoch_time:.4f} sec\")\n",
        "    return average_loss\n"
      ]
    },
    {
      "cell_type": "code",
      "execution_count": null,
      "metadata": {
        "id": "QLUS456MTlUU"
      },
      "outputs": [],
      "source": [
        "def validation_loop_age(dataloader, model, loss_fn, device):\n",
        "    model.eval()\n",
        "    val_loss = 0.0\n",
        "    with torch.no_grad():\n",
        "        for x, y in dataloader:\n",
        "            x, y = x.to(device), y['age_past'].float().to(device)\n",
        "            pred = model(x)\n",
        "            loss = loss_fn(pred, y)\n",
        "            val_loss += loss.item()\n",
        "    val_loss /= len(dataloader)\n",
        "    return val_loss"
      ]
    },
    {
      "cell_type": "code",
      "execution_count": null,
      "metadata": {
        "id": "7DU8WjVus4Iw"
      },
      "outputs": [],
      "source": [
        "def save_model(epoch, model, optimizer, path, train_loss, val_loss):\n",
        "    torch.save({\n",
        "        'epoch': epoch,\n",
        "        'model_state_dict': model.state_dict(),\n",
        "        'optimizer_state_dict': optimizer.state_dict(),\n",
        "        'train_loss': train_loss,\n",
        "        'val_loss': val_loss\n",
        "    }, path)"
      ]
    },
    {
      "cell_type": "code",
      "execution_count": null,
      "metadata": {
        "id": "WCj-n1ApThX7",
        "colab": {
          "base_uri": "https://localhost:8080/",
          "height": 1000
        },
        "outputId": "864b8e86-95fe-488b-878c-5829a82991ca"
      },
      "outputs": [
        {
          "output_type": "stream",
          "name": "stdout",
          "text": [
            "Epoch 1 : [128 / 40125] loss : 707.385498046875, Batch time: 0.3871 sec\n",
            "Epoch 1 : [1408 / 40125] loss : 400.73675537109375, Batch time: 0.3934 sec\n",
            "Epoch 1 : [2688 / 40125] loss : 418.5068359375, Batch time: 0.4172 sec\n",
            "Epoch 1 : [3968 / 40125] loss : 342.96295166015625, Batch time: 0.4066 sec\n"
          ]
        },
        {
          "output_type": "stream",
          "name": "stderr",
          "text": [
            "/usr/local/lib/python3.10/dist-packages/PIL/Image.py:3167: DecompressionBombWarning: Image size (133505320 pixels) exceeds limit of 89478485 pixels, could be decompression bomb DOS attack.\n",
            "  warnings.warn(\n"
          ]
        },
        {
          "output_type": "stream",
          "name": "stdout",
          "text": [
            "Epoch 1 : [5248 / 40125] loss : 322.82373046875, Batch time: 0.4123 sec\n",
            "Epoch 1 : [6528 / 40125] loss : 330.1068115234375, Batch time: 0.3855 sec\n",
            "Epoch 1 : [7808 / 40125] loss : 287.55584716796875, Batch time: 0.3943 sec\n",
            "Epoch 1 : [9088 / 40125] loss : 233.83111572265625, Batch time: 0.3987 sec\n",
            "Epoch 1 : [10368 / 40125] loss : 149.89833068847656, Batch time: 0.4061 sec\n",
            "Epoch 1 : [11648 / 40125] loss : 182.09693908691406, Batch time: 0.4047 sec\n",
            "Epoch 1 : [12928 / 40125] loss : 125.2864990234375, Batch time: 0.3948 sec\n",
            "Epoch 1 : [14208 / 40125] loss : 153.28518676757812, Batch time: 0.4042 sec\n",
            "Epoch 1 : [15488 / 40125] loss : 136.0650177001953, Batch time: 0.4079 sec\n",
            "Epoch 1 : [16768 / 40125] loss : 135.35955810546875, Batch time: 0.4315 sec\n",
            "Epoch 1 : [18048 / 40125] loss : 161.09902954101562, Batch time: 0.4018 sec\n",
            "Epoch 1 : [19328 / 40125] loss : 134.00595092773438, Batch time: 0.3900 sec\n",
            "Epoch 1 : [20608 / 40125] loss : 103.98753356933594, Batch time: 0.4252 sec\n",
            "Epoch 1 : [21888 / 40125] loss : 125.40928649902344, Batch time: 0.4146 sec\n",
            "Epoch 1 : [23168 / 40125] loss : 141.93276977539062, Batch time: 0.4217 sec\n",
            "Epoch 1 : [24448 / 40125] loss : 103.38851928710938, Batch time: 0.4221 sec\n",
            "Epoch 1 : [25728 / 40125] loss : 132.60308837890625, Batch time: 0.4242 sec\n",
            "Epoch 1 : [27008 / 40125] loss : 114.34355163574219, Batch time: 0.4025 sec\n",
            "Epoch 1 : [28288 / 40125] loss : 123.69595336914062, Batch time: 0.3939 sec\n",
            "Epoch 1 : [29568 / 40125] loss : 98.80311584472656, Batch time: 0.4166 sec\n",
            "Epoch 1 : [30848 / 40125] loss : 81.56297302246094, Batch time: 0.4438 sec\n",
            "Epoch 1 : [32128 / 40125] loss : 93.95120239257812, Batch time: 0.4025 sec\n",
            "Epoch 1 : [33408 / 40125] loss : 132.48733520507812, Batch time: 0.3833 sec\n",
            "Epoch 1 : [34688 / 40125] loss : 98.42750549316406, Batch time: 0.4254 sec\n",
            "Epoch 1 : [35968 / 40125] loss : 133.65469360351562, Batch time: 0.4116 sec\n",
            "Epoch 1 : [37248 / 40125] loss : 81.95206451416016, Batch time: 0.4087 sec\n"
          ]
        },
        {
          "output_type": "stream",
          "name": "stderr",
          "text": [
            "/usr/local/lib/python3.10/dist-packages/PIL/Image.py:3167: DecompressionBombWarning: Image size (108000000 pixels) exceeds limit of 89478485 pixels, could be decompression bomb DOS attack.\n",
            "  warnings.warn(\n"
          ]
        },
        {
          "output_type": "stream",
          "name": "stdout",
          "text": [
            "Epoch 1 : [38528 / 40125] loss : 74.56941986083984, Batch time: 0.3831 sec\n",
            "Epoch 1 : [39808 / 40125] loss : 111.48184204101562, Batch time: 0.3826 sec\n",
            "Epoch 1 finished, Total Epoch time: 17464.2843 sec\n"
          ]
        },
        {
          "output_type": "stream",
          "name": "stderr",
          "text": [
            "/usr/local/lib/python3.10/dist-packages/torch/nn/modules/loss.py:535: UserWarning: Using a target size (torch.Size([128])) that is different to the input size (torch.Size([128, 1])). This will likely lead to incorrect results due to broadcasting. Please ensure they have the same size.\n",
            "  return F.mse_loss(input, target, reduction=self.reduction)\n",
            "/usr/local/lib/python3.10/dist-packages/torch/nn/modules/loss.py:535: UserWarning: Using a target size (torch.Size([58])) that is different to the input size (torch.Size([58, 1])). This will likely lead to incorrect results due to broadcasting. Please ensure they have the same size.\n",
            "  return F.mse_loss(input, target, reduction=self.reduction)\n"
          ]
        },
        {
          "output_type": "stream",
          "name": "stdout",
          "text": [
            "Epoch : 1, Loss : 179.8350289217226, Val_loss : 257.17293491363523\n",
            "Epoch 2 : [128 / 40125] loss : 80.04081726074219, Batch time: 0.3995 sec\n",
            "Epoch 2 : [1408 / 40125] loss : 90.19076538085938, Batch time: 0.3858 sec\n",
            "Epoch 2 : [2688 / 40125] loss : 79.01805877685547, Batch time: 0.4044 sec\n"
          ]
        },
        {
          "output_type": "error",
          "ename": "KeyboardInterrupt",
          "evalue": "",
          "traceback": [
            "\u001b[0;31m---------------------------------------------------------------------------\u001b[0m",
            "\u001b[0;31mKeyboardInterrupt\u001b[0m                         Traceback (most recent call last)",
            "\u001b[0;32m<ipython-input-39-0914464fa482>\u001b[0m in \u001b[0;36m<cell line: 2>\u001b[0;34m()\u001b[0m\n\u001b[1;32m      1\u001b[0m \u001b[0mstart\u001b[0m \u001b[0;34m=\u001b[0m \u001b[0mtime\u001b[0m\u001b[0;34m.\u001b[0m\u001b[0mtime\u001b[0m\u001b[0;34m(\u001b[0m\u001b[0;34m)\u001b[0m\u001b[0;34m\u001b[0m\u001b[0;34m\u001b[0m\u001b[0m\n\u001b[1;32m      2\u001b[0m \u001b[0;32mfor\u001b[0m \u001b[0mepoch\u001b[0m \u001b[0;32min\u001b[0m \u001b[0mrange\u001b[0m\u001b[0;34m(\u001b[0m\u001b[0;36m30\u001b[0m\u001b[0;34m)\u001b[0m\u001b[0;34m:\u001b[0m\u001b[0;34m\u001b[0m\u001b[0;34m\u001b[0m\u001b[0m\n\u001b[0;32m----> 3\u001b[0;31m     \u001b[0mage_loss\u001b[0m \u001b[0;34m=\u001b[0m \u001b[0mtrain_loop_age\u001b[0m\u001b[0;34m(\u001b[0m\u001b[0mtrain_loader\u001b[0m\u001b[0;34m,\u001b[0m \u001b[0mage_model\u001b[0m\u001b[0;34m,\u001b[0m \u001b[0mnn\u001b[0m\u001b[0;34m.\u001b[0m\u001b[0mMSELoss\u001b[0m\u001b[0;34m(\u001b[0m\u001b[0;34m)\u001b[0m\u001b[0;34m,\u001b[0m \u001b[0mopt_age\u001b[0m\u001b[0;34m,\u001b[0m \u001b[0mepoch\u001b[0m\u001b[0;34m)\u001b[0m\u001b[0;34m\u001b[0m\u001b[0;34m\u001b[0m\u001b[0m\n\u001b[0m\u001b[1;32m      4\u001b[0m     \u001b[0mval_loss\u001b[0m \u001b[0;34m=\u001b[0m \u001b[0mvalidation_loop_age\u001b[0m\u001b[0;34m(\u001b[0m\u001b[0mval_loader\u001b[0m\u001b[0;34m,\u001b[0m \u001b[0mage_model\u001b[0m\u001b[0;34m,\u001b[0m \u001b[0mnn\u001b[0m\u001b[0;34m.\u001b[0m\u001b[0mMSELoss\u001b[0m\u001b[0;34m(\u001b[0m\u001b[0;34m)\u001b[0m\u001b[0;34m,\u001b[0m \u001b[0mdevice\u001b[0m\u001b[0;34m)\u001b[0m\u001b[0;34m\u001b[0m\u001b[0;34m\u001b[0m\u001b[0m\n\u001b[1;32m      5\u001b[0m     \u001b[0mage_lr_scheduler\u001b[0m\u001b[0;34m.\u001b[0m\u001b[0mstep\u001b[0m\u001b[0;34m(\u001b[0m\u001b[0mval_loss\u001b[0m\u001b[0;34m)\u001b[0m\u001b[0;34m\u001b[0m\u001b[0;34m\u001b[0m\u001b[0m\n",
            "\u001b[0;32m<ipython-input-25-5763b9d00070>\u001b[0m in \u001b[0;36mtrain_loop_age\u001b[0;34m(dataloader, model, loss_fn, optimizer, epoch)\u001b[0m\n\u001b[1;32m      5\u001b[0m     \u001b[0mstart_time\u001b[0m \u001b[0;34m=\u001b[0m \u001b[0mtime\u001b[0m\u001b[0;34m.\u001b[0m\u001b[0mtime\u001b[0m\u001b[0;34m(\u001b[0m\u001b[0;34m)\u001b[0m  \u001b[0;31m# 에포크 시작 시간\u001b[0m\u001b[0;34m\u001b[0m\u001b[0;34m\u001b[0m\u001b[0m\n\u001b[1;32m      6\u001b[0m \u001b[0;34m\u001b[0m\u001b[0m\n\u001b[0;32m----> 7\u001b[0;31m     \u001b[0;32mfor\u001b[0m \u001b[0mbatch\u001b[0m\u001b[0;34m,\u001b[0m \u001b[0;34m(\u001b[0m\u001b[0mx\u001b[0m\u001b[0;34m,\u001b[0m \u001b[0my\u001b[0m\u001b[0;34m)\u001b[0m \u001b[0;32min\u001b[0m \u001b[0menumerate\u001b[0m\u001b[0;34m(\u001b[0m\u001b[0mdataloader\u001b[0m\u001b[0;34m)\u001b[0m\u001b[0;34m:\u001b[0m\u001b[0;34m\u001b[0m\u001b[0;34m\u001b[0m\u001b[0m\n\u001b[0m\u001b[1;32m      8\u001b[0m         \u001b[0mbatch_start_time\u001b[0m \u001b[0;34m=\u001b[0m \u001b[0mtime\u001b[0m\u001b[0;34m.\u001b[0m\u001b[0mtime\u001b[0m\u001b[0;34m(\u001b[0m\u001b[0;34m)\u001b[0m  \u001b[0;31m# 배치 처리 시작 시간\u001b[0m\u001b[0;34m\u001b[0m\u001b[0;34m\u001b[0m\u001b[0m\n\u001b[1;32m      9\u001b[0m         \u001b[0mx\u001b[0m\u001b[0;34m,\u001b[0m \u001b[0my\u001b[0m \u001b[0;34m=\u001b[0m \u001b[0mx\u001b[0m\u001b[0;34m.\u001b[0m\u001b[0mto\u001b[0m\u001b[0;34m(\u001b[0m\u001b[0mdevice\u001b[0m\u001b[0;34m)\u001b[0m\u001b[0;34m,\u001b[0m \u001b[0my\u001b[0m\u001b[0;34m[\u001b[0m\u001b[0;34m'age_past'\u001b[0m\u001b[0;34m]\u001b[0m\u001b[0;34m.\u001b[0m\u001b[0mfloat\u001b[0m\u001b[0;34m(\u001b[0m\u001b[0;34m)\u001b[0m\u001b[0;34m.\u001b[0m\u001b[0mto\u001b[0m\u001b[0;34m(\u001b[0m\u001b[0mdevice\u001b[0m\u001b[0;34m)\u001b[0m\u001b[0;34m\u001b[0m\u001b[0;34m\u001b[0m\u001b[0m\n",
            "\u001b[0;32m/usr/local/lib/python3.10/dist-packages/torch/utils/data/dataloader.py\u001b[0m in \u001b[0;36m__next__\u001b[0;34m(self)\u001b[0m\n\u001b[1;32m    628\u001b[0m                 \u001b[0;31m# TODO(https://github.com/pytorch/pytorch/issues/76750)\u001b[0m\u001b[0;34m\u001b[0m\u001b[0;34m\u001b[0m\u001b[0m\n\u001b[1;32m    629\u001b[0m                 \u001b[0mself\u001b[0m\u001b[0;34m.\u001b[0m\u001b[0m_reset\u001b[0m\u001b[0;34m(\u001b[0m\u001b[0;34m)\u001b[0m  \u001b[0;31m# type: ignore[call-arg]\u001b[0m\u001b[0;34m\u001b[0m\u001b[0;34m\u001b[0m\u001b[0m\n\u001b[0;32m--> 630\u001b[0;31m             \u001b[0mdata\u001b[0m \u001b[0;34m=\u001b[0m \u001b[0mself\u001b[0m\u001b[0;34m.\u001b[0m\u001b[0m_next_data\u001b[0m\u001b[0;34m(\u001b[0m\u001b[0;34m)\u001b[0m\u001b[0;34m\u001b[0m\u001b[0;34m\u001b[0m\u001b[0m\n\u001b[0m\u001b[1;32m    631\u001b[0m             \u001b[0mself\u001b[0m\u001b[0;34m.\u001b[0m\u001b[0m_num_yielded\u001b[0m \u001b[0;34m+=\u001b[0m \u001b[0;36m1\u001b[0m\u001b[0;34m\u001b[0m\u001b[0;34m\u001b[0m\u001b[0m\n\u001b[1;32m    632\u001b[0m             \u001b[0;32mif\u001b[0m \u001b[0mself\u001b[0m\u001b[0;34m.\u001b[0m\u001b[0m_dataset_kind\u001b[0m \u001b[0;34m==\u001b[0m \u001b[0m_DatasetKind\u001b[0m\u001b[0;34m.\u001b[0m\u001b[0mIterable\u001b[0m \u001b[0;32mand\u001b[0m\u001b[0;31m \u001b[0m\u001b[0;31m\\\u001b[0m\u001b[0;34m\u001b[0m\u001b[0;34m\u001b[0m\u001b[0m\n",
            "\u001b[0;32m/usr/local/lib/python3.10/dist-packages/torch/utils/data/dataloader.py\u001b[0m in \u001b[0;36m_next_data\u001b[0;34m(self)\u001b[0m\n\u001b[1;32m   1326\u001b[0m \u001b[0;34m\u001b[0m\u001b[0m\n\u001b[1;32m   1327\u001b[0m             \u001b[0;32massert\u001b[0m \u001b[0;32mnot\u001b[0m \u001b[0mself\u001b[0m\u001b[0;34m.\u001b[0m\u001b[0m_shutdown\u001b[0m \u001b[0;32mand\u001b[0m \u001b[0mself\u001b[0m\u001b[0;34m.\u001b[0m\u001b[0m_tasks_outstanding\u001b[0m \u001b[0;34m>\u001b[0m \u001b[0;36m0\u001b[0m\u001b[0;34m\u001b[0m\u001b[0;34m\u001b[0m\u001b[0m\n\u001b[0;32m-> 1328\u001b[0;31m             \u001b[0midx\u001b[0m\u001b[0;34m,\u001b[0m \u001b[0mdata\u001b[0m \u001b[0;34m=\u001b[0m \u001b[0mself\u001b[0m\u001b[0;34m.\u001b[0m\u001b[0m_get_data\u001b[0m\u001b[0;34m(\u001b[0m\u001b[0;34m)\u001b[0m\u001b[0;34m\u001b[0m\u001b[0;34m\u001b[0m\u001b[0m\n\u001b[0m\u001b[1;32m   1329\u001b[0m             \u001b[0mself\u001b[0m\u001b[0;34m.\u001b[0m\u001b[0m_tasks_outstanding\u001b[0m \u001b[0;34m-=\u001b[0m \u001b[0;36m1\u001b[0m\u001b[0;34m\u001b[0m\u001b[0;34m\u001b[0m\u001b[0m\n\u001b[1;32m   1330\u001b[0m             \u001b[0;32mif\u001b[0m \u001b[0mself\u001b[0m\u001b[0;34m.\u001b[0m\u001b[0m_dataset_kind\u001b[0m \u001b[0;34m==\u001b[0m \u001b[0m_DatasetKind\u001b[0m\u001b[0;34m.\u001b[0m\u001b[0mIterable\u001b[0m\u001b[0;34m:\u001b[0m\u001b[0;34m\u001b[0m\u001b[0;34m\u001b[0m\u001b[0m\n",
            "\u001b[0;32m/usr/local/lib/python3.10/dist-packages/torch/utils/data/dataloader.py\u001b[0m in \u001b[0;36m_get_data\u001b[0;34m(self)\u001b[0m\n\u001b[1;32m   1292\u001b[0m         \u001b[0;32melse\u001b[0m\u001b[0;34m:\u001b[0m\u001b[0;34m\u001b[0m\u001b[0;34m\u001b[0m\u001b[0m\n\u001b[1;32m   1293\u001b[0m             \u001b[0;32mwhile\u001b[0m \u001b[0;32mTrue\u001b[0m\u001b[0;34m:\u001b[0m\u001b[0;34m\u001b[0m\u001b[0;34m\u001b[0m\u001b[0m\n\u001b[0;32m-> 1294\u001b[0;31m                 \u001b[0msuccess\u001b[0m\u001b[0;34m,\u001b[0m \u001b[0mdata\u001b[0m \u001b[0;34m=\u001b[0m \u001b[0mself\u001b[0m\u001b[0;34m.\u001b[0m\u001b[0m_try_get_data\u001b[0m\u001b[0;34m(\u001b[0m\u001b[0;34m)\u001b[0m\u001b[0;34m\u001b[0m\u001b[0;34m\u001b[0m\u001b[0m\n\u001b[0m\u001b[1;32m   1295\u001b[0m                 \u001b[0;32mif\u001b[0m \u001b[0msuccess\u001b[0m\u001b[0;34m:\u001b[0m\u001b[0;34m\u001b[0m\u001b[0;34m\u001b[0m\u001b[0m\n\u001b[1;32m   1296\u001b[0m                     \u001b[0;32mreturn\u001b[0m \u001b[0mdata\u001b[0m\u001b[0;34m\u001b[0m\u001b[0;34m\u001b[0m\u001b[0m\n",
            "\u001b[0;32m/usr/local/lib/python3.10/dist-packages/torch/utils/data/dataloader.py\u001b[0m in \u001b[0;36m_try_get_data\u001b[0;34m(self, timeout)\u001b[0m\n\u001b[1;32m   1130\u001b[0m         \u001b[0;31m#   (bool: whether successfully get data, any: data if successful else None)\u001b[0m\u001b[0;34m\u001b[0m\u001b[0;34m\u001b[0m\u001b[0m\n\u001b[1;32m   1131\u001b[0m         \u001b[0;32mtry\u001b[0m\u001b[0;34m:\u001b[0m\u001b[0;34m\u001b[0m\u001b[0;34m\u001b[0m\u001b[0m\n\u001b[0;32m-> 1132\u001b[0;31m             \u001b[0mdata\u001b[0m \u001b[0;34m=\u001b[0m \u001b[0mself\u001b[0m\u001b[0;34m.\u001b[0m\u001b[0m_data_queue\u001b[0m\u001b[0;34m.\u001b[0m\u001b[0mget\u001b[0m\u001b[0;34m(\u001b[0m\u001b[0mtimeout\u001b[0m\u001b[0;34m=\u001b[0m\u001b[0mtimeout\u001b[0m\u001b[0;34m)\u001b[0m\u001b[0;34m\u001b[0m\u001b[0;34m\u001b[0m\u001b[0m\n\u001b[0m\u001b[1;32m   1133\u001b[0m             \u001b[0;32mreturn\u001b[0m \u001b[0;34m(\u001b[0m\u001b[0;32mTrue\u001b[0m\u001b[0;34m,\u001b[0m \u001b[0mdata\u001b[0m\u001b[0;34m)\u001b[0m\u001b[0;34m\u001b[0m\u001b[0;34m\u001b[0m\u001b[0m\n\u001b[1;32m   1134\u001b[0m         \u001b[0;32mexcept\u001b[0m \u001b[0mException\u001b[0m \u001b[0;32mas\u001b[0m \u001b[0me\u001b[0m\u001b[0;34m:\u001b[0m\u001b[0;34m\u001b[0m\u001b[0;34m\u001b[0m\u001b[0m\n",
            "\u001b[0;32m/usr/lib/python3.10/multiprocessing/queues.py\u001b[0m in \u001b[0;36mget\u001b[0;34m(self, block, timeout)\u001b[0m\n\u001b[1;32m    111\u001b[0m                 \u001b[0;32mif\u001b[0m \u001b[0mblock\u001b[0m\u001b[0;34m:\u001b[0m\u001b[0;34m\u001b[0m\u001b[0;34m\u001b[0m\u001b[0m\n\u001b[1;32m    112\u001b[0m                     \u001b[0mtimeout\u001b[0m \u001b[0;34m=\u001b[0m \u001b[0mdeadline\u001b[0m \u001b[0;34m-\u001b[0m \u001b[0mtime\u001b[0m\u001b[0;34m.\u001b[0m\u001b[0mmonotonic\u001b[0m\u001b[0;34m(\u001b[0m\u001b[0;34m)\u001b[0m\u001b[0;34m\u001b[0m\u001b[0;34m\u001b[0m\u001b[0m\n\u001b[0;32m--> 113\u001b[0;31m                     \u001b[0;32mif\u001b[0m \u001b[0;32mnot\u001b[0m \u001b[0mself\u001b[0m\u001b[0;34m.\u001b[0m\u001b[0m_poll\u001b[0m\u001b[0;34m(\u001b[0m\u001b[0mtimeout\u001b[0m\u001b[0;34m)\u001b[0m\u001b[0;34m:\u001b[0m\u001b[0;34m\u001b[0m\u001b[0;34m\u001b[0m\u001b[0m\n\u001b[0m\u001b[1;32m    114\u001b[0m                         \u001b[0;32mraise\u001b[0m \u001b[0mEmpty\u001b[0m\u001b[0;34m\u001b[0m\u001b[0;34m\u001b[0m\u001b[0m\n\u001b[1;32m    115\u001b[0m                 \u001b[0;32melif\u001b[0m \u001b[0;32mnot\u001b[0m \u001b[0mself\u001b[0m\u001b[0;34m.\u001b[0m\u001b[0m_poll\u001b[0m\u001b[0;34m(\u001b[0m\u001b[0;34m)\u001b[0m\u001b[0;34m:\u001b[0m\u001b[0;34m\u001b[0m\u001b[0;34m\u001b[0m\u001b[0m\n",
            "\u001b[0;32m/usr/lib/python3.10/multiprocessing/connection.py\u001b[0m in \u001b[0;36mpoll\u001b[0;34m(self, timeout)\u001b[0m\n\u001b[1;32m    255\u001b[0m         \u001b[0mself\u001b[0m\u001b[0;34m.\u001b[0m\u001b[0m_check_closed\u001b[0m\u001b[0;34m(\u001b[0m\u001b[0;34m)\u001b[0m\u001b[0;34m\u001b[0m\u001b[0;34m\u001b[0m\u001b[0m\n\u001b[1;32m    256\u001b[0m         \u001b[0mself\u001b[0m\u001b[0;34m.\u001b[0m\u001b[0m_check_readable\u001b[0m\u001b[0;34m(\u001b[0m\u001b[0;34m)\u001b[0m\u001b[0;34m\u001b[0m\u001b[0;34m\u001b[0m\u001b[0m\n\u001b[0;32m--> 257\u001b[0;31m         \u001b[0;32mreturn\u001b[0m \u001b[0mself\u001b[0m\u001b[0;34m.\u001b[0m\u001b[0m_poll\u001b[0m\u001b[0;34m(\u001b[0m\u001b[0mtimeout\u001b[0m\u001b[0;34m)\u001b[0m\u001b[0;34m\u001b[0m\u001b[0;34m\u001b[0m\u001b[0m\n\u001b[0m\u001b[1;32m    258\u001b[0m \u001b[0;34m\u001b[0m\u001b[0m\n\u001b[1;32m    259\u001b[0m     \u001b[0;32mdef\u001b[0m \u001b[0m__enter__\u001b[0m\u001b[0;34m(\u001b[0m\u001b[0mself\u001b[0m\u001b[0;34m)\u001b[0m\u001b[0;34m:\u001b[0m\u001b[0;34m\u001b[0m\u001b[0;34m\u001b[0m\u001b[0m\n",
            "\u001b[0;32m/usr/lib/python3.10/multiprocessing/connection.py\u001b[0m in \u001b[0;36m_poll\u001b[0;34m(self, timeout)\u001b[0m\n\u001b[1;32m    422\u001b[0m \u001b[0;34m\u001b[0m\u001b[0m\n\u001b[1;32m    423\u001b[0m     \u001b[0;32mdef\u001b[0m \u001b[0m_poll\u001b[0m\u001b[0;34m(\u001b[0m\u001b[0mself\u001b[0m\u001b[0;34m,\u001b[0m \u001b[0mtimeout\u001b[0m\u001b[0;34m)\u001b[0m\u001b[0;34m:\u001b[0m\u001b[0;34m\u001b[0m\u001b[0;34m\u001b[0m\u001b[0m\n\u001b[0;32m--> 424\u001b[0;31m         \u001b[0mr\u001b[0m \u001b[0;34m=\u001b[0m \u001b[0mwait\u001b[0m\u001b[0;34m(\u001b[0m\u001b[0;34m[\u001b[0m\u001b[0mself\u001b[0m\u001b[0;34m]\u001b[0m\u001b[0;34m,\u001b[0m \u001b[0mtimeout\u001b[0m\u001b[0;34m)\u001b[0m\u001b[0;34m\u001b[0m\u001b[0;34m\u001b[0m\u001b[0m\n\u001b[0m\u001b[1;32m    425\u001b[0m         \u001b[0;32mreturn\u001b[0m \u001b[0mbool\u001b[0m\u001b[0;34m(\u001b[0m\u001b[0mr\u001b[0m\u001b[0;34m)\u001b[0m\u001b[0;34m\u001b[0m\u001b[0;34m\u001b[0m\u001b[0m\n\u001b[1;32m    426\u001b[0m \u001b[0;34m\u001b[0m\u001b[0m\n",
            "\u001b[0;32m/usr/lib/python3.10/multiprocessing/connection.py\u001b[0m in \u001b[0;36mwait\u001b[0;34m(object_list, timeout)\u001b[0m\n\u001b[1;32m    929\u001b[0m \u001b[0;34m\u001b[0m\u001b[0m\n\u001b[1;32m    930\u001b[0m             \u001b[0;32mwhile\u001b[0m \u001b[0;32mTrue\u001b[0m\u001b[0;34m:\u001b[0m\u001b[0;34m\u001b[0m\u001b[0;34m\u001b[0m\u001b[0m\n\u001b[0;32m--> 931\u001b[0;31m                 \u001b[0mready\u001b[0m \u001b[0;34m=\u001b[0m \u001b[0mselector\u001b[0m\u001b[0;34m.\u001b[0m\u001b[0mselect\u001b[0m\u001b[0;34m(\u001b[0m\u001b[0mtimeout\u001b[0m\u001b[0;34m)\u001b[0m\u001b[0;34m\u001b[0m\u001b[0;34m\u001b[0m\u001b[0m\n\u001b[0m\u001b[1;32m    932\u001b[0m                 \u001b[0;32mif\u001b[0m \u001b[0mready\u001b[0m\u001b[0;34m:\u001b[0m\u001b[0;34m\u001b[0m\u001b[0;34m\u001b[0m\u001b[0m\n\u001b[1;32m    933\u001b[0m                     \u001b[0;32mreturn\u001b[0m \u001b[0;34m[\u001b[0m\u001b[0mkey\u001b[0m\u001b[0;34m.\u001b[0m\u001b[0mfileobj\u001b[0m \u001b[0;32mfor\u001b[0m \u001b[0;34m(\u001b[0m\u001b[0mkey\u001b[0m\u001b[0;34m,\u001b[0m \u001b[0mevents\u001b[0m\u001b[0;34m)\u001b[0m \u001b[0;32min\u001b[0m \u001b[0mready\u001b[0m\u001b[0;34m]\u001b[0m\u001b[0;34m\u001b[0m\u001b[0;34m\u001b[0m\u001b[0m\n",
            "\u001b[0;32m/usr/lib/python3.10/selectors.py\u001b[0m in \u001b[0;36mselect\u001b[0;34m(self, timeout)\u001b[0m\n\u001b[1;32m    414\u001b[0m         \u001b[0mready\u001b[0m \u001b[0;34m=\u001b[0m \u001b[0;34m[\u001b[0m\u001b[0;34m]\u001b[0m\u001b[0;34m\u001b[0m\u001b[0;34m\u001b[0m\u001b[0m\n\u001b[1;32m    415\u001b[0m         \u001b[0;32mtry\u001b[0m\u001b[0;34m:\u001b[0m\u001b[0;34m\u001b[0m\u001b[0;34m\u001b[0m\u001b[0m\n\u001b[0;32m--> 416\u001b[0;31m             \u001b[0mfd_event_list\u001b[0m \u001b[0;34m=\u001b[0m \u001b[0mself\u001b[0m\u001b[0;34m.\u001b[0m\u001b[0m_selector\u001b[0m\u001b[0;34m.\u001b[0m\u001b[0mpoll\u001b[0m\u001b[0;34m(\u001b[0m\u001b[0mtimeout\u001b[0m\u001b[0;34m)\u001b[0m\u001b[0;34m\u001b[0m\u001b[0;34m\u001b[0m\u001b[0m\n\u001b[0m\u001b[1;32m    417\u001b[0m         \u001b[0;32mexcept\u001b[0m \u001b[0mInterruptedError\u001b[0m\u001b[0;34m:\u001b[0m\u001b[0;34m\u001b[0m\u001b[0;34m\u001b[0m\u001b[0m\n\u001b[1;32m    418\u001b[0m             \u001b[0;32mreturn\u001b[0m \u001b[0mready\u001b[0m\u001b[0;34m\u001b[0m\u001b[0;34m\u001b[0m\u001b[0m\n",
            "\u001b[0;31mKeyboardInterrupt\u001b[0m: "
          ]
        }
      ],
      "source": [
        "start = time.time()\n",
        "for epoch in range(30):\n",
        "    age_loss = train_loop_age(train_loader, age_model, nn.MSELoss(), opt_age, epoch)\n",
        "    val_loss = validation_loop_age(val_loader, age_model, nn.MSELoss(), device)\n",
        "    age_lr_scheduler.step(val_loss)\n",
        "\n",
        "    early_stopping(val_loss)\n",
        "    if early_stopping.early_stop:\n",
        "        print(\"Early stopping triggered\")\n",
        "        save_model(epoch, age_model, opt_age, '/content/drive/MyDrive/DL_DATA/DL_Face_REC/Model/resnet50/age_model_checkpoint.pth')\n",
        "        break\n",
        "\n",
        "    save_model(epoch, age_model, opt_age,\n",
        "               f'/content/drive/MyDrive/DL_DATA/DL_Face_REC/Model/resnet50/age_model_checkpoint_epoch_{epoch+1}_loss_{round(age_loss, 2)}.pth',\n",
        "               age_loss, val_loss)\n",
        "    print(f'Epoch : {epoch+1}, Loss : {age_loss}, Val_loss : {val_loss}')\n",
        "\n",
        "total_time = time.time() - start\n",
        "\n",
        "# 전체 학습 시간 출력\n",
        "hours, rem = divmod(total_time, 3600)\n",
        "minutes, seconds = divmod(rem, 60)\n",
        "print(\"Total training time: {:0>2}:{:0>2}:{:05.2f}\".format(int(hours),int(minutes),seconds))"
      ]
    },
    {
      "cell_type": "code",
      "execution_count": null,
      "metadata": {
        "id": "kHEuSHa4nG19"
      },
      "outputs": [],
      "source": [
        "# # age 모델 이어서 학습\n",
        "# def load_model(model, optimizer, path):\n",
        "#     checkpoint = torch.load(path)\n",
        "#     model.load_state_dict(checkpoint['model_state_dict'])\n",
        "#     optimizer.load_state_dict(checkpoint['optimizer_state_dict'])\n",
        "#     epoch = checkpoint['epoch']\n",
        "#     return model, optimizer, epoch"
      ]
    },
    {
      "cell_type": "code",
      "execution_count": null,
      "metadata": {
        "id": "YrgqihhJTwfA"
      },
      "outputs": [],
      "source": [
        "# # 모델과 옵티마이저 초기화\n",
        "# age_model = Age_Net().to(device)\n",
        "# opt_age = optim.Adam(age_model.parameters(), lr=0.0003)\n",
        "\n",
        "# # 체크포인트 불러오기\n",
        "# age_model, opt_age, start_epoch = load_model(age_model, opt_age, '/content/drive/MyDrive/DL_DATA/Model/age_model_checkpoint_epoch_11.pth')\n",
        "\n",
        "# # 학습 재개\n",
        "# start = time.time()\n",
        "# for epoch in range(start_epoch + 1, start_epoch + 28):\n",
        "#     age_loss = train_loop_age(train_loader, age_model, nn.MSELoss(), opt_age, epoch)\n",
        "#     val_loss = validation_loop_age(val_loader, age_model, nn.MSELoss(), device)\n",
        "#     age_lr_scheduler.step(val_loss)\n",
        "\n",
        "#     early_stopping(val_loss)\n",
        "#     if early_stopping.early_stop:\n",
        "#         print(\"Early stopping triggered\")\n",
        "#         save_model(epoch, age_model, opt_age, '/content/drive/MyDrive/DL_DATA/Model/age_model_checkpoint.pth')\n",
        "#         break\n",
        "\n",
        "#     save_model(epoch, age_model, opt_age, f'/content/drive/MyDrive/DL_DATA/Model/age_model_checkpoint_epoch_{epoch+1}.pth')\n",
        "#     print(f'Epoch : {epoch + 1}, Loss : {age_loss}, Val_loss : {val_loss}')\n",
        "\n",
        "# total_time = time.time() - start\n",
        "\n",
        "# hours, rem = divmod(total_time, 3600)\n",
        "# minutes, seconds = divmod(rem, 60)\n",
        "# print(\"Total training time: {:0>2}:{:0>2}:{:05.2f}\".format(int(hours),int(minutes),seconds))"
      ]
    },
    {
      "cell_type": "markdown",
      "metadata": {
        "id": "AZ7hC1KBgo8H"
      },
      "source": [
        "# 기존 모델\n",
        "- Epoch : 1, Loss : 183.76921428333628, Val_loss : 138.7342578125\n",
        "- Epoch : 2, Loss : 128.2447030203683, Val_loss : 143.2067679595947\n",
        "- Epoch : 3, Loss : 122.56000444965977, Val_loss : 96.83059211730956\n",
        "- Epoch : 4, Loss : 87.70850903081437, Val_loss : 78.38082936604818\n",
        "- Epoch : 5, Loss : 68.04693739406598, Val_loss : 72.64038126627604\n",
        "- Epoch : 6, Loss : 57.276853927027304, Val_loss : 68.96054336547851\n",
        "- Epoch : 7, Loss : 51.59112667961242, Val_loss : 57.317286516825355\n",
        "- Epoch : 8, Loss : 47.01944582150006, Val_loss : 55.66085670471191\n",
        "- Epoch : 9, Loss : 42.54086226624803, Val_loss : 53.47876875559489\n",
        "- Epoch : 10, Loss : 39.80607411198723, Val_loss : 54.47281494140625\n",
        "- Epoch : 11, Loss : 36.430880546569824, Val_loss : 54.80409914652507\n",
        "- Epoch : 12, Loss : 33.627891385631195, Val_loss : 48.48928497411028\n",
        "- Epoch : 13, Loss : 31.059670966142303, Val_loss : 51.898619048203095\n",
        "- Epoch : 14, Loss : 28.95467392198599, Val_loss : 48.438780072369156\n",
        "- Epoch : 15, Loss : 26.666760903255195, Val_loss : 49.81154549272755\n",
        "- Epoch : 16, Loss : 24.51864461989919, Val_loss : 43.89916703067249"
      ]
    },
    {
      "cell_type": "code",
      "execution_count": null,
      "metadata": {
        "id": "DysRMF7v1Tdi"
      },
      "outputs": [],
      "source": []
    }
  ],
  "metadata": {
    "accelerator": "GPU",
    "colab": {
      "gpuType": "T4",
      "provenance": []
    },
    "kernelspec": {
      "display_name": "Python 3",
      "name": "python3"
    },
    "language_info": {
      "codemirror_mode": {
        "name": "ipython",
        "version": 3
      },
      "file_extension": ".py",
      "mimetype": "text/x-python",
      "name": "python",
      "nbconvert_exporter": "python",
      "pygments_lexer": "ipython3",
      "version": "3.10.12"
    }
  },
  "nbformat": 4,
  "nbformat_minor": 0
}