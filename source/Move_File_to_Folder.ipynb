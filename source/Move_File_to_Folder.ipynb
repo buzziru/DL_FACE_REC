{
  "nbformat": 4,
  "nbformat_minor": 0,
  "metadata": {
    "colab": {
      "provenance": []
    },
    "kernelspec": {
      "name": "python3",
      "display_name": "Python 3"
    },
    "language_info": {
      "name": "python"
    }
  },
  "cells": [
    {
      "cell_type": "code",
      "execution_count": null,
      "metadata": {
        "id": "W_HtZFDxXejN"
      },
      "outputs": [],
      "source": [
        "from pathlib import Path\n",
        "from glob import glob\n",
        "import os\n",
        "import shutil\n",
        "\n",
        "# 파일을 새로운 폴더로 분류 및 이동하는 함수\n",
        "def move_files_to_folders(base_path, file_type):\n",
        "    base = Path(base_path)\n",
        "    processed_files = set()\n",
        "\n",
        "    for file_path in base.rglob(file_type):\n",
        "        if file_path in processed_files:\n",
        "            continue  # 이미 처리된 파일은 건너뜀\n",
        "\n",
        "        first_element = file_path.stem.split('_')[0]\n",
        "        new_folder = file_path.parent / first_element\n",
        "        new_folder.mkdir(exist_ok=True)\n",
        "\n",
        "        new_file_path = new_folder / file_path.name\n",
        "        if not new_file_path.exists():\n",
        "            shutil.move(file_path, new_file_path)\n",
        "            print(f\"Moved: {file_path} -> {new_file_path}\")\n",
        "        else:\n",
        "            print(f\"File already exists: {new_file_path}\")\n",
        "\n",
        "        processed_files.add(new_file_path)\n",
        "\n",
        "source_path = '/content/drive/MyDrive/DL_DATA/DL_Face_REC/train/source'\n",
        "move_files_to_folders(source_path, '*.png')"
      ]
    },
    {
      "cell_type": "code",
      "source": [
        "label_path = '/content/drive/MyDrive/DL_DATA/DL_Face_REC/train/label'\n",
        "move_files_to_folders(label_path, '*.json')"
      ],
      "metadata": {
        "id": "dGWLo1HVX0Wi"
      },
      "execution_count": null,
      "outputs": []
    },
    {
      "cell_type": "code",
      "source": [
        "def find_nested_directories(base_path):\n",
        "    nested_dirs = []\n",
        "    for root, dirs, _ in os.walk(base_path):\n",
        "        for d in dirs:\n",
        "            dir_path = Path(root) / d\n",
        "            if any(Path(dir_path).iterdir()):\n",
        "                nested_dirs.append(dir_path)\n",
        "\n",
        "    return nested_dirs\n",
        "\n",
        "base_path = '/content/drive/MyDrive/DL_DATA/DL_Face_REC/train/source/'\n",
        "nested_dirs = find_nested_directories(base_path)\n",
        "\n",
        "if nested_dirs:\n",
        "    print(\"중첩된 폴더 목록:\")\n",
        "    for d in nested_dirs:\n",
        "        print(d)\n",
        "else:\n",
        "    print(\"중첩된 폴더가 없습니다.\")"
      ],
      "metadata": {
        "id": "Y615y60xhq61"
      },
      "execution_count": null,
      "outputs": []
    },
    {
      "cell_type": "code",
      "source": [
        "def flatten_directory(source_folder):\n",
        "    for root, dirs, files in os.walk(source_folder, topdown=False):\n",
        "        for name in files:\n",
        "            original_path = Path(root) / name\n",
        "            target_path = Path(source_folder) / name\n",
        "\n",
        "            if target_path.exists():\n",
        "                new_name = target_path.stem + \"_duplicate\" + target_path.suffix\n",
        "                target_path = target_path.with_name(new_name)\n",
        "\n",
        "            shutil.move(str(original_path), str(target_path))\n",
        "            print(f\"Moved: {original_path} -> {target_path}\")\n",
        "\n",
        "        for name in dirs:\n",
        "            dir_path = Path(root) / name\n",
        "            if len(os.listdir(dir_path)) == 0:\n",
        "                dir_path.rmdir()\n",
        "                print(f\"Removed empty directory: {dir_path}\")\n",
        "\n",
        "for folder in nested_dirs:\n",
        "    flatten_directory(folder)"
      ],
      "metadata": {
        "id": "PHbJ5lYcjVJL"
      },
      "execution_count": null,
      "outputs": []
    },
    {
      "cell_type": "code",
      "source": [
        "!ls -al /content/drive/Othercomputers/집/dataset_face/118.안면 인식 에이징(aging) 이미지 데이터/01-1.정식개방데이터/Training/02.라벨링데이터"
      ],
      "metadata": {
        "colab": {
          "base_uri": "https://localhost:8080/"
        },
        "id": "xObc_CjflQNg",
        "outputId": "99b2ab0c-a7a1-405e-b65a-bc75b9f0a017"
      },
      "execution_count": 18,
      "outputs": [
        {
          "output_type": "stream",
          "name": "stdout",
          "text": [
            "/bin/bash: -c: line 1: syntax error near unexpected token `('\n",
            "/bin/bash: -c: line 1: `ls -al /content/drive/Othercomputers/집/dataset_face/118.안면 인식 에이징(aging) 이미지 데이터/01-1.정식개방데이터/Training/02.라벨링데이터'\n"
          ]
        }
      ]
    },
    {
      "cell_type": "code",
      "source": [
        "label_path = '/content/drive/Othercomputers/집/dataset_face/118.안면 인식 에이징(aging) 이미지 데이터/01-1.정식개방데이터/Training/02.라벨링데이터'\n",
        "label_zips = sorted(glob(label_path + '/*.zip'))\n",
        "label_zips"
      ],
      "metadata": {
        "id": "SpX0ThZ6l-ZE"
      },
      "execution_count": null,
      "outputs": []
    },
    {
      "cell_type": "code",
      "source": [
        "label_zips.index('/content/drive/Othercomputers/집/dataset_face/118.안면 인식 에이징(aging) 이미지 데이터/01-1.정식개방데이터/Training/02.라벨링데이터/TL_0623.zip')"
      ],
      "metadata": {
        "colab": {
          "base_uri": "https://localhost:8080/"
        },
        "id": "6CbSTREymJCo",
        "outputId": "aa67d4eb-1d53-415d-a149-423b05742c42"
      },
      "execution_count": 22,
      "outputs": [
        {
          "output_type": "execute_result",
          "data": {
            "text/plain": [
              "575"
            ]
          },
          "metadata": {},
          "execution_count": 22
        }
      ]
    },
    {
      "cell_type": "code",
      "source": [
        "import zipfile\n",
        "\n",
        "class ZipDataset():\n",
        "    def __init__(self, zip_paths, dst_path):\n",
        "        self.zip_paths = zip_paths\n",
        "        self.dst_path = dst_path\n",
        "\n",
        "    def extract(self):\n",
        "        for path in self.zip_paths:\n",
        "            folder_name = os.path.splitext(os.path.basename(path))[0].split('_')[1]\n",
        "            final_path = os.path.join(self.dst_path, folder_name)\n",
        "            os.makedirs(final_path, exist_ok=True)\n",
        "\n",
        "            with zipfile.ZipFile(path, 'r') as zip_ref:\n",
        "                zip_ref.extractall(final_path)\n",
        "            print(path)\n",
        "\n",
        "dst_path_label = '/content/drive/MyDrive/DL_DATA/DL_Face_REC/train/label'\n",
        "zip_image = ZipDataset(label_zips[575:], dst_path_label)\n",
        "zip_image.extract()"
      ],
      "metadata": {
        "id": "qNvEoj8wlpxP"
      },
      "execution_count": null,
      "outputs": []
    },
    {
      "cell_type": "code",
      "source": [
        "!ls -al /content/drive/MyDrive/DL_DATA/DL_Face_REC/train/label"
      ],
      "metadata": {
        "id": "u_ZAamc-oVKY"
      },
      "execution_count": null,
      "outputs": []
    },
    {
      "cell_type": "code",
      "source": [
        "label_path = '/content/drive/MyDrive/DL_DATA/DL_Face_REC/train/label'\n",
        "move_files_to_folders(label_path, '*.json')"
      ],
      "metadata": {
        "id": "aASfwzAqp_hs"
      },
      "execution_count": null,
      "outputs": []
    },
    {
      "cell_type": "code",
      "source": [
        "base_path = '/content/drive/MyDrive/DL_DATA/DL_Face_REC/train/label/'\n",
        "nested_dirs = find_nested_directories(base_path)\n",
        "\n",
        "if nested_dirs:\n",
        "    print(\"중첩된 폴더 목록:\")\n",
        "    for d in nested_dirs:\n",
        "        print(d)\n",
        "else:\n",
        "    print(\"중첩된 폴더가 없습니다.\")"
      ],
      "metadata": {
        "id": "UT1dvxlqq1Um"
      },
      "execution_count": null,
      "outputs": []
    },
    {
      "cell_type": "code",
      "source": [
        "for folder in nested_dirs:\n",
        "    flatten_directory(folder)"
      ],
      "metadata": {
        "id": "4ZHJX9irsCVO"
      },
      "execution_count": null,
      "outputs": []
    },
    {
      "cell_type": "code",
      "source": [
        "!ls -al /content/drive/MyDrive/DL_DATA/DL_Face_REC/train/label"
      ],
      "metadata": {
        "id": "OLhhzXb3sK1F"
      },
      "execution_count": null,
      "outputs": []
    },
    {
      "cell_type": "code",
      "source": [
        "val_img_path = '/content/drive/Othercomputers/집/dataset_face/118.안면 인식 에이징(aging) 이미지 데이터/01-1.정식개방데이터/Validation/01.원천데이터'\n",
        "val_lbl_path = '/content/drive/Othercomputers/집/dataset_face/118.안면 인식 에이징(aging) 이미지 데이터/01-1.정식개방데이터/Validation/02.라벨링데이터'\n",
        "val_images = sorted(glob(val_img_path + '/*.zip'))\n",
        "val_labels = sorted(glob(val_lbl_path + '/*.zip'))"
      ],
      "metadata": {
        "id": "ibsc6do-uNP3"
      },
      "execution_count": 40,
      "outputs": []
    },
    {
      "cell_type": "code",
      "source": [
        "val_images[-5:], val_labels[-5:]"
      ],
      "metadata": {
        "colab": {
          "base_uri": "https://localhost:8080/"
        },
        "id": "ziM3RqIquotp",
        "outputId": "cde9681a-f9ee-418d-fb94-8a6e96473d67"
      },
      "execution_count": 42,
      "outputs": [
        {
          "output_type": "execute_result",
          "data": {
            "text/plain": [
              "(['/content/drive/Othercomputers/집/dataset_face/118.안면 인식 에이징(aging) 이미지 데이터/01-1.정식개방데이터/Validation/01.원천데이터/VS_1000.zip',\n",
              "  '/content/drive/Othercomputers/집/dataset_face/118.안면 인식 에이징(aging) 이미지 데이터/01-1.정식개방데이터/Validation/01.원천데이터/VS_1001.zip',\n",
              "  '/content/drive/Othercomputers/집/dataset_face/118.안면 인식 에이징(aging) 이미지 데이터/01-1.정식개방데이터/Validation/01.원천데이터/VS_1002.zip',\n",
              "  '/content/drive/Othercomputers/집/dataset_face/118.안면 인식 에이징(aging) 이미지 데이터/01-1.정식개방데이터/Validation/01.원천데이터/VS_1003.zip',\n",
              "  '/content/drive/Othercomputers/집/dataset_face/118.안면 인식 에이징(aging) 이미지 데이터/01-1.정식개방데이터/Validation/01.원천데이터/VS_1004.zip'],\n",
              " ['/content/drive/Othercomputers/집/dataset_face/118.안면 인식 에이징(aging) 이미지 데이터/01-1.정식개방데이터/Validation/02.라벨링데이터/VL_1000.zip',\n",
              "  '/content/drive/Othercomputers/집/dataset_face/118.안면 인식 에이징(aging) 이미지 데이터/01-1.정식개방데이터/Validation/02.라벨링데이터/VL_1001.zip',\n",
              "  '/content/drive/Othercomputers/집/dataset_face/118.안면 인식 에이징(aging) 이미지 데이터/01-1.정식개방데이터/Validation/02.라벨링데이터/VL_1002.zip',\n",
              "  '/content/drive/Othercomputers/집/dataset_face/118.안면 인식 에이징(aging) 이미지 데이터/01-1.정식개방데이터/Validation/02.라벨링데이터/VL_1003.zip',\n",
              "  '/content/drive/Othercomputers/집/dataset_face/118.안면 인식 에이징(aging) 이미지 데이터/01-1.정식개방데이터/Validation/02.라벨링데이터/VL_1004.zip'])"
            ]
          },
          "metadata": {},
          "execution_count": 42
        }
      ]
    },
    {
      "cell_type": "code",
      "source": [
        "class ZipDataset():\n",
        "    def __init__(self, zip_paths, dst_path):\n",
        "        self.zip_paths = zip_paths\n",
        "        self.dst_path = dst_path\n",
        "\n",
        "    def extract(self):\n",
        "        for path in self.zip_paths:\n",
        "            folder_name = os.path.splitext(os.path.basename(path))[0].split('_')[1]\n",
        "            final_path = os.path.join(self.dst_path, folder_name)\n",
        "            os.makedirs(final_path, exist_ok=True)\n",
        "\n",
        "            with zipfile.ZipFile(path, 'r') as zip_ref:\n",
        "                zip_ref.extractall(final_path)\n",
        "            print(path)\n",
        "dst_path_image = '/content/drive/MyDrive/DL_DATA/DL_Face_REC/val/source'\n",
        "val_image = ZipDataset(val_images, dst_path_image)\n",
        "val_image.extract()"
      ],
      "metadata": {
        "colab": {
          "base_uri": "https://localhost:8080/"
        },
        "id": "5H4CsO43tRJD",
        "outputId": "fda66153-2063-4e47-8146-ada05c064d98"
      },
      "execution_count": 43,
      "outputs": [
        {
          "output_type": "stream",
          "name": "stdout",
          "text": [
            "/content/drive/Othercomputers/집/dataset_face/118.안면 인식 에이징(aging) 이미지 데이터/01-1.정식개방데이터/Validation/01.원천데이터/VS_0895.zip\n",
            "/content/drive/Othercomputers/집/dataset_face/118.안면 인식 에이징(aging) 이미지 데이터/01-1.정식개방데이터/Validation/01.원천데이터/VS_0897.zip\n",
            "/content/drive/Othercomputers/집/dataset_face/118.안면 인식 에이징(aging) 이미지 데이터/01-1.정식개방데이터/Validation/01.원천데이터/VS_0898.zip\n",
            "/content/drive/Othercomputers/집/dataset_face/118.안면 인식 에이징(aging) 이미지 데이터/01-1.정식개방데이터/Validation/01.원천데이터/VS_0899.zip\n",
            "/content/drive/Othercomputers/집/dataset_face/118.안면 인식 에이징(aging) 이미지 데이터/01-1.정식개방데이터/Validation/01.원천데이터/VS_0900.zip\n",
            "/content/drive/Othercomputers/집/dataset_face/118.안면 인식 에이징(aging) 이미지 데이터/01-1.정식개방데이터/Validation/01.원천데이터/VS_0901.zip\n",
            "/content/drive/Othercomputers/집/dataset_face/118.안면 인식 에이징(aging) 이미지 데이터/01-1.정식개방데이터/Validation/01.원천데이터/VS_0903.zip\n",
            "/content/drive/Othercomputers/집/dataset_face/118.안면 인식 에이징(aging) 이미지 데이터/01-1.정식개방데이터/Validation/01.원천데이터/VS_0904.zip\n",
            "/content/drive/Othercomputers/집/dataset_face/118.안면 인식 에이징(aging) 이미지 데이터/01-1.정식개방데이터/Validation/01.원천데이터/VS_0906.zip\n",
            "/content/drive/Othercomputers/집/dataset_face/118.안면 인식 에이징(aging) 이미지 데이터/01-1.정식개방데이터/Validation/01.원천데이터/VS_0907.zip\n",
            "/content/drive/Othercomputers/집/dataset_face/118.안면 인식 에이징(aging) 이미지 데이터/01-1.정식개방데이터/Validation/01.원천데이터/VS_0909.zip\n",
            "/content/drive/Othercomputers/집/dataset_face/118.안면 인식 에이징(aging) 이미지 데이터/01-1.정식개방데이터/Validation/01.원천데이터/VS_0910.zip\n",
            "/content/drive/Othercomputers/집/dataset_face/118.안면 인식 에이징(aging) 이미지 데이터/01-1.정식개방데이터/Validation/01.원천데이터/VS_0913.zip\n",
            "/content/drive/Othercomputers/집/dataset_face/118.안면 인식 에이징(aging) 이미지 데이터/01-1.정식개방데이터/Validation/01.원천데이터/VS_0915.zip\n",
            "/content/drive/Othercomputers/집/dataset_face/118.안면 인식 에이징(aging) 이미지 데이터/01-1.정식개방데이터/Validation/01.원천데이터/VS_0916.zip\n",
            "/content/drive/Othercomputers/집/dataset_face/118.안면 인식 에이징(aging) 이미지 데이터/01-1.정식개방데이터/Validation/01.원천데이터/VS_0918.zip\n",
            "/content/drive/Othercomputers/집/dataset_face/118.안면 인식 에이징(aging) 이미지 데이터/01-1.정식개방데이터/Validation/01.원천데이터/VS_0919.zip\n",
            "/content/drive/Othercomputers/집/dataset_face/118.안면 인식 에이징(aging) 이미지 데이터/01-1.정식개방데이터/Validation/01.원천데이터/VS_0920.zip\n",
            "/content/drive/Othercomputers/집/dataset_face/118.안면 인식 에이징(aging) 이미지 데이터/01-1.정식개방데이터/Validation/01.원천데이터/VS_0921.zip\n",
            "/content/drive/Othercomputers/집/dataset_face/118.안면 인식 에이징(aging) 이미지 데이터/01-1.정식개방데이터/Validation/01.원천데이터/VS_0922.zip\n",
            "/content/drive/Othercomputers/집/dataset_face/118.안면 인식 에이징(aging) 이미지 데이터/01-1.정식개방데이터/Validation/01.원천데이터/VS_0923.zip\n",
            "/content/drive/Othercomputers/집/dataset_face/118.안면 인식 에이징(aging) 이미지 데이터/01-1.정식개방데이터/Validation/01.원천데이터/VS_0924.zip\n",
            "/content/drive/Othercomputers/집/dataset_face/118.안면 인식 에이징(aging) 이미지 데이터/01-1.정식개방데이터/Validation/01.원천데이터/VS_0925.zip\n",
            "/content/drive/Othercomputers/집/dataset_face/118.안면 인식 에이징(aging) 이미지 데이터/01-1.정식개방데이터/Validation/01.원천데이터/VS_0926.zip\n",
            "/content/drive/Othercomputers/집/dataset_face/118.안면 인식 에이징(aging) 이미지 데이터/01-1.정식개방데이터/Validation/01.원천데이터/VS_0927.zip\n",
            "/content/drive/Othercomputers/집/dataset_face/118.안면 인식 에이징(aging) 이미지 데이터/01-1.정식개방데이터/Validation/01.원천데이터/VS_0928.zip\n",
            "/content/drive/Othercomputers/집/dataset_face/118.안면 인식 에이징(aging) 이미지 데이터/01-1.정식개방데이터/Validation/01.원천데이터/VS_0929.zip\n",
            "/content/drive/Othercomputers/집/dataset_face/118.안면 인식 에이징(aging) 이미지 데이터/01-1.정식개방데이터/Validation/01.원천데이터/VS_0930.zip\n",
            "/content/drive/Othercomputers/집/dataset_face/118.안면 인식 에이징(aging) 이미지 데이터/01-1.정식개방데이터/Validation/01.원천데이터/VS_0931.zip\n",
            "/content/drive/Othercomputers/집/dataset_face/118.안면 인식 에이징(aging) 이미지 데이터/01-1.정식개방데이터/Validation/01.원천데이터/VS_0932.zip\n",
            "/content/drive/Othercomputers/집/dataset_face/118.안면 인식 에이징(aging) 이미지 데이터/01-1.정식개방데이터/Validation/01.원천데이터/VS_0933.zip\n",
            "/content/drive/Othercomputers/집/dataset_face/118.안면 인식 에이징(aging) 이미지 데이터/01-1.정식개방데이터/Validation/01.원천데이터/VS_0934.zip\n",
            "/content/drive/Othercomputers/집/dataset_face/118.안면 인식 에이징(aging) 이미지 데이터/01-1.정식개방데이터/Validation/01.원천데이터/VS_0935.zip\n",
            "/content/drive/Othercomputers/집/dataset_face/118.안면 인식 에이징(aging) 이미지 데이터/01-1.정식개방데이터/Validation/01.원천데이터/VS_0937.zip\n",
            "/content/drive/Othercomputers/집/dataset_face/118.안면 인식 에이징(aging) 이미지 데이터/01-1.정식개방데이터/Validation/01.원천데이터/VS_0938.zip\n",
            "/content/drive/Othercomputers/집/dataset_face/118.안면 인식 에이징(aging) 이미지 데이터/01-1.정식개방데이터/Validation/01.원천데이터/VS_0939.zip\n",
            "/content/drive/Othercomputers/집/dataset_face/118.안면 인식 에이징(aging) 이미지 데이터/01-1.정식개방데이터/Validation/01.원천데이터/VS_0940.zip\n",
            "/content/drive/Othercomputers/집/dataset_face/118.안면 인식 에이징(aging) 이미지 데이터/01-1.정식개방데이터/Validation/01.원천데이터/VS_0941.zip\n",
            "/content/drive/Othercomputers/집/dataset_face/118.안면 인식 에이징(aging) 이미지 데이터/01-1.정식개방데이터/Validation/01.원천데이터/VS_0942.zip\n",
            "/content/drive/Othercomputers/집/dataset_face/118.안면 인식 에이징(aging) 이미지 데이터/01-1.정식개방데이터/Validation/01.원천데이터/VS_0943.zip\n",
            "/content/drive/Othercomputers/집/dataset_face/118.안면 인식 에이징(aging) 이미지 데이터/01-1.정식개방데이터/Validation/01.원천데이터/VS_0944.zip\n",
            "/content/drive/Othercomputers/집/dataset_face/118.안면 인식 에이징(aging) 이미지 데이터/01-1.정식개방데이터/Validation/01.원천데이터/VS_0945.zip\n",
            "/content/drive/Othercomputers/집/dataset_face/118.안면 인식 에이징(aging) 이미지 데이터/01-1.정식개방데이터/Validation/01.원천데이터/VS_0946.zip\n",
            "/content/drive/Othercomputers/집/dataset_face/118.안면 인식 에이징(aging) 이미지 데이터/01-1.정식개방데이터/Validation/01.원천데이터/VS_0947.zip\n",
            "/content/drive/Othercomputers/집/dataset_face/118.안면 인식 에이징(aging) 이미지 데이터/01-1.정식개방데이터/Validation/01.원천데이터/VS_0948.zip\n",
            "/content/drive/Othercomputers/집/dataset_face/118.안면 인식 에이징(aging) 이미지 데이터/01-1.정식개방데이터/Validation/01.원천데이터/VS_0949.zip\n",
            "/content/drive/Othercomputers/집/dataset_face/118.안면 인식 에이징(aging) 이미지 데이터/01-1.정식개방데이터/Validation/01.원천데이터/VS_0950.zip\n",
            "/content/drive/Othercomputers/집/dataset_face/118.안면 인식 에이징(aging) 이미지 데이터/01-1.정식개방데이터/Validation/01.원천데이터/VS_0951.zip\n",
            "/content/drive/Othercomputers/집/dataset_face/118.안면 인식 에이징(aging) 이미지 데이터/01-1.정식개방데이터/Validation/01.원천데이터/VS_0952.zip\n",
            "/content/drive/Othercomputers/집/dataset_face/118.안면 인식 에이징(aging) 이미지 데이터/01-1.정식개방데이터/Validation/01.원천데이터/VS_0953.zip\n",
            "/content/drive/Othercomputers/집/dataset_face/118.안면 인식 에이징(aging) 이미지 데이터/01-1.정식개방데이터/Validation/01.원천데이터/VS_0954.zip\n",
            "/content/drive/Othercomputers/집/dataset_face/118.안면 인식 에이징(aging) 이미지 데이터/01-1.정식개방데이터/Validation/01.원천데이터/VS_0955.zip\n",
            "/content/drive/Othercomputers/집/dataset_face/118.안면 인식 에이징(aging) 이미지 데이터/01-1.정식개방데이터/Validation/01.원천데이터/VS_0956.zip\n",
            "/content/drive/Othercomputers/집/dataset_face/118.안면 인식 에이징(aging) 이미지 데이터/01-1.정식개방데이터/Validation/01.원천데이터/VS_0957.zip\n",
            "/content/drive/Othercomputers/집/dataset_face/118.안면 인식 에이징(aging) 이미지 데이터/01-1.정식개방데이터/Validation/01.원천데이터/VS_0958.zip\n",
            "/content/drive/Othercomputers/집/dataset_face/118.안면 인식 에이징(aging) 이미지 데이터/01-1.정식개방데이터/Validation/01.원천데이터/VS_0959.zip\n",
            "/content/drive/Othercomputers/집/dataset_face/118.안면 인식 에이징(aging) 이미지 데이터/01-1.정식개방데이터/Validation/01.원천데이터/VS_0960.zip\n",
            "/content/drive/Othercomputers/집/dataset_face/118.안면 인식 에이징(aging) 이미지 데이터/01-1.정식개방데이터/Validation/01.원천데이터/VS_0961.zip\n",
            "/content/drive/Othercomputers/집/dataset_face/118.안면 인식 에이징(aging) 이미지 데이터/01-1.정식개방데이터/Validation/01.원천데이터/VS_0962.zip\n",
            "/content/drive/Othercomputers/집/dataset_face/118.안면 인식 에이징(aging) 이미지 데이터/01-1.정식개방데이터/Validation/01.원천데이터/VS_0963.zip\n",
            "/content/drive/Othercomputers/집/dataset_face/118.안면 인식 에이징(aging) 이미지 데이터/01-1.정식개방데이터/Validation/01.원천데이터/VS_0964.zip\n",
            "/content/drive/Othercomputers/집/dataset_face/118.안면 인식 에이징(aging) 이미지 데이터/01-1.정식개방데이터/Validation/01.원천데이터/VS_0965.zip\n",
            "/content/drive/Othercomputers/집/dataset_face/118.안면 인식 에이징(aging) 이미지 데이터/01-1.정식개방데이터/Validation/01.원천데이터/VS_0966.zip\n",
            "/content/drive/Othercomputers/집/dataset_face/118.안면 인식 에이징(aging) 이미지 데이터/01-1.정식개방데이터/Validation/01.원천데이터/VS_0967.zip\n",
            "/content/drive/Othercomputers/집/dataset_face/118.안면 인식 에이징(aging) 이미지 데이터/01-1.정식개방데이터/Validation/01.원천데이터/VS_0968.zip\n",
            "/content/drive/Othercomputers/집/dataset_face/118.안면 인식 에이징(aging) 이미지 데이터/01-1.정식개방데이터/Validation/01.원천데이터/VS_0969.zip\n",
            "/content/drive/Othercomputers/집/dataset_face/118.안면 인식 에이징(aging) 이미지 데이터/01-1.정식개방데이터/Validation/01.원천데이터/VS_0970.zip\n",
            "/content/drive/Othercomputers/집/dataset_face/118.안면 인식 에이징(aging) 이미지 데이터/01-1.정식개방데이터/Validation/01.원천데이터/VS_0971.zip\n",
            "/content/drive/Othercomputers/집/dataset_face/118.안면 인식 에이징(aging) 이미지 데이터/01-1.정식개방데이터/Validation/01.원천데이터/VS_0972.zip\n",
            "/content/drive/Othercomputers/집/dataset_face/118.안면 인식 에이징(aging) 이미지 데이터/01-1.정식개방데이터/Validation/01.원천데이터/VS_0973.zip\n",
            "/content/drive/Othercomputers/집/dataset_face/118.안면 인식 에이징(aging) 이미지 데이터/01-1.정식개방데이터/Validation/01.원천데이터/VS_0974.zip\n",
            "/content/drive/Othercomputers/집/dataset_face/118.안면 인식 에이징(aging) 이미지 데이터/01-1.정식개방데이터/Validation/01.원천데이터/VS_0975.zip\n",
            "/content/drive/Othercomputers/집/dataset_face/118.안면 인식 에이징(aging) 이미지 데이터/01-1.정식개방데이터/Validation/01.원천데이터/VS_0976.zip\n",
            "/content/drive/Othercomputers/집/dataset_face/118.안면 인식 에이징(aging) 이미지 데이터/01-1.정식개방데이터/Validation/01.원천데이터/VS_0977.zip\n",
            "/content/drive/Othercomputers/집/dataset_face/118.안면 인식 에이징(aging) 이미지 데이터/01-1.정식개방데이터/Validation/01.원천데이터/VS_0978.zip\n",
            "/content/drive/Othercomputers/집/dataset_face/118.안면 인식 에이징(aging) 이미지 데이터/01-1.정식개방데이터/Validation/01.원천데이터/VS_0979.zip\n",
            "/content/drive/Othercomputers/집/dataset_face/118.안면 인식 에이징(aging) 이미지 데이터/01-1.정식개방데이터/Validation/01.원천데이터/VS_0980.zip\n",
            "/content/drive/Othercomputers/집/dataset_face/118.안면 인식 에이징(aging) 이미지 데이터/01-1.정식개방데이터/Validation/01.원천데이터/VS_0981.zip\n",
            "/content/drive/Othercomputers/집/dataset_face/118.안면 인식 에이징(aging) 이미지 데이터/01-1.정식개방데이터/Validation/01.원천데이터/VS_0982.zip\n",
            "/content/drive/Othercomputers/집/dataset_face/118.안면 인식 에이징(aging) 이미지 데이터/01-1.정식개방데이터/Validation/01.원천데이터/VS_0983.zip\n",
            "/content/drive/Othercomputers/집/dataset_face/118.안면 인식 에이징(aging) 이미지 데이터/01-1.정식개방데이터/Validation/01.원천데이터/VS_0984.zip\n",
            "/content/drive/Othercomputers/집/dataset_face/118.안면 인식 에이징(aging) 이미지 데이터/01-1.정식개방데이터/Validation/01.원천데이터/VS_0985.zip\n",
            "/content/drive/Othercomputers/집/dataset_face/118.안면 인식 에이징(aging) 이미지 데이터/01-1.정식개방데이터/Validation/01.원천데이터/VS_0986.zip\n",
            "/content/drive/Othercomputers/집/dataset_face/118.안면 인식 에이징(aging) 이미지 데이터/01-1.정식개방데이터/Validation/01.원천데이터/VS_0987.zip\n",
            "/content/drive/Othercomputers/집/dataset_face/118.안면 인식 에이징(aging) 이미지 데이터/01-1.정식개방데이터/Validation/01.원천데이터/VS_0988.zip\n",
            "/content/drive/Othercomputers/집/dataset_face/118.안면 인식 에이징(aging) 이미지 데이터/01-1.정식개방데이터/Validation/01.원천데이터/VS_0989.zip\n",
            "/content/drive/Othercomputers/집/dataset_face/118.안면 인식 에이징(aging) 이미지 데이터/01-1.정식개방데이터/Validation/01.원천데이터/VS_0990.zip\n",
            "/content/drive/Othercomputers/집/dataset_face/118.안면 인식 에이징(aging) 이미지 데이터/01-1.정식개방데이터/Validation/01.원천데이터/VS_0991.zip\n",
            "/content/drive/Othercomputers/집/dataset_face/118.안면 인식 에이징(aging) 이미지 데이터/01-1.정식개방데이터/Validation/01.원천데이터/VS_0992.zip\n",
            "/content/drive/Othercomputers/집/dataset_face/118.안면 인식 에이징(aging) 이미지 데이터/01-1.정식개방데이터/Validation/01.원천데이터/VS_0993.zip\n",
            "/content/drive/Othercomputers/집/dataset_face/118.안면 인식 에이징(aging) 이미지 데이터/01-1.정식개방데이터/Validation/01.원천데이터/VS_0994.zip\n",
            "/content/drive/Othercomputers/집/dataset_face/118.안면 인식 에이징(aging) 이미지 데이터/01-1.정식개방데이터/Validation/01.원천데이터/VS_0995.zip\n",
            "/content/drive/Othercomputers/집/dataset_face/118.안면 인식 에이징(aging) 이미지 데이터/01-1.정식개방데이터/Validation/01.원천데이터/VS_0996.zip\n",
            "/content/drive/Othercomputers/집/dataset_face/118.안면 인식 에이징(aging) 이미지 데이터/01-1.정식개방데이터/Validation/01.원천데이터/VS_0997.zip\n",
            "/content/drive/Othercomputers/집/dataset_face/118.안면 인식 에이징(aging) 이미지 데이터/01-1.정식개방데이터/Validation/01.원천데이터/VS_0998.zip\n",
            "/content/drive/Othercomputers/집/dataset_face/118.안면 인식 에이징(aging) 이미지 데이터/01-1.정식개방데이터/Validation/01.원천데이터/VS_0999.zip\n",
            "/content/drive/Othercomputers/집/dataset_face/118.안면 인식 에이징(aging) 이미지 데이터/01-1.정식개방데이터/Validation/01.원천데이터/VS_1000.zip\n",
            "/content/drive/Othercomputers/집/dataset_face/118.안면 인식 에이징(aging) 이미지 데이터/01-1.정식개방데이터/Validation/01.원천데이터/VS_1001.zip\n",
            "/content/drive/Othercomputers/집/dataset_face/118.안면 인식 에이징(aging) 이미지 데이터/01-1.정식개방데이터/Validation/01.원천데이터/VS_1002.zip\n",
            "/content/drive/Othercomputers/집/dataset_face/118.안면 인식 에이징(aging) 이미지 데이터/01-1.정식개방데이터/Validation/01.원천데이터/VS_1003.zip\n",
            "/content/drive/Othercomputers/집/dataset_face/118.안면 인식 에이징(aging) 이미지 데이터/01-1.정식개방데이터/Validation/01.원천데이터/VS_1004.zip\n"
          ]
        }
      ]
    },
    {
      "cell_type": "code",
      "source": [
        "dst_path_label = '/content/drive/MyDrive/DL_DATA/DL_Face_REC/val/label'\n",
        "val_label = ZipDataset(val_labels, dst_path_label)\n",
        "val_label.extract()"
      ],
      "metadata": {
        "colab": {
          "base_uri": "https://localhost:8080/"
        },
        "id": "Kybz_lM3vAY1",
        "outputId": "6ef1f001-b3f7-45e4-c00f-a9f024119db6"
      },
      "execution_count": 44,
      "outputs": [
        {
          "output_type": "stream",
          "name": "stdout",
          "text": [
            "/content/drive/Othercomputers/집/dataset_face/118.안면 인식 에이징(aging) 이미지 데이터/01-1.정식개방데이터/Validation/02.라벨링데이터/VL_0895.zip\n",
            "/content/drive/Othercomputers/집/dataset_face/118.안면 인식 에이징(aging) 이미지 데이터/01-1.정식개방데이터/Validation/02.라벨링데이터/VL_0897.zip\n",
            "/content/drive/Othercomputers/집/dataset_face/118.안면 인식 에이징(aging) 이미지 데이터/01-1.정식개방데이터/Validation/02.라벨링데이터/VL_0898.zip\n",
            "/content/drive/Othercomputers/집/dataset_face/118.안면 인식 에이징(aging) 이미지 데이터/01-1.정식개방데이터/Validation/02.라벨링데이터/VL_0899.zip\n",
            "/content/drive/Othercomputers/집/dataset_face/118.안면 인식 에이징(aging) 이미지 데이터/01-1.정식개방데이터/Validation/02.라벨링데이터/VL_0900.zip\n",
            "/content/drive/Othercomputers/집/dataset_face/118.안면 인식 에이징(aging) 이미지 데이터/01-1.정식개방데이터/Validation/02.라벨링데이터/VL_0901.zip\n",
            "/content/drive/Othercomputers/집/dataset_face/118.안면 인식 에이징(aging) 이미지 데이터/01-1.정식개방데이터/Validation/02.라벨링데이터/VL_0903.zip\n",
            "/content/drive/Othercomputers/집/dataset_face/118.안면 인식 에이징(aging) 이미지 데이터/01-1.정식개방데이터/Validation/02.라벨링데이터/VL_0904.zip\n",
            "/content/drive/Othercomputers/집/dataset_face/118.안면 인식 에이징(aging) 이미지 데이터/01-1.정식개방데이터/Validation/02.라벨링데이터/VL_0906.zip\n",
            "/content/drive/Othercomputers/집/dataset_face/118.안면 인식 에이징(aging) 이미지 데이터/01-1.정식개방데이터/Validation/02.라벨링데이터/VL_0907.zip\n",
            "/content/drive/Othercomputers/집/dataset_face/118.안면 인식 에이징(aging) 이미지 데이터/01-1.정식개방데이터/Validation/02.라벨링데이터/VL_0909.zip\n",
            "/content/drive/Othercomputers/집/dataset_face/118.안면 인식 에이징(aging) 이미지 데이터/01-1.정식개방데이터/Validation/02.라벨링데이터/VL_0910.zip\n",
            "/content/drive/Othercomputers/집/dataset_face/118.안면 인식 에이징(aging) 이미지 데이터/01-1.정식개방데이터/Validation/02.라벨링데이터/VL_0913.zip\n",
            "/content/drive/Othercomputers/집/dataset_face/118.안면 인식 에이징(aging) 이미지 데이터/01-1.정식개방데이터/Validation/02.라벨링데이터/VL_0915.zip\n",
            "/content/drive/Othercomputers/집/dataset_face/118.안면 인식 에이징(aging) 이미지 데이터/01-1.정식개방데이터/Validation/02.라벨링데이터/VL_0916.zip\n",
            "/content/drive/Othercomputers/집/dataset_face/118.안면 인식 에이징(aging) 이미지 데이터/01-1.정식개방데이터/Validation/02.라벨링데이터/VL_0918.zip\n",
            "/content/drive/Othercomputers/집/dataset_face/118.안면 인식 에이징(aging) 이미지 데이터/01-1.정식개방데이터/Validation/02.라벨링데이터/VL_0919.zip\n",
            "/content/drive/Othercomputers/집/dataset_face/118.안면 인식 에이징(aging) 이미지 데이터/01-1.정식개방데이터/Validation/02.라벨링데이터/VL_0920.zip\n",
            "/content/drive/Othercomputers/집/dataset_face/118.안면 인식 에이징(aging) 이미지 데이터/01-1.정식개방데이터/Validation/02.라벨링데이터/VL_0921.zip\n",
            "/content/drive/Othercomputers/집/dataset_face/118.안면 인식 에이징(aging) 이미지 데이터/01-1.정식개방데이터/Validation/02.라벨링데이터/VL_0922.zip\n",
            "/content/drive/Othercomputers/집/dataset_face/118.안면 인식 에이징(aging) 이미지 데이터/01-1.정식개방데이터/Validation/02.라벨링데이터/VL_0923.zip\n",
            "/content/drive/Othercomputers/집/dataset_face/118.안면 인식 에이징(aging) 이미지 데이터/01-1.정식개방데이터/Validation/02.라벨링데이터/VL_0924.zip\n",
            "/content/drive/Othercomputers/집/dataset_face/118.안면 인식 에이징(aging) 이미지 데이터/01-1.정식개방데이터/Validation/02.라벨링데이터/VL_0925.zip\n",
            "/content/drive/Othercomputers/집/dataset_face/118.안면 인식 에이징(aging) 이미지 데이터/01-1.정식개방데이터/Validation/02.라벨링데이터/VL_0926.zip\n",
            "/content/drive/Othercomputers/집/dataset_face/118.안면 인식 에이징(aging) 이미지 데이터/01-1.정식개방데이터/Validation/02.라벨링데이터/VL_0927.zip\n",
            "/content/drive/Othercomputers/집/dataset_face/118.안면 인식 에이징(aging) 이미지 데이터/01-1.정식개방데이터/Validation/02.라벨링데이터/VL_0928.zip\n",
            "/content/drive/Othercomputers/집/dataset_face/118.안면 인식 에이징(aging) 이미지 데이터/01-1.정식개방데이터/Validation/02.라벨링데이터/VL_0929.zip\n",
            "/content/drive/Othercomputers/집/dataset_face/118.안면 인식 에이징(aging) 이미지 데이터/01-1.정식개방데이터/Validation/02.라벨링데이터/VL_0930.zip\n",
            "/content/drive/Othercomputers/집/dataset_face/118.안면 인식 에이징(aging) 이미지 데이터/01-1.정식개방데이터/Validation/02.라벨링데이터/VL_0931.zip\n",
            "/content/drive/Othercomputers/집/dataset_face/118.안면 인식 에이징(aging) 이미지 데이터/01-1.정식개방데이터/Validation/02.라벨링데이터/VL_0932.zip\n",
            "/content/drive/Othercomputers/집/dataset_face/118.안면 인식 에이징(aging) 이미지 데이터/01-1.정식개방데이터/Validation/02.라벨링데이터/VL_0933.zip\n",
            "/content/drive/Othercomputers/집/dataset_face/118.안면 인식 에이징(aging) 이미지 데이터/01-1.정식개방데이터/Validation/02.라벨링데이터/VL_0934.zip\n",
            "/content/drive/Othercomputers/집/dataset_face/118.안면 인식 에이징(aging) 이미지 데이터/01-1.정식개방데이터/Validation/02.라벨링데이터/VL_0935.zip\n",
            "/content/drive/Othercomputers/집/dataset_face/118.안면 인식 에이징(aging) 이미지 데이터/01-1.정식개방데이터/Validation/02.라벨링데이터/VL_0937.zip\n",
            "/content/drive/Othercomputers/집/dataset_face/118.안면 인식 에이징(aging) 이미지 데이터/01-1.정식개방데이터/Validation/02.라벨링데이터/VL_0938.zip\n",
            "/content/drive/Othercomputers/집/dataset_face/118.안면 인식 에이징(aging) 이미지 데이터/01-1.정식개방데이터/Validation/02.라벨링데이터/VL_0939.zip\n",
            "/content/drive/Othercomputers/집/dataset_face/118.안면 인식 에이징(aging) 이미지 데이터/01-1.정식개방데이터/Validation/02.라벨링데이터/VL_0940.zip\n",
            "/content/drive/Othercomputers/집/dataset_face/118.안면 인식 에이징(aging) 이미지 데이터/01-1.정식개방데이터/Validation/02.라벨링데이터/VL_0941.zip\n",
            "/content/drive/Othercomputers/집/dataset_face/118.안면 인식 에이징(aging) 이미지 데이터/01-1.정식개방데이터/Validation/02.라벨링데이터/VL_0942.zip\n",
            "/content/drive/Othercomputers/집/dataset_face/118.안면 인식 에이징(aging) 이미지 데이터/01-1.정식개방데이터/Validation/02.라벨링데이터/VL_0943.zip\n",
            "/content/drive/Othercomputers/집/dataset_face/118.안면 인식 에이징(aging) 이미지 데이터/01-1.정식개방데이터/Validation/02.라벨링데이터/VL_0944.zip\n",
            "/content/drive/Othercomputers/집/dataset_face/118.안면 인식 에이징(aging) 이미지 데이터/01-1.정식개방데이터/Validation/02.라벨링데이터/VL_0945.zip\n",
            "/content/drive/Othercomputers/집/dataset_face/118.안면 인식 에이징(aging) 이미지 데이터/01-1.정식개방데이터/Validation/02.라벨링데이터/VL_0946.zip\n",
            "/content/drive/Othercomputers/집/dataset_face/118.안면 인식 에이징(aging) 이미지 데이터/01-1.정식개방데이터/Validation/02.라벨링데이터/VL_0947.zip\n",
            "/content/drive/Othercomputers/집/dataset_face/118.안면 인식 에이징(aging) 이미지 데이터/01-1.정식개방데이터/Validation/02.라벨링데이터/VL_0948.zip\n",
            "/content/drive/Othercomputers/집/dataset_face/118.안면 인식 에이징(aging) 이미지 데이터/01-1.정식개방데이터/Validation/02.라벨링데이터/VL_0949.zip\n",
            "/content/drive/Othercomputers/집/dataset_face/118.안면 인식 에이징(aging) 이미지 데이터/01-1.정식개방데이터/Validation/02.라벨링데이터/VL_0950.zip\n",
            "/content/drive/Othercomputers/집/dataset_face/118.안면 인식 에이징(aging) 이미지 데이터/01-1.정식개방데이터/Validation/02.라벨링데이터/VL_0951.zip\n",
            "/content/drive/Othercomputers/집/dataset_face/118.안면 인식 에이징(aging) 이미지 데이터/01-1.정식개방데이터/Validation/02.라벨링데이터/VL_0952.zip\n",
            "/content/drive/Othercomputers/집/dataset_face/118.안면 인식 에이징(aging) 이미지 데이터/01-1.정식개방데이터/Validation/02.라벨링데이터/VL_0953.zip\n",
            "/content/drive/Othercomputers/집/dataset_face/118.안면 인식 에이징(aging) 이미지 데이터/01-1.정식개방데이터/Validation/02.라벨링데이터/VL_0954.zip\n",
            "/content/drive/Othercomputers/집/dataset_face/118.안면 인식 에이징(aging) 이미지 데이터/01-1.정식개방데이터/Validation/02.라벨링데이터/VL_0955.zip\n",
            "/content/drive/Othercomputers/집/dataset_face/118.안면 인식 에이징(aging) 이미지 데이터/01-1.정식개방데이터/Validation/02.라벨링데이터/VL_0956.zip\n",
            "/content/drive/Othercomputers/집/dataset_face/118.안면 인식 에이징(aging) 이미지 데이터/01-1.정식개방데이터/Validation/02.라벨링데이터/VL_0957.zip\n",
            "/content/drive/Othercomputers/집/dataset_face/118.안면 인식 에이징(aging) 이미지 데이터/01-1.정식개방데이터/Validation/02.라벨링데이터/VL_0958.zip\n",
            "/content/drive/Othercomputers/집/dataset_face/118.안면 인식 에이징(aging) 이미지 데이터/01-1.정식개방데이터/Validation/02.라벨링데이터/VL_0959.zip\n",
            "/content/drive/Othercomputers/집/dataset_face/118.안면 인식 에이징(aging) 이미지 데이터/01-1.정식개방데이터/Validation/02.라벨링데이터/VL_0960.zip\n",
            "/content/drive/Othercomputers/집/dataset_face/118.안면 인식 에이징(aging) 이미지 데이터/01-1.정식개방데이터/Validation/02.라벨링데이터/VL_0961.zip\n",
            "/content/drive/Othercomputers/집/dataset_face/118.안면 인식 에이징(aging) 이미지 데이터/01-1.정식개방데이터/Validation/02.라벨링데이터/VL_0962.zip\n",
            "/content/drive/Othercomputers/집/dataset_face/118.안면 인식 에이징(aging) 이미지 데이터/01-1.정식개방데이터/Validation/02.라벨링데이터/VL_0963.zip\n",
            "/content/drive/Othercomputers/집/dataset_face/118.안면 인식 에이징(aging) 이미지 데이터/01-1.정식개방데이터/Validation/02.라벨링데이터/VL_0964.zip\n",
            "/content/drive/Othercomputers/집/dataset_face/118.안면 인식 에이징(aging) 이미지 데이터/01-1.정식개방데이터/Validation/02.라벨링데이터/VL_0965.zip\n",
            "/content/drive/Othercomputers/집/dataset_face/118.안면 인식 에이징(aging) 이미지 데이터/01-1.정식개방데이터/Validation/02.라벨링데이터/VL_0966.zip\n",
            "/content/drive/Othercomputers/집/dataset_face/118.안면 인식 에이징(aging) 이미지 데이터/01-1.정식개방데이터/Validation/02.라벨링데이터/VL_0967.zip\n",
            "/content/drive/Othercomputers/집/dataset_face/118.안면 인식 에이징(aging) 이미지 데이터/01-1.정식개방데이터/Validation/02.라벨링데이터/VL_0968.zip\n",
            "/content/drive/Othercomputers/집/dataset_face/118.안면 인식 에이징(aging) 이미지 데이터/01-1.정식개방데이터/Validation/02.라벨링데이터/VL_0969.zip\n",
            "/content/drive/Othercomputers/집/dataset_face/118.안면 인식 에이징(aging) 이미지 데이터/01-1.정식개방데이터/Validation/02.라벨링데이터/VL_0970.zip\n",
            "/content/drive/Othercomputers/집/dataset_face/118.안면 인식 에이징(aging) 이미지 데이터/01-1.정식개방데이터/Validation/02.라벨링데이터/VL_0971.zip\n",
            "/content/drive/Othercomputers/집/dataset_face/118.안면 인식 에이징(aging) 이미지 데이터/01-1.정식개방데이터/Validation/02.라벨링데이터/VL_0972.zip\n",
            "/content/drive/Othercomputers/집/dataset_face/118.안면 인식 에이징(aging) 이미지 데이터/01-1.정식개방데이터/Validation/02.라벨링데이터/VL_0973.zip\n",
            "/content/drive/Othercomputers/집/dataset_face/118.안면 인식 에이징(aging) 이미지 데이터/01-1.정식개방데이터/Validation/02.라벨링데이터/VL_0974.zip\n",
            "/content/drive/Othercomputers/집/dataset_face/118.안면 인식 에이징(aging) 이미지 데이터/01-1.정식개방데이터/Validation/02.라벨링데이터/VL_0975.zip\n",
            "/content/drive/Othercomputers/집/dataset_face/118.안면 인식 에이징(aging) 이미지 데이터/01-1.정식개방데이터/Validation/02.라벨링데이터/VL_0976.zip\n",
            "/content/drive/Othercomputers/집/dataset_face/118.안면 인식 에이징(aging) 이미지 데이터/01-1.정식개방데이터/Validation/02.라벨링데이터/VL_0977.zip\n",
            "/content/drive/Othercomputers/집/dataset_face/118.안면 인식 에이징(aging) 이미지 데이터/01-1.정식개방데이터/Validation/02.라벨링데이터/VL_0978.zip\n",
            "/content/drive/Othercomputers/집/dataset_face/118.안면 인식 에이징(aging) 이미지 데이터/01-1.정식개방데이터/Validation/02.라벨링데이터/VL_0979.zip\n",
            "/content/drive/Othercomputers/집/dataset_face/118.안면 인식 에이징(aging) 이미지 데이터/01-1.정식개방데이터/Validation/02.라벨링데이터/VL_0980.zip\n",
            "/content/drive/Othercomputers/집/dataset_face/118.안면 인식 에이징(aging) 이미지 데이터/01-1.정식개방데이터/Validation/02.라벨링데이터/VL_0981.zip\n",
            "/content/drive/Othercomputers/집/dataset_face/118.안면 인식 에이징(aging) 이미지 데이터/01-1.정식개방데이터/Validation/02.라벨링데이터/VL_0982.zip\n",
            "/content/drive/Othercomputers/집/dataset_face/118.안면 인식 에이징(aging) 이미지 데이터/01-1.정식개방데이터/Validation/02.라벨링데이터/VL_0983.zip\n",
            "/content/drive/Othercomputers/집/dataset_face/118.안면 인식 에이징(aging) 이미지 데이터/01-1.정식개방데이터/Validation/02.라벨링데이터/VL_0984.zip\n",
            "/content/drive/Othercomputers/집/dataset_face/118.안면 인식 에이징(aging) 이미지 데이터/01-1.정식개방데이터/Validation/02.라벨링데이터/VL_0985.zip\n",
            "/content/drive/Othercomputers/집/dataset_face/118.안면 인식 에이징(aging) 이미지 데이터/01-1.정식개방데이터/Validation/02.라벨링데이터/VL_0986.zip\n",
            "/content/drive/Othercomputers/집/dataset_face/118.안면 인식 에이징(aging) 이미지 데이터/01-1.정식개방데이터/Validation/02.라벨링데이터/VL_0987.zip\n",
            "/content/drive/Othercomputers/집/dataset_face/118.안면 인식 에이징(aging) 이미지 데이터/01-1.정식개방데이터/Validation/02.라벨링데이터/VL_0988.zip\n",
            "/content/drive/Othercomputers/집/dataset_face/118.안면 인식 에이징(aging) 이미지 데이터/01-1.정식개방데이터/Validation/02.라벨링데이터/VL_0989.zip\n",
            "/content/drive/Othercomputers/집/dataset_face/118.안면 인식 에이징(aging) 이미지 데이터/01-1.정식개방데이터/Validation/02.라벨링데이터/VL_0990.zip\n",
            "/content/drive/Othercomputers/집/dataset_face/118.안면 인식 에이징(aging) 이미지 데이터/01-1.정식개방데이터/Validation/02.라벨링데이터/VL_0991.zip\n",
            "/content/drive/Othercomputers/집/dataset_face/118.안면 인식 에이징(aging) 이미지 데이터/01-1.정식개방데이터/Validation/02.라벨링데이터/VL_0992.zip\n",
            "/content/drive/Othercomputers/집/dataset_face/118.안면 인식 에이징(aging) 이미지 데이터/01-1.정식개방데이터/Validation/02.라벨링데이터/VL_0993.zip\n",
            "/content/drive/Othercomputers/집/dataset_face/118.안면 인식 에이징(aging) 이미지 데이터/01-1.정식개방데이터/Validation/02.라벨링데이터/VL_0994.zip\n",
            "/content/drive/Othercomputers/집/dataset_face/118.안면 인식 에이징(aging) 이미지 데이터/01-1.정식개방데이터/Validation/02.라벨링데이터/VL_0995.zip\n",
            "/content/drive/Othercomputers/집/dataset_face/118.안면 인식 에이징(aging) 이미지 데이터/01-1.정식개방데이터/Validation/02.라벨링데이터/VL_0996.zip\n",
            "/content/drive/Othercomputers/집/dataset_face/118.안면 인식 에이징(aging) 이미지 데이터/01-1.정식개방데이터/Validation/02.라벨링데이터/VL_0997.zip\n",
            "/content/drive/Othercomputers/집/dataset_face/118.안면 인식 에이징(aging) 이미지 데이터/01-1.정식개방데이터/Validation/02.라벨링데이터/VL_0998.zip\n",
            "/content/drive/Othercomputers/집/dataset_face/118.안면 인식 에이징(aging) 이미지 데이터/01-1.정식개방데이터/Validation/02.라벨링데이터/VL_0999.zip\n",
            "/content/drive/Othercomputers/집/dataset_face/118.안면 인식 에이징(aging) 이미지 데이터/01-1.정식개방데이터/Validation/02.라벨링데이터/VL_1000.zip\n",
            "/content/drive/Othercomputers/집/dataset_face/118.안면 인식 에이징(aging) 이미지 데이터/01-1.정식개방데이터/Validation/02.라벨링데이터/VL_1001.zip\n",
            "/content/drive/Othercomputers/집/dataset_face/118.안면 인식 에이징(aging) 이미지 데이터/01-1.정식개방데이터/Validation/02.라벨링데이터/VL_1002.zip\n",
            "/content/drive/Othercomputers/집/dataset_face/118.안면 인식 에이징(aging) 이미지 데이터/01-1.정식개방데이터/Validation/02.라벨링데이터/VL_1003.zip\n",
            "/content/drive/Othercomputers/집/dataset_face/118.안면 인식 에이징(aging) 이미지 데이터/01-1.정식개방데이터/Validation/02.라벨링데이터/VL_1004.zip\n"
          ]
        }
      ]
    },
    {
      "cell_type": "code",
      "source": [],
      "metadata": {
        "id": "L5_z1i2MxPJA"
      },
      "execution_count": null,
      "outputs": []
    }
  ]
}